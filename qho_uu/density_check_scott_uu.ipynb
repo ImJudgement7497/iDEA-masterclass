{
 "cells": [
  {
   "cell_type": "code",
   "execution_count": 1,
   "metadata": {},
   "outputs": [],
   "source": [
    "import numpy as np\n",
    "import matplotlib.pyplot as plt\n",
    "import iDEA\n",
    "import ipywidgets as widgets\n",
    "from IPython.display import display\n",
    "import pickle\n",
    "import time\n",
    "from pathlib import Path\n",
    "import collections_iDEA\n",
    "import collections_iDEA.multiplets as mm\n",
    "import os\n",
    "import scipy.special as sp\n",
    "\n",
    "# Initialize the system\n",
    "points = 231\n",
    "l = 10\n",
    "x = np.linspace(-l, l, points)\n",
    "dx = x[1] - x[0]\n",
    "omega = 0.3275\n",
    "v_ext = 0.5 * omega**2 * (x**2)\n",
    "v_int = np.zeros([len(x), len(x)])\n",
    "qho_single = iDEA.system.System(x, v_ext, v_int, electrons=\"u\")\n",
    "qho_double = iDEA.system.System(x, v_ext, v_int, electrons=\"uu\")\n",
    "\n",
    "states_small_int = {}\n",
    "states_zero_int = {}\n",
    "occupied_info = []"
   ]
  },
  {
   "cell_type": "markdown",
   "metadata": {},
   "source": [
    "# int = 1e-11\n"
   ]
  },
  {
   "cell_type": "code",
   "execution_count": 2,
   "metadata": {},
   "outputs": [
    {
     "name": "stdout",
     "output_type": "stream",
     "text": [
      "File indices_up_to_20.pkl exists\n",
      "Elapsed Time = 0.003868181003781501\n",
      "Analytic State 0, First Index: 0, Second Index: 1, Energy: 0.655\n",
      "Analytic State 1, First Index: 1, Second Index: 0, Energy: 0.655\n",
      "Analytic State 2, First Index: 0, Second Index: 2, Energy: 0.9825000000000002\n",
      "Analytic State 3, First Index: 2, Second Index: 0, Energy: 0.9825000000000002\n",
      "Analytic State 4, First Index: 0, Second Index: 3, Energy: 1.31\n",
      "Analytic State 5, First Index: 1, Second Index: 2, Energy: 1.31\n",
      "Analytic State 6, First Index: 2, Second Index: 1, Energy: 1.31\n",
      "Multiplets: [[0, 1], [2, 3]]\n",
      "Multiplets: [[4, 5]]\n",
      "{1: ('Got: [4, 5] with energy: 1.310000000307644', 'Expected: [0, 1]', 'Expected energy: 0.655')}\n"
     ]
    }
   ],
   "source": [
    "directory = Path(\"states\")\n",
    "\n",
    "# for i in range(0, 5):\n",
    "#     file_path = directory / f\"qho_small_int_state_{i}_1e-11.pkl\"\n",
    "#     try:\n",
    "#         with file_path.open(\"rb\") as file:\n",
    "#             states_small_int[i] = pickle.load(file)\n",
    "#     except FileNotFoundError:\n",
    "#         print(f\"File state_{i}.pkl not found.\")\n",
    "#     except Exception as e:\n",
    "#         print(f\"An error occurred while loading state_{i}.pkl: {e}\")\n",
    "\n",
    "max_k = 8\n",
    "\n",
    "iDEA_collection = collections_iDEA.CollectionOfStates(max_k)\n",
    "energy_array = np.zeros(max_k)\n",
    "\n",
    "for i in range(max_k):\n",
    "    file_path = directory / f\"qho_double_state_{i}_231_points.pkl\"\n",
    "    try:\n",
    "        with file_path.open(\"rb\") as file:\n",
    "            state = pickle.load(file)\n",
    "            iDEA_collection.add_state_class(state)\n",
    "            energy_array[i] = state.energy\n",
    "    except FileNotFoundError:\n",
    "        print(f\"File state_{i}.pkl not found.\")\n",
    "    except Exception as e:\n",
    "        print(f\"An error occurred while loading state_{i}.pkl: {e}\")\n",
    "\n",
    "iDEA_collection.add_energies(energy_array)\n",
    "\n",
    "\n",
    "\n",
    "\n",
    "def qho_energy(index):\n",
    "    return omega*(index + 0.5)\n",
    "index_list = collections_iDEA.CollectionOfStates(7)\n",
    "mm.apply_energy_method(qho_energy, qho_double, 7, states=index_list, second_mask=False)\n",
    "index_list.calculate_multiplets()\n",
    "\n",
    "for i in range(len(index_list.up_indices)):\n",
    "\n",
    "    print(f\"Analytic State {i}, First Index: {index_list.up_indices[i]}, Second Index: {index_list.down_indices[i]}, Energy: {index_list.energies[i]}\")\n",
    "\n",
    "print(f\"Multiplets: {index_list.multiplets}\")\n",
    "\n",
    "iDEA_collection.calculate_multiplets()\n",
    "print(f\"Multiplets: {iDEA_collection.multiplets}\")\n",
    "print(index_list.check_expected_num_of_multiplets(iDEA_collection.multiplets, iDEA_collection.multiplet_energies))"
   ]
  },
  {
   "cell_type": "code",
   "execution_count": 3,
   "metadata": {},
   "outputs": [
    {
     "name": "stdout",
     "output_type": "stream",
     "text": [
      "iDEA State 0, Energy = 0.6550000000054609\n",
      "iDEA State 1, Energy = 0.9825000000192029\n",
      "iDEA State 2, Energy = 1.3100000000181249\n",
      "iDEA State 3, Energy = 1.310000000020134\n",
      "iDEA State 4, Energy = 1.3100000003068801\n",
      "iDEA State 5, Energy = 1.310000000307644\n",
      "iDEA State 6, Energy = 1.6375000000336406\n",
      "iDEA State 7, Energy = 1.6375000003072353\n"
     ]
    }
   ],
   "source": [
    "# for key, value in states_small_int.items():\n",
    "#     print(f\"iDEA State {key}, Energy = {value.energy}\")\n",
    "\n",
    "for i in range(len(iDEA_collection.state_classes)):\n",
    "    print(f\"iDEA State {i}, Energy = {iDEA_collection.energies[i]}\")"
   ]
  },
  {
   "cell_type": "code",
   "execution_count": 4,
   "metadata": {},
   "outputs": [
    {
     "name": "stdout",
     "output_type": "stream",
     "text": [
      "State 0, 0 | 1\n",
      "State 1, 1 | 0\n",
      "State 2, 0 | 2\n",
      "State 3, 2 | 0\n",
      "State 4, 0 | 3\n",
      "State 5, 1 | 2\n",
      "State 6, 2 | 1\n"
     ]
    }
   ],
   "source": [
    "analytic_prob_densities = []\n",
    "\n",
    "def wave_function(index, omega, x):\n",
    "    exponent = -(omega * (x**2)) / (2)\n",
    "    t = np.sqrt(1 / ((2**index) * sp.factorial(index))) * pow((omega/np.pi), 0.25) * np.exp(exponent) * sp.eval_hermite(index, np.sqrt(omega)*x)\n",
    "\n",
    "    return t\n",
    "\n",
    "# ind = [[0, 1], [0, 2], [1, 2], [2, 1], [0, 3]]\n",
    "\n",
    "for i in range(7):\n",
    "    index_k = index_list.up_indices[i]\n",
    "    index_j = index_list.down_indices[i]\n",
    "    # index_k = ind[i][0]\n",
    "    # index_j = ind[i][1]\n",
    "    print(f\"State {i}, {index_k} | {index_j}\")\n",
    "\n",
    "    pd_analytic_1 = (np.abs(wave_function(index_k, omega, x)))**2 + (np.abs(wave_function(index_j, omega, x)))**2\n",
    "    analytic_prob_densities.append(pd_analytic_1)"
   ]
  },
  {
   "cell_type": "code",
   "execution_count": 5,
   "metadata": {},
   "outputs": [
    {
     "data": {
      "application/vnd.jupyter.widget-view+json": {
       "model_id": "dfa3262e3a974fc78e8b9ce893bf4612",
       "version_major": 2,
       "version_minor": 0
      },
      "text/plain": [
       "interactive(children=(IntSlider(value=0, description='k:', max=7), Output()), _dom_classes=('widget-interact',…"
      ]
     },
     "metadata": {},
     "output_type": "display_data"
    }
   ],
   "source": [
    "collections_iDEA.analysis.states_density_comparison(iDEA_collection, qho_double, analytic_prob_densities)"
   ]
  },
  {
   "cell_type": "code",
   "execution_count": 6,
   "metadata": {},
   "outputs": [
    {
     "name": "stdout",
     "output_type": "stream",
     "text": [
      "State 0, 0 | 1\n",
      "State 1, 0 | 2\n",
      "State 2, 1 | 2\n",
      "State 3, 2 | 1\n",
      "State 4, 0 | 3\n",
      "State 5, 3 | 0\n",
      "State 6, 1 | 3\n"
     ]
    }
   ],
   "source": [
    "analytic_prob_densities = []\n",
    "\n",
    "def wave_function(index, omega, x):\n",
    "    exponent = -(omega * (x**2)) / (2)\n",
    "    t = np.sqrt(1 / ((2**index) * sp.factorial(index))) * pow((omega/np.pi), 0.25) * np.exp(exponent) * sp.eval_hermite(index, np.sqrt(omega)*x)\n",
    "\n",
    "    return t\n",
    "\n",
    "ind = [[0, 1], [0, 2], [1, 2], [2, 1], [0, 3], [3, 0], [1, 3]]\n",
    "\n",
    "for i in range(7):\n",
    "    # index_k = index_list.up_indices[i]\n",
    "    # index_j = index_list.down_indices[i]\n",
    "    index_k = ind[i][0]\n",
    "    index_j = ind[i][1]\n",
    "    print(f\"State {i}, {index_k} | {index_j}\")\n",
    "\n",
    "    pd_analytic_1 = (np.abs(wave_function(index_k, omega, x)))**2 + (np.abs(wave_function(index_j, omega, x)))**2\n",
    "    analytic_prob_densities.append(pd_analytic_1)"
   ]
  },
  {
   "cell_type": "code",
   "execution_count": 7,
   "metadata": {},
   "outputs": [
    {
     "data": {
      "application/vnd.jupyter.widget-view+json": {
       "model_id": "9da74b6c6c824079a3f4d61ac32aca9a",
       "version_major": 2,
       "version_minor": 0
      },
      "text/plain": [
       "interactive(children=(IntSlider(value=0, description='k:', max=7), Output()), _dom_classes=('widget-interact',…"
      ]
     },
     "metadata": {},
     "output_type": "display_data"
    }
   ],
   "source": [
    "collections_iDEA.analysis.states_density_comparison(iDEA_collection, qho_double, analytic_prob_densities)"
   ]
  },
  {
   "cell_type": "code",
   "execution_count": 8,
   "metadata": {},
   "outputs": [
    {
     "data": {
      "text/plain": [
       "[<matplotlib.lines.Line2D at 0x7fd3a93b1210>]"
      ]
     },
     "execution_count": 8,
     "metadata": {},
     "output_type": "execute_result"
    },
    {
     "data": {
      "image/png": "[encoded data removed]",
      "text/plain": [
       "<Figure size 640x480 with 1 Axes>"
      ]
     },
     "metadata": {},
     "output_type": "display_data"
    }
   ],
   "source": [
    "diff = []\n",
    "n = iDEA.observables.density(qho_double, iDEA_collection.state_classes[6])        \n",
    "\n",
    "\n",
    "for i in range(len(n)):\n",
    "        diff.append(abs(n[i] - analytic_prob_densities[6][i]))\n",
    "\n",
    "\n",
    "\n",
    "plt.plot(x, diff)"
   ]
  },
  {
   "cell_type": "markdown",
   "metadata": {},
   "source": [
    "# int = 0"
   ]
  },
  {
   "cell_type": "code",
   "execution_count": 9,
   "metadata": {},
   "outputs": [],
   "source": [
    "max_k = 7\n",
    "\n",
    "iDEA_collection = collections_iDEA.CollectionOfStates(max_k)\n",
    "energy_array = np.zeros(max_k)\n",
    "\n",
    "for i in range(max_k):\n",
    "    file_path = directory / f\"qho__zero_double_state_{i}_231_points.pkl\"\n",
    "    try:\n",
    "        with file_path.open(\"rb\") as file:\n",
    "            state = pickle.load(file)\n",
    "            iDEA_collection.add_state_class(state)\n",
    "            energy_array[i] = state.energy\n",
    "    except FileNotFoundError:\n",
    "        print(f\"File state_{i}.pkl not found.\")\n",
    "    except Exception as e:\n",
    "        print(f\"An error occurred while loading state_{i}.pkl: {e}\")\n",
    "\n",
    "iDEA_collection.add_energies(energy_array)"
   ]
  },
  {
   "cell_type": "code",
   "execution_count": 10,
   "metadata": {},
   "outputs": [
    {
     "name": "stdout",
     "output_type": "stream",
     "text": [
      "File indices_up_to_20.pkl exists\n",
      "Elapsed Time = 0.002457047005009372\n",
      "Analytic State 0, First Index: 0, Second Index: 1, Energy: 0.655\n",
      "Analytic State 1, First Index: 1, Second Index: 0, Energy: 0.655\n",
      "Analytic State 2, First Index: 0, Second Index: 2, Energy: 0.9825000000000002\n",
      "Analytic State 3, First Index: 2, Second Index: 0, Energy: 0.9825000000000002\n",
      "Analytic State 4, First Index: 0, Second Index: 3, Energy: 1.31\n",
      "Analytic State 5, First Index: 1, Second Index: 2, Energy: 1.31\n",
      "Analytic State 6, First Index: 2, Second Index: 1, Energy: 1.31\n",
      "Analytic State 7, First Index: 3, Second Index: 0, Energy: 1.31\n",
      "Analytic State 8, First Index: 1, Second Index: 3, Energy: 1.6375\n",
      "Multiplets: [[0, 1], [2, 3], [4, 5, 6, 7]]\n"
     ]
    }
   ],
   "source": [
    "def qho_energy(index):\n",
    "    return omega*(index + 0.5)\n",
    "\n",
    "index_list = mm.apply_energy_method(qho_energy, qho_double, 9, second_mask=False)\n",
    "index_list.calculate_multiplets()\n",
    "\n",
    "for i in range(len(index_list.up_indices)):\n",
    "\n",
    "    print(f\"Analytic State {i}, First Index: {index_list.up_indices[i]}, Second Index: {index_list.down_indices[i]}, Energy: {index_list.energies[i]}\")\n",
    "\n",
    "print(f\"Multiplets: {index_list.multiplets}\")"
   ]
  },
  {
   "cell_type": "code",
   "execution_count": 11,
   "metadata": {},
   "outputs": [
    {
     "name": "stdout",
     "output_type": "stream",
     "text": [
      "iDEA State 0, Energy = 0.6550000000004116\n",
      "iDEA State 1, Energy = 0.9825000000151435\n",
      "iDEA State 2, Energy = 1.3100000000154601\n",
      "iDEA State 3, Energy = 1.3100000000155718\n",
      "iDEA State 4, Energy = 1.3100000003039753\n",
      "iDEA State 5, Energy = 1.3100000003041676\n",
      "iDEA State 6, Energy = 1.6375000000300044\n"
     ]
    }
   ],
   "source": [
    "for i in range(len(iDEA_collection.state_classes)):\n",
    "    print(f\"iDEA State {i}, Energy = {iDEA_collection.energies[i]}\")"
   ]
  },
  {
   "cell_type": "code",
   "execution_count": 12,
   "metadata": {},
   "outputs": [
    {
     "name": "stdout",
     "output_type": "stream",
     "text": [
      "State 0, 0 | 1\n",
      "State 1, 1 | 0\n",
      "State 2, 0 | 2\n",
      "State 3, 2 | 0\n",
      "State 4, 0 | 3\n",
      "State 5, 1 | 2\n",
      "State 6, 2 | 1\n"
     ]
    }
   ],
   "source": [
    "analytic_prob_densities = []\n",
    "\n",
    "def wave_function(index, omega, x):\n",
    "    exponent = -(omega * (x**2)) / (2)\n",
    "    t = np.sqrt(1 / ((2**index) * sp.factorial(index))) * pow((omega/np.pi), 0.25) * np.exp(exponent) * sp.eval_hermite(index, np.sqrt(omega)*x)\n",
    "\n",
    "    return t\n",
    "\n",
    "# ind = [[0, 1], [0, 2], [1, 2], [2, 1], [0, 3]]\n",
    "\n",
    "for i in range(7):\n",
    "    index_k = index_list.up_indices[i]\n",
    "    index_j = index_list.down_indices[i]\n",
    "    # index_k = ind[i][0]\n",
    "    # index_j = ind[i][1]\n",
    "    print(f\"State {i}, {index_k} | {index_j}\")\n",
    "\n",
    "    pd_analytic_1 = (np.abs(wave_function(index_k, omega, x)))**2 + (np.abs(wave_function(index_j, omega, x)))**2\n",
    "    analytic_prob_densities.append(pd_analytic_1)"
   ]
  },
  {
   "cell_type": "code",
   "execution_count": 13,
   "metadata": {},
   "outputs": [
    {
     "data": {
      "application/vnd.jupyter.widget-view+json": {
       "model_id": "41551d714de24d258075e8ea2ceb5fbe",
       "version_major": 2,
       "version_minor": 0
      },
      "text/plain": [
       "interactive(children=(IntSlider(value=0, description='k:', max=6), Output()), _dom_classes=('widget-interact',…"
      ]
     },
     "metadata": {},
     "output_type": "display_data"
    }
   ],
   "source": [
    "collections_iDEA.analysis.states_density_comparison(iDEA_collection, qho_double, analytic_prob_densities)"
   ]
  },
  {
   "cell_type": "code",
   "execution_count": 14,
   "metadata": {},
   "outputs": [
    {
     "name": "stdout",
     "output_type": "stream",
     "text": [
      "State 0, 0 | 1\n",
      "State 1, 0 | 2\n",
      "State 2, 1 | 2\n",
      "State 3, 2 | 1\n",
      "State 4, 0 | 3\n",
      "State 5, 3 | 0\n",
      "State 6, 1 | 3\n"
     ]
    }
   ],
   "source": [
    "analytic_prob_densities = []\n",
    "\n",
    "def wave_function(index, omega, x):\n",
    "    exponent = -(omega * (x**2)) / (2)\n",
    "    t = np.sqrt(1 / ((2**index) * sp.factorial(index))) * pow((omega/np.pi), 0.25) * np.exp(exponent) * sp.eval_hermite(index, np.sqrt(omega)*x)\n",
    "\n",
    "    return t\n",
    "\n",
    "ind = [[0, 1], [0, 2], [1, 2], [2, 1], [0, 3], [3, 0], [1, 3]]\n",
    "\n",
    "for i in range(7):\n",
    "    # index_k = index_list.up_indices[i]\n",
    "    # index_j = index_list.down_indices[i]\n",
    "    index_k = ind[i][0]\n",
    "    index_j = ind[i][1]\n",
    "    print(f\"State {i}, {index_k} | {index_j}\")\n",
    "\n",
    "    pd_analytic_1 = (np.abs(wave_function(index_k, omega, x)))**2 + (np.abs(wave_function(index_j, omega, x)))**2\n",
    "    analytic_prob_densities.append(pd_analytic_1)"
   ]
  },
  {
   "cell_type": "code",
   "execution_count": 15,
   "metadata": {},
   "outputs": [
    {
     "data": {
      "application/vnd.jupyter.widget-view+json": {
       "model_id": "345f162cbd64471fa6db8d02b5752424",
       "version_major": 2,
       "version_minor": 0
      },
      "text/plain": [
       "interactive(children=(IntSlider(value=0, description='k:', max=6), Output()), _dom_classes=('widget-interact',…"
      ]
     },
     "metadata": {},
     "output_type": "display_data"
    }
   ],
   "source": [
    "collections_iDEA.analysis.states_density_comparison(iDEA_collection, qho_double, analytic_prob_densities)"
   ]
  },
  {
   "cell_type": "code",
   "execution_count": 16,
   "metadata": {},
   "outputs": [
    {
     "data": {
      "text/plain": [
       "[<matplotlib.lines.Line2D at 0x7fd3a9fe43d0>]"
      ]
     },
     "execution_count": 16,
     "metadata": {},
     "output_type": "execute_result"
    },
    {
     "data": {
      "image/png": "[encoded data removed]",
      "text/plain": [
       "<Figure size 640x480 with 1 Axes>"
      ]
     },
     "metadata": {},
     "output_type": "display_data"
    }
   ],
   "source": [
    "diff = []\n",
    "n = iDEA.observables.density(qho_double, iDEA_collection.state_classes[6])        \n",
    "\n",
    "\n",
    "for i in range(len(n)):\n",
    "        diff.append(abs(n[i] - analytic_prob_densities[6][i]))\n",
    "\n",
    "\n",
    "\n",
    "plt.plot(x, diff)"
   ]
  },
  {
   "cell_type": "markdown",
   "metadata": {},
   "source": [
    "# int = 0, 300 points\n"
   ]
  },
  {
   "cell_type": "code",
   "execution_count": 17,
   "metadata": {},
   "outputs": [],
   "source": [
    "points = 300\n",
    "l = 10\n",
    "x = np.linspace(-l, l, points)\n",
    "dx = x[1] - x[0]\n",
    "omega = 0.3275\n",
    "v_ext = 0.5 * omega**2 * (x**2)\n",
    "v_int = np.zeros([len(x), len(x)])\n",
    "qho_single = iDEA.system.System(x, v_ext, v_int, electrons=\"u\")\n",
    "qho_double = iDEA.system.System(x, v_ext, v_int, electrons=\"uu\")\n",
    "\n",
    "\n",
    "max_k = 6\n",
    "\n",
    "iDEA_collection = collections_iDEA.CollectionOfStates(max_k)\n",
    "energy_array = np.zeros(max_k)\n",
    "\n",
    "for i in range(max_k):\n",
    "    file_path = directory / f\"qho__zero_double_state_{i}_300_points.pkl\"\n",
    "    try:\n",
    "        with file_path.open(\"rb\") as file:\n",
    "            state = pickle.load(file)\n",
    "            iDEA_collection.add_state_class(state)\n",
    "            energy_array[i] = state.energy\n",
    "    except FileNotFoundError:\n",
    "        print(f\"File state_{i}.pkl not found.\")\n",
    "    except Exception as e:\n",
    "        print(f\"An error occurred while loading state_{i}.pkl: {e}\")\n",
    "\n",
    "iDEA_collection.add_energies(energy_array)"
   ]
  },
  {
   "cell_type": "code",
   "execution_count": 18,
   "metadata": {},
   "outputs": [
    {
     "name": "stdout",
     "output_type": "stream",
     "text": [
      "File indices_up_to_20.pkl exists\n",
      "Elapsed Time = 0.0056731580043560825\n",
      "Analytic State 0, First Index: 0, Second Index: 1, Energy: 0.655\n",
      "Analytic State 1, First Index: 1, Second Index: 0, Energy: 0.655\n",
      "Analytic State 2, First Index: 0, Second Index: 2, Energy: 0.9825000000000002\n",
      "Analytic State 3, First Index: 2, Second Index: 0, Energy: 0.9825000000000002\n",
      "Analytic State 4, First Index: 0, Second Index: 3, Energy: 1.31\n",
      "Analytic State 5, First Index: 1, Second Index: 2, Energy: 1.31\n",
      "Analytic State 6, First Index: 2, Second Index: 1, Energy: 1.31\n",
      "Analytic State 7, First Index: 3, Second Index: 0, Energy: 1.31\n",
      "Analytic State 8, First Index: 1, Second Index: 3, Energy: 1.6375\n",
      "Multiplets: [[0, 1], [2, 3], [4, 5, 6, 7]]\n"
     ]
    }
   ],
   "source": [
    "def qho_energy(index):\n",
    "    return omega*(index + 0.5)\n",
    "\n",
    "index_list = mm.apply_energy_method(qho_energy, qho_double, 9, second_mask=False)\n",
    "index_list.calculate_multiplets()\n",
    "\n",
    "for i in range(len(index_list.up_indices)):\n",
    "\n",
    "    print(f\"Analytic State {i}, First Index: {index_list.up_indices[i]}, Second Index: {index_list.down_indices[i]}, Energy: {index_list.energies[i]}\")\n",
    "\n",
    "print(f\"Multiplets: {index_list.multiplets}\")"
   ]
  },
  {
   "cell_type": "code",
   "execution_count": 19,
   "metadata": {},
   "outputs": [
    {
     "name": "stdout",
     "output_type": "stream",
     "text": [
      "iDEA State 0, Energy = 0.6550000000004805\n",
      "iDEA State 1, Energy = 0.9825000000169212\n",
      "iDEA State 2, Energy = 1.3100000000171492\n",
      "iDEA State 3, Energy = 1.3100000000172471\n",
      "iDEA State 4, Energy = 1.3100000003375443\n",
      "iDEA State 5, Energy = 1.3100000003375165\n"
     ]
    }
   ],
   "source": [
    "for i in range(len(iDEA_collection.state_classes)):\n",
    "    print(f\"iDEA State {i}, Energy = {iDEA_collection.energies[i]}\")"
   ]
  },
  {
   "cell_type": "code",
   "execution_count": 20,
   "metadata": {},
   "outputs": [
    {
     "name": "stdout",
     "output_type": "stream",
     "text": [
      "State 0, 0 | 1\n",
      "State 1, 1 | 0\n",
      "State 2, 0 | 2\n",
      "State 3, 2 | 0\n",
      "State 4, 0 | 3\n",
      "State 5, 1 | 2\n",
      "State 6, 2 | 1\n"
     ]
    }
   ],
   "source": [
    "analytic_prob_densities = []\n",
    "\n",
    "def wave_function(index, omega, x):\n",
    "    exponent = -(omega * (x**2)) / (2)\n",
    "    t = np.sqrt(1 / ((2**index) * sp.factorial(index))) * pow((omega/np.pi), 0.25) * np.exp(exponent) * sp.eval_hermite(index, np.sqrt(omega)*x)\n",
    "\n",
    "    return t\n",
    "\n",
    "\n",
    "# ind = [[0, 1], [0, 2], [1, 2], [2, 1], [0, 3]]\n",
    "\n",
    "for i in range(7):\n",
    "    index_k = index_list.up_indices[i]\n",
    "    index_j = index_list.down_indices[i]\n",
    "    # index_k = ind[i][0]\n",
    "    # index_j = ind[i][1]\n",
    "    print(f\"State {i}, {index_k} | {index_j}\")\n",
    "\n",
    "    pd_analytic_1 = (np.abs(collections_iDEA.wavefunctions.qho_wave_function(index_k, omega, x)))**2 + (np.abs(collections_iDEA.wavefunctions.qho_wave_function(index_j, omega, x)))**2\n",
    "    analytic_prob_densities.append(pd_analytic_1)"
   ]
  },
  {
   "cell_type": "code",
   "execution_count": 21,
   "metadata": {},
   "outputs": [
    {
     "data": {
      "application/vnd.jupyter.widget-view+json": {
       "model_id": "5c81c5eda257496f8655568c974a9564",
       "version_major": 2,
       "version_minor": 0
      },
      "text/plain": [
       "interactive(children=(IntSlider(value=0, description='k:', max=5), Output()), _dom_classes=('widget-interact',…"
      ]
     },
     "metadata": {},
     "output_type": "display_data"
    }
   ],
   "source": [
    "collections_iDEA.analysis.states_density_comparison(iDEA_collection, qho_double, analytic_prob_densities)"
   ]
  }
 ],
 "metadata": {
  "kernelspec": {
   "display_name": "Python 3",
   "language": "python",
   "name": "python3"
  },
  "language_info": {
   "codemirror_mode": {
    "name": "ipython",
    "version": 3
   },
   "file_extension": ".py",
   "mimetype": "text/x-python",
   "name": "python",
   "nbconvert_exporter": "python",
   "pygments_lexer": "ipython3",
   "version": "3.10.12"
  }
 },
 "nbformat": 4,
 "nbformat_minor": 2
}
