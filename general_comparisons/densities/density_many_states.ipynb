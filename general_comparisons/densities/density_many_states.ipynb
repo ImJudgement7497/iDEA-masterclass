{
 "cells": [
  {
   "cell_type": "code",
   "execution_count": null,
   "metadata": {},
   "outputs": [],
   "source": [
    "import numpy as np\n",
    "import matplotlib.pyplot as plt\n",
    "import ipywidgets as widgets\n",
    "from IPython.display import display\n",
    "import iDEA\n",
    "import pickle\n",
    "from pathlib import Path\n",
    "import collections_iDEA.Collections\n",
    "\n",
    "\n",
    "l = 5\n",
    "points = 500\n",
    "x = np.linspace(0, l, points)\n",
    "dx = x[1] - x[0]\n",
    "v_ext = np.zeros(len(x))\n",
    "v_int = np.zeros([len(x), len(x)])\n",
    "pib_double = iDEA.system.System(x, v_ext, v_int, electrons = \"ud\")\n",
    "states = {}\n",
    "\n",
    "directory = Path(\"states\")\n",
    "\n",
    "for i in range(100, 200):\n",
    "    file_path = directory / f\"energy_comp_state_{i}.pkl\"\n",
    "    try:\n",
    "        with file_path.open(\"rb\") as file:\n",
    "            states[i] = pickle.load(file)\n",
    "    except FileNotFoundError:\n",
    "        print(f\"File state_{i}.pkl not found.\")\n",
    "    except Exception as e:\n",
    "        print(f\"An error occurred while loading state_{i}.pkl: {e}\")\n",
    "\n",
    "with open(\"result_200.pkl\", \"rb\") as file:\n",
    "    index_list = pickle.load(file)"
   ]
  },
  {
   "cell_type": "code",
   "execution_count": null,
   "metadata": {},
   "outputs": [],
   "source": [
    "analytic_prob_densities = []\n",
    "\n",
    "def wave_function(l, n, X):\n",
    "    return np.sqrt(2/l) * np.sin((np.pi) * X * (n+1) / l)\n",
    "\n",
    "for i in range(100, 200):\n",
    "    index_k = index_list.up_indices[i]\n",
    "    index_j = index_list.down_indices[i]\n",
    "\n",
    "    pd_analytic_1 = (np.abs(wave_function(l, index_k, x)))**2 + (np.abs(wave_function(l, index_j, x)))**2\n",
    "    analytic_prob_densities.append(pd_analytic_1)"
   ]
  },
  {
   "cell_type": "code",
   "execution_count": null,
   "metadata": {},
   "outputs": [],
   "source": [
    "collections_iDEA.analysis.states_density_comparison(states, pib_double, analytic_prob_densities, widget=False)"
   ]
  }
 ],
 "metadata": {
  "kernelspec": {
   "display_name": "Python 3",
   "language": "python",
   "name": "python3"
  },
  "language_info": {
   "codemirror_mode": {
    "name": "ipython",
    "version": 3
   },
   "file_extension": ".py",
   "mimetype": "text/x-python",
   "name": "python",
   "nbconvert_exporter": "python",
   "pygments_lexer": "ipython3",
   "version": "3.10.12"
  }
 },
 "nbformat": 4,
 "nbformat_minor": 2
}
