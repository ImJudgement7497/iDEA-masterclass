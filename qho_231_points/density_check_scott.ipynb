{
 "cells": [
  {
   "cell_type": "code",
   "execution_count": 1,
   "metadata": {},
   "outputs": [
    {
     "name": "stdout",
     "output_type": "stream",
     "text": [
      "<collections_iDEA.Collections.CollectionOfStates object at 0x7fbbbd332fe0>\n"
     ]
    }
   ],
   "source": [
    "import numpy as np\n",
    "import matplotlib.pyplot as plt\n",
    "import iDEA\n",
    "import ipywidgets as widgets\n",
    "from IPython.display import display\n",
    "import pickle\n",
    "import time\n",
    "from pathlib import Path\n",
    "import collections_iDEA\n",
    "import collections_iDEA.multiplets as mm\n",
    "import os\n",
    "import scipy.special as sp\n",
    "\n",
    "# Initialize the system\n",
    "points = 231\n",
    "l = 10\n",
    "x = np.linspace(-l, l, points)\n",
    "dx = x[1] - x[0]\n",
    "omega = 0.3275\n",
    "v_ext = 0.5 * omega**2 * (x**2)\n",
    "v_int = np.zeros([len(x), len(x)])\n",
    "qho_single = iDEA.system.System(x, v_ext, v_int, electrons=\"u\")\n",
    "qho_double = iDEA.system.System(x, v_ext, v_int, electrons=\"ud\")\n",
    "\n",
    "states_small_int = {}\n",
    "states_zero_int = {}\n",
    "occupied_info = []\n",
    "\n",
    "directory = Path(\"states\")\n",
    "\n",
    "for i in range(0, 1):\n",
    "    file_path = directory / f\"qho_small_int_state_{i}_1e-11.pkl\"\n",
    "    try:\n",
    "        with file_path.open(\"rb\") as file:\n",
    "            states_small_int[i] = pickle.load(file)\n",
    "    except FileNotFoundError:\n",
    "        print(f\"File state_{i}.pkl not found.\")\n",
    "    except Exception as e:\n",
    "        print(f\"An error occurred while loading state_{i}.pkl: {e}\")\n",
    "\n",
    "for i in range(0, 51):\n",
    "    file_path = directory / f\"qho_zero_int_state_{i}.pkl\"\n",
    "    try:\n",
    "        with file_path.open(\"rb\") as file:\n",
    "            states_zero_int[i] = pickle.load(file)\n",
    "    except FileNotFoundError:\n",
    "        print(f\"File state_{i}.pkl not found.\")\n",
    "    except Exception as e:\n",
    "        print(f\"An error occurred while loading state_{i}.pkl: {e}\")\n",
    "\n",
    "# file_path = \"occupied_info_231.pkl\"\n",
    "# with open(file_path, \"rb\") as file:\n",
    "#     occupied_info = pickle.load(file)\n",
    "\n",
    "\n",
    "with open(\"result_200.pkl\", \"rb\") as file:\n",
    "    index_list = pickle.load(file)\n",
    "\n",
    "print(index_list)"
   ]
  },
  {
   "cell_type": "code",
   "execution_count": 2,
   "metadata": {},
   "outputs": [],
   "source": [
    "analytic_prob_densities = []\n",
    "\n",
    "def wave_function(index, omega, x):\n",
    "    exponent = -(omega * (x**2)) / (2)\n",
    "    t = np.sqrt(1 / ((2**index) * sp.factorial(index))) * pow((omega/np.pi), 0.25) * np.exp(exponent) * sp.eval_hermite(index, np.sqrt(omega)*x)\n",
    "\n",
    "    return t\n",
    "\n",
    "for i in range(48):\n",
    "    index_k = index_list.up_indices[i]\n",
    "    index_j = index_list.down_indices[i]\n",
    "\n",
    "    pd_analytic_1 = (np.abs(wave_function(index_k, omega, x)))**2 + (np.abs(wave_function(index_j, omega, x)))**2\n",
    "    analytic_prob_densities.append(pd_analytic_1)"
   ]
  },
  {
   "cell_type": "code",
   "execution_count": 3,
   "metadata": {},
   "outputs": [
    {
     "data": {
      "application/vnd.jupyter.widget-view+json": {
       "model_id": "b36faf1968dc4221adce0638059a8007",
       "version_major": 2,
       "version_minor": 0
      },
      "text/plain": [
       "interactive(children=(IntSlider(value=0, description='k:', max=50), Output()), _dom_classes=('widget-interact'…"
      ]
     },
     "metadata": {},
     "output_type": "display_data"
    }
   ],
   "source": [
    "collections_iDEA.analysis.states_density_comparison(states_zero_int, qho_double, analytic_prob_densities)"
   ]
  }
 ],
 "metadata": {
  "kernelspec": {
   "display_name": "Python 3",
   "language": "python",
   "name": "python3"
  },
  "language_info": {
   "codemirror_mode": {
    "name": "ipython",
    "version": 3
   },
   "file_extension": ".py",
   "mimetype": "text/x-python",
   "name": "python",
   "nbconvert_exporter": "python",
   "pygments_lexer": "ipython3",
   "version": "3.10.12"
  }
 },
 "nbformat": 4,
 "nbformat_minor": 2
}
