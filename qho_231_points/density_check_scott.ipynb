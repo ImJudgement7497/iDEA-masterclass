{
 "cells": [
  {
   "cell_type": "code",
   "execution_count": 10,
   "metadata": {},
   "outputs": [
    {
     "name": "stdout",
     "output_type": "stream",
     "text": [
      "[]\n",
      "File indices_up_to_20.pkl exists\n",
      "Elapsed Time = 0.0018004879999580226\n",
      "Multiplet [1, 2], Energy = 0.655\n",
      "Multiplet [3, 4, 5], Energy = 0.9825000000000002\n",
      "Multiplet [6, 7, 8, 9], Energy = 1.31\n",
      "Multiplet [10, 11, 12, 13, 14], Energy = 1.6375\n",
      "Multiplet [15, 16, 17, 18, 19, 20], Energy = 1.965\n",
      "Multiplet [21, 22, 23, 24, 25, 26, 27], Energy = 2.2925\n",
      "Multiplet [28, 29, 30, 31, 32, 33, 34, 35], Energy = 2.62\n",
      "Multiplet [36, 37, 38, 39, 40, 41, 42, 43, 44], Energy = 2.9475\n",
      "Multiplet [45, 46, 47, 48, 49, 50, 51, 52, 53, 54], Energy = 3.275\n",
      "Multiplet [55, 56, 57, 58, 59, 60, 61, 62, 63, 64, 65], Energy = 3.6025\n",
      "Multiplet [66, 67, 68, 69, 70, 71, 72, 73, 74, 75, 76, 77], Energy = 3.9299999999999997\n",
      "Multiplet [78, 79, 80, 81, 82, 83, 84, 85, 86, 87, 88, 89, 90], Energy = 4.2575\n",
      "Multiplet [91, 92, 93, 94, 95, 96, 97, 98, 99, 100, 101, 102, 103, 104], Energy = 4.585\n",
      "Multiplet [105, 106, 107, 108, 109, 110, 111, 112, 113, 114, 115, 116, 117, 118, 119], Energy = 4.9125\n",
      "Multiplet [120, 121, 122, 123, 124, 125, 126, 127, 128, 129, 130, 131, 132, 133, 134, 135], Energy = 5.24\n",
      "Multiplet [136, 137, 138, 139, 140, 141, 142, 143, 144, 145, 146, 147, 148, 149, 150, 151, 152], Energy = 5.5675\n"
     ]
    }
   ],
   "source": [
    "import numpy as np\n",
    "import matplotlib.pyplot as plt\n",
    "import iDEA\n",
    "import ipywidgets as widgets\n",
    "from IPython.display import display\n",
    "import pickle\n",
    "import time\n",
    "from pathlib import Path\n",
    "import collections_iDEA\n",
    "import collections_iDEA.multiplets as mm\n",
    "import os\n",
    "import scipy.special as sp\n",
    "\n",
    "# Initialize the system\n",
    "points = 231\n",
    "l = 10\n",
    "x = np.linspace(-l, l, points)\n",
    "dx = x[1] - x[0]\n",
    "omega = 0.3275\n",
    "v_ext = 0.5 * omega**2 * (x**2)\n",
    "v_int = np.zeros([len(x), len(x)])\n",
    "qho_single = iDEA.system.System(x, v_ext, v_int, electrons=\"u\")\n",
    "qho_double = iDEA.system.System(x, v_ext, v_int, electrons=\"ud\")\n",
    "\n",
    "states_small_int = {}\n",
    "states_zero_int = {}\n",
    "occupied_info = []\n",
    "\n",
    "directory = Path(\"states\")\n",
    "\n",
    "# for i in range(0, 1):\n",
    "#     file_path = directory / f\"qho_small_int_state_{i}_1e-11.pkl\"\n",
    "#     try:\n",
    "#         with file_path.open(\"rb\") as file:\n",
    "#             states_small_int[i] = pickle.load(file)\n",
    "#     except FileNotFoundError:\n",
    "#         print(f\"File state_{i}.pkl not found.\")\n",
    "#     except Exception as e:\n",
    "#         print(f\"An error occurred while loading state_{i}.pkl: {e}\")\n",
    "\n",
    "for i in range(0, 165):\n",
    "    file_path = directory / f\"qho_zero_int_state_{i}.pkl\"\n",
    "    try:\n",
    "        with file_path.open(\"rb\") as file:\n",
    "            states_zero_int[i] = pickle.load(file)\n",
    "    except FileNotFoundError:\n",
    "        print(f\"File state_{i}.pkl not found.\")\n",
    "    except Exception as e:\n",
    "        print(f\"An error occurred while loading state_{i}.pkl: {e}\")\n",
    "\n",
    "# file_path = \"occupied_info_231.pkl\"\n",
    "# with open(file_path, \"rb\") as file:\n",
    "#     occupied_info = pickle.load(file)\n",
    "\n",
    "\n",
    "with open(\"result_200.pkl\", \"rb\") as file:\n",
    "    index_list = pickle.load(file)\n",
    "\n",
    "print(index_list.multiplets)\n",
    "def qho_energy(index):\n",
    "    return omega*(index+0.5)\n",
    "\n",
    "analytic_collection = mm.apply_energy_method(qho_energy, qho_double, 165)\n",
    "mm.calculate_multiplets(analytic_collection)\n",
    "\n",
    "for i in range(len(analytic_collection.multiplets)):\n",
    "\n",
    "    print(f\"Multiplet {analytic_collection.multiplets[i]}, Energy = {analytic_collection.multiplet_energies[i]}\")\n"
   ]
  },
  {
   "cell_type": "code",
   "execution_count": null,
   "metadata": {},
   "outputs": [],
   "source": [
    "analytic_prob_densities = []\n",
    "\n",
    "def wave_function(index, omega, x):\n",
    "    exponent = -(omega * (x**2)) / (2)\n",
    "    t = np.sqrt(1 / ((2**index) * sp.factorial(index))) * pow((omega/np.pi), 0.25) * np.exp(exponent) * sp.eval_hermite(index, np.sqrt(omega)*x)\n",
    "\n",
    "    return t\n",
    "\n",
    "for i in range(165):\n",
    "    index_k = index_list.up_indices[i]\n",
    "    index_j = index_list.down_indices[i]\n",
    "\n",
    "    pd_analytic_1 = (np.abs(wave_function(index_k, omega, x)))**2 + (np.abs(wave_function(index_j, omega, x)))**2\n",
    "    analytic_prob_densities.append(pd_analytic_1)"
   ]
  },
  {
   "cell_type": "code",
   "execution_count": null,
   "metadata": {},
   "outputs": [
    {
     "data": {
      "application/vnd.jupyter.widget-view+json": {
       "model_id": "93e4d8b2e8e94709ad7902f47b338d9f",
       "version_major": 2,
       "version_minor": 0
      },
      "text/plain": [
       "interactive(children=(IntSlider(value=0, description='k:', max=164), Output()), _dom_classes=('widget-interact…"
      ]
     },
     "metadata": {},
     "output_type": "display_data"
    }
   ],
   "source": [
    "collections_iDEA.analysis.states_density_comparison(states_zero_int, qho_double, analytic_prob_densities)"
   ]
  }
 ],
 "metadata": {
  "kernelspec": {
   "display_name": "Python 3",
   "language": "python",
   "name": "python3"
  },
  "language_info": {
   "codemirror_mode": {
    "name": "ipython",
    "version": 3
   },
   "file_extension": ".py",
   "mimetype": "text/x-python",
   "name": "python",
   "nbconvert_exporter": "python",
   "pygments_lexer": "ipython3",
   "version": "3.10.12"
  }
 },
 "nbformat": 4,
 "nbformat_minor": 2
}
