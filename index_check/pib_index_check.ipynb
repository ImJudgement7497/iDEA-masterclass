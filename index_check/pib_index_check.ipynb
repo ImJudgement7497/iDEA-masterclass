{
 "cells": [
  {
   "cell_type": "code",
   "execution_count": 1,
   "metadata": {},
   "outputs": [],
   "source": [
    "# import numpy as np\n",
    "# import pandas as pd\n",
    "# from classes import SingleBodyState, System, CollectionOfStates\n",
    "# import methods as m\n",
    "\n",
    "# l = 5\n",
    "# points = 200\n",
    "# x = np.linspace(0, l, points)\n",
    "# v_ext = np.zeros(len(x))\n",
    "# v_int = np.zeros([len(x), len(x)])\n",
    "# s = System(x, v_ext, v_int, electrons = \"ud\")\n",
    "# state = SingleBodyState(points)\n",
    "\n",
    "# def pib_energy(energy_array):\n",
    "#     r\"\"\"Fill an array with analytical energy results (in terms of pi squared)\"\"\"\n",
    "#     n = len(energy_array)\n",
    "#     energy_array[:] = ((np.arange(n) + 1) ** 2) / 50\n",
    "#     return energy_array\n",
    "\n",
    "# print(m.show_indices(pib_energy, s, state, 150))\n"
   ]
  },
  {
   "cell_type": "code",
   "execution_count": 2,
   "metadata": {},
   "outputs": [],
   "source": [
    "# def pib_energy(index):\n",
    "#     return ((index+1)**2) / 50\n",
    "\n",
    "# print(m.get_energy(pib_energy, 150))"
   ]
  },
  {
   "cell_type": "code",
   "execution_count": 13,
   "metadata": {},
   "outputs": [
    {
     "name": "stdout",
     "output_type": "stream",
     "text": [
      "File indices_up_to_20.pkl exists\n",
      "Elapsed Time = 0.006554035997396568\n",
      "State = 0, Up Index = 0, Down Index = 0, Energy = 0.3275\n",
      "State = 1, Up Index = 0, Down Index = 1, Energy = 0.655\n",
      "State = 2, Up Index = 1, Down Index = 0, Energy = 0.655\n",
      "State = 3, Up Index = 1, Down Index = 1, Energy = 0.9825\n",
      "State = 4, Up Index = 0, Down Index = 2, Energy = 0.9825000000000002\n",
      "State = 5, Up Index = 2, Down Index = 0, Energy = 0.9825000000000002\n",
      "State = 6, Up Index = 0, Down Index = 3, Energy = 1.31\n",
      "State = 7, Up Index = 1, Down Index = 2, Energy = 1.31\n",
      "State = 8, Up Index = 2, Down Index = 1, Energy = 1.31\n",
      "State = 9, Up Index = 3, Down Index = 0, Energy = 1.31\n",
      "State = 10, Up Index = 1, Down Index = 3, Energy = 1.6375\n",
      "State = 11, Up Index = 3, Down Index = 1, Energy = 1.6375\n",
      "State = 12, Up Index = 0, Down Index = 4, Energy = 1.6375000000000002\n",
      "State = 13, Up Index = 2, Down Index = 2, Energy = 1.6375000000000002\n",
      "State = 14, Up Index = 4, Down Index = 0, Energy = 1.6375000000000002\n"
     ]
    }
   ],
   "source": [
    "import numpy as np\n",
    "import pandas as pd\n",
    "# from multiplet_classes import CollectionOfStates\n",
    "import iDEA\n",
    "# import multiplet_methods as m\n",
    "import pickle\n",
    "import collections_iDEA.multiplets as m\n",
    "\n",
    "\n",
    "def qho_energy(index):\n",
    "    return 0.3275*(index + 0.5)\n",
    "\n",
    "l = 5\n",
    "points = 500\n",
    "x = np.linspace(0, l, points)\n",
    "dx = x[1] - x[0]\n",
    "v_ext = np.zeros(len(x))\n",
    "v_int = np.zeros([len(x), len(x)])\n",
    "s = iDEA.system.System(x, v_ext, v_int, electrons = \"ud\")\n",
    "def pib_energy_fix(index):\n",
    "    return ((index+1)**2) / (2*((l+2*dx)**2))\n",
    "def pib_energy(index):\n",
    "    return ((index+1)**2) / (50)\n",
    "result = m.apply_energy_method(qho_energy, s, 15)\n",
    "\n",
    "states = result.states\n",
    "up_indices = result.up_indices\n",
    "down_indices = result.down_indices\n",
    "energies = result.energies\n",
    "\n",
    "df = pd.DataFrame({\n",
    "    \"State\": states,\n",
    "    \"Up index\": up_indices,\n",
    "    \"Down index\": down_indices,\n",
    "    \"Energy\": energies\n",
    "})\n",
    "\n",
    "df.set_index(\"State\", inplace=True)\n",
    "\n",
    "for i in range(len(states)):\n",
    "    print(f\"State = {states[i]}, Up Index = {up_indices[i]}, Down Index = {down_indices[i]}, Energy = {energies[i]}\")\n",
    "# print(df)\n"
   ]
  },
  {
   "cell_type": "code",
   "execution_count": 4,
   "metadata": {},
   "outputs": [
    {
     "name": "stdout",
     "output_type": "stream",
     "text": [
      "[1, 2]\n",
      "[3, 4, 5]\n",
      "[6, 7, 8, 9]\n",
      "[10, 11, 12, 13, 14]\n",
      "[15, 16, 17, 18, 19, 20]\n",
      "[21, 22, 23, 24, 25, 26, 27]\n",
      "[28, 29, 30, 31, 32, 33, 34, 35]\n",
      "[36, 37, 38, 39, 40, 41, 42, 43, 44]\n",
      "[45, 46, 47, 48, 49, 50, 51, 52, 53, 54]\n",
      "[55, 56, 57, 58, 59, 60, 61, 62, 63, 64, 65]\n",
      "[66, 67, 68, 69, 70, 71, 72, 73, 74, 75, 76, 77]\n",
      "[78, 79, 80, 81, 82, 83, 84, 85, 86, 87, 88, 89, 90]\n",
      "[[1, 2], [3, 4, 5], [6, 7, 8, 9], [10, 11, 12, 13, 14], [15, 16, 17, 18, 19, 20], [21, 22, 23, 24, 25, 26, 27], [28, 29, 30, 31, 32, 33, 34, 35], [36, 37, 38, 39, 40, 41, 42, 43, 44], [45, 46, 47, 48, 49, 50, 51, 52, 53, 54], [55, 56, 57, 58, 59, 60, 61, 62, 63, 64, 65], [66, 67, 68, 69, 70, 71, 72, 73, 74, 75, 76, 77], [78, 79, 80, 81, 82, 83, 84, 85, 86, 87, 88, 89, 90]]\n"
     ]
    }
   ],
   "source": [
    "# Rounding all the energies to 4.dp\n",
    "m.calculate_multiplets(result)\n",
    "for elm in result.multiplets:\n",
    "    print(elm)\n",
    "print(result.multiplets)\n",
    "with open(\"multiplets_0_200.pkl\", \"rb\") as file:\n",
    "    test = pickle.load(file)\n",
    "# print(test)\n",
    "with open(\"multiplets_energies_0_200.pkl\", \"rb\") as file:\n",
    "    energies = pickle.load(file)\n",
    "# print(energies)\n",
    "summary = result.check_expected_num_of_multiplets(test, energies, break_first=True)\n",
    "# print(result.multiplet_energies)\n",
    "\n",
    "# for key, value in summary.items():\n",
    "#     print(f'{key}: {value}')\n",
    "#     print('---') "
   ]
  },
  {
   "cell_type": "code",
   "execution_count": 5,
   "metadata": {},
   "outputs": [
    {
     "name": "stdout",
     "output_type": "stream",
     "text": [
      "[[1, 2], [3, 4, 5], [6, 7, 8, 9], [10, 11, 12, 13, 14], [15, 16, 17, 18, 19, 20], [21, 22, 23, 24, 25, 26, 27], [28, 29, 30, 31, 32, 33, 34, 35], [36, 37, 38, 39, 40, 41, 42, 43, 44], [45, 46, 47, 48, 49, 50, 51, 52, 53, 54], [55, 56, 57, 58, 59, 60, 61, 62, 63, 64, 65], [66, 67, 68, 69, 70, 71, 72, 73, 74, 75, 76, 77], [78, 79, 80, 81, 82, 83, 84, 85, 86, 87, 88, 89, 90]]\n",
      "[[1, 2], [4, 5], [6, 7], [8, 9], [11, 12], [13, 14], [15, 16], [17, 18], [20, 21], [22, 23], [24, 25], [26, 27], [28, 29], [30, 31, 32], [33, 34], [35, 36], [37, 38], [39, 40], [41, 42, 43, 44], [45, 46], [48, 49], [50, 51], [52, 53], [54, 55], [56, 57, 58, 59], [60, 61], [62, 63], [64, 65], [67, 68], [69, 70], [71, 72], [73, 74], [75, 76], [77, 78], [79, 80], [81, 82], [83, 84], [85, 86, 87, 88], [90, 91, 92, 93], [94, 95], [96, 97], [98, 99], [100, 101], [102, 103], [104, 105], [106, 107], [108, 109], [110, 111], [112, 113], [115, 116], [117, 118], [119, 120, 121, 122], [123, 124], [125, 126], [127, 128], [129, 130], [131, 132, 133, 134], [135, 136], [137, 138], [139, 140], [141, 142, 143], [144, 145], [146, 147, 148, 149], [150, 151], [152, 153], [154, 155], [156, 157, 158, 159], [160, 161], [162, 163], [164, 165], [166, 167], [168, 169], [170, 171], [172, 173], [175, 176], [177, 178], [179, 180, 181, 182], [183, 184], [185, 186, 187, 188], [189, 190], [191, 192, 193, 194], [195, 196], [197, 198]]\n",
      "1: ('Got: [4, 5] with energy: 0.19298804416749754', 'Expected: [3, 4, 5]', 'Expected energy: 1.125')\n",
      "---\n",
      "2: ('Got: [6, 7] with energy: 0.2508844707300935', 'Expected: [6, 7, 8, 9]', 'Expected energy: 1.5')\n",
      "---\n",
      "3: ('Got: [8, 9] with energy: 0.3280795116103956', 'Expected: [10, 11, 12, 13, 14]', 'Expected energy: 1.875')\n",
      "---\n",
      "4: ('Got: [11, 12] with energy: 0.38597593817301296', 'Expected: [15, 16, 17, 18, 19, 20]', 'Expected energy: 2.25')\n",
      "---\n",
      "5: ('Got: [13, 14] with energy: 0.48246992701350877', 'Expected: [21, 22, 23, 24, 25, 26, 27]', 'Expected energy: 2.625')\n",
      "---\n",
      "6: ('Got: [15, 16] with energy: 0.5017683394438655', 'Expected: [28, 29, 30, 31, 32, 33, 34, 35]', 'Expected energy: 3.0')\n",
      "---\n",
      "7: ('Got: [17, 18] with energy: 0.559664766006456', 'Expected: [36, 37, 38, 39, 40, 41, 42, 43, 44]', 'Expected energy: 3.375')\n",
      "---\n",
      "8: ('Got: [20, 21] with energy: 0.6561587548469369', 'Expected: [45, 46, 47, 48, 49, 50, 51, 52, 53, 54]', 'Expected energy: 3.75')\n",
      "---\n",
      "9: ('Got: [22, 23] with energy: 0.7140543738365562', 'Expected: [55, 56, 57, 58, 59, 60, 61, 62, 63, 64, 65]', 'Expected energy: 4.125')\n",
      "---\n",
      "10: ('Got: [24, 25] with energy: 0.771950800399148', 'Expected: [66, 67, 68, 69, 70, 71, 72, 73, 74, 75, 76, 77]', 'Expected energy: 4.5')\n",
      "---\n",
      "11: ('Got: [26, 27] with energy: 0.7912502222899305', 'Expected: [78, 79, 80, 81, 82, 83, 84, 85, 86, 87, 88, 89, 90]', 'Expected energy: 4.875')\n",
      "---\n"
     ]
    }
   ],
   "source": [
    "# tolerance of 1e-05\n",
    "\n",
    "m.calculate_multiplets(result)\n",
    "print(result.multiplets)\n",
    "with open(\"multiplets_0_200_1e-05.pkl\", \"rb\") as file:\n",
    "    test = pickle.load(file)\n",
    "print(test)\n",
    "with open(\"multiplets_energies_0_200_1e-05.pkl\", \"rb\") as file:\n",
    "    energies = pickle.load(file)\n",
    "# print(energies)\n",
    "summary = result.check_expected_num_of_multiplets(test, energies, break_first=False)\n",
    "# print(result.multiplet_energies)\n",
    "\n",
    "for key, value in summary.items():\n",
    "    print(f'{key}: {value}')\n",
    "    print('---') "
   ]
  },
  {
   "cell_type": "code",
   "execution_count": 6,
   "metadata": {},
   "outputs": [
    {
     "name": "stdout",
     "output_type": "stream",
     "text": [
      "1: ('Got: [4, 5] with energy: 0.19298804416749754', 'Expected: [3, 4, 5]', 'Expected energy: 1.125')\n",
      "---\n"
     ]
    }
   ],
   "source": [
    "# tol of 1e-06\n",
    "\n",
    "m.calculate_multiplets(result)\n",
    "# print(result.multiplets)\n",
    "with open(\"multiplets_0_200_1e-06.pkl\", \"rb\") as file:\n",
    "    test = pickle.load(file)\n",
    "# for elm in test:\n",
    "#     print(elm)\n",
    "with open(\"multiplets_energies_0_200_1e-06.pkl\", \"rb\") as file:\n",
    "    energies = pickle.load(file)\n",
    "# print(energies)\n",
    "summary = result.check_expected_num_of_multiplets(test, energies, break_first=True)\n",
    "# print(result.multiplet_energies)\n",
    "\n",
    "for key, value in summary.items():\n",
    "    print(f'{key}: {value}')\n",
    "    print('---') "
   ]
  },
  {
   "cell_type": "code",
   "execution_count": 8,
   "metadata": {},
   "outputs": [
    {
     "name": "stdout",
     "output_type": "stream",
     "text": [
      "File indices_up_to_20.pkl exists\n",
      "Elapsed Time = 0.006668605000413663\n",
      "<collections_iDEA.Collections.CollectionOfStates object at 0x7f9f36773e80>\n"
     ]
    }
   ],
   "source": [
    "l = 5\n",
    "points = 500\n",
    "x = np.linspace(0, l, points)\n",
    "dx = x[1] - x[0]\n",
    "v_ext = np.zeros(len(x))\n",
    "v_int = np.zeros([len(x), len(x)])\n",
    "s = iDEA.system.System(x, v_ext, v_int, electrons = \"ud\")\n",
    "def pib_energy_fix(index):\n",
    "    return ((index+1)**2) / (2*((l+2*dx)**2))\n",
    "def pib_energy(index):\n",
    "    return ((index+1)**2) / (50)\n",
    "result = m.apply_energy_method(pib_energy_fix, s, 200)\n",
    "\n",
    "print(result)\n",
    "\n",
    "with open(\"result_200.pkl\", \"wb\") as file:\n",
    "    pickle.dump(result, file)"
   ]
  }
 ],
 "metadata": {
  "kernelspec": {
   "display_name": "Python 3",
   "language": "python",
   "name": "python3"
  },
  "language_info": {
   "codemirror_mode": {
    "name": "ipython",
    "version": 3
   },
   "file_extension": ".py",
   "mimetype": "text/x-python",
   "name": "python",
   "nbconvert_exporter": "python",
   "pygments_lexer": "ipython3",
   "version": "3.10.12"
  }
 },
 "nbformat": 4,
 "nbformat_minor": 2
}
