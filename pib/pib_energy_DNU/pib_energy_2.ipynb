{
 "cells": [
  {
   "cell_type": "markdown",
   "id": "99b7d2b3-f632-4bec-8f18-ad43638dc68c",
   "metadata": {},
   "source": [
    "For a particle in a box, the energy eigenvalues of a single particle state are given by $\\epsilon_{k} = \\frac{\\pi^{2}}{2} (k+1)^2$ in atomic units, $L = 1$ and for $k = 0, 1, \\dots$  with $k = 0$ being the ground state of the system.\n",
    "\n",
    "This gives a simple $\\frac{(k+1)^2}{2}$ relation if we write energy in terms of $\\pi^2$.\n",
    "\n",
    "Thus $\\epsilon_{0} = 0.5, \\epsilon_{1} = 2, \\epsilon_{2} = 4.5$ etc \n",
    "\n",
    "This energy eigenvalue solves equation $H_{s}\\psi_{k} = \\epsilon_{k}\\psi_{k}$. \n",
    "\n",
    "However when calling `iDEA.methods.interacting.solve`, the energy given out is the eigenvalue of $H_{MB} \\phi = E_{k} \\phi$, but for a system like a particle in a box, we know that analytically the ground state should be $E_{0} = 2\\epsilon_{0}= 1$ and can draw out other states."
   ]
  },
  {
   "cell_type": "code",
   "execution_count": 18,
   "id": "dd1cd4e1-ede9-4c4a-af61-761f614f2943",
   "metadata": {},
   "outputs": [],
   "source": [
    "import numpy as np\n",
    "import matplotlib.pyplot as plt\n",
    "import iDEA\n",
    "\n",
    "# run variables\n",
    "\n",
    "points = 250\n",
    "num_of_states = 10\n",
    "\n",
    "# initalise the system\n",
    "\n",
    "l = 1\n",
    "x = np.linspace(0, l, points)\n",
    "v_ext = np.zeros(len(x))\n",
    "v_int = np.zeros([len(x), len(x)])\n",
    "pib_single = iDEA.system.System(x, v_ext, v_int, electrons = \"u\")\n",
    "pib_double = iDEA.system.System(x, v_ext, v_int, electrons = \"ud\")"
   ]
  },
  {
   "cell_type": "code",
   "execution_count": 19,
   "id": "19481118-dc62-418c-8cf6-94e2d494452f",
   "metadata": {},
   "outputs": [
    {
     "name": "stdout",
     "output_type": "stream",
     "text": [
      "iDEA.methods.interacting.solve: solving eigenproblem...\n",
      "iDEA.methods.interacting.solve: solving eigenproblem...\n",
      "iDEA.methods.non_interacting.solve: convergence = 0.0, tolerance = 1e-10\n",
      "iDEA.methods.interacting.solve: solving eigenproblem...\n",
      "iDEA.methods.interacting.solve: solving eigenproblem...\n",
      "iDEA.methods.non_interacting.solve: convergence = 0.0, tolerance = 1e-10\n",
      "iDEA.methods.interacting.solve: solving eigenproblem...\n",
      "iDEA.methods.interacting.solve: solving eigenproblem...\n",
      "iDEA.methods.non_interacting.solve: convergence = 0.0, tolerance = 1e-10\n",
      "iDEA.methods.interacting.solve: solving eigenproblem...\n",
      "iDEA.methods.interacting.solve: solving eigenproblem...\n",
      "iDEA.methods.non_interacting.solve: convergence = 0.0, tolerance = 1e-10\n",
      "iDEA.methods.interacting.solve: solving eigenproblem...\n",
      "iDEA.methods.interacting.solve: solving eigenproblem...\n",
      "iDEA.methods.non_interacting.solve: convergence = 0.0, tolerance = 1e-10\n",
      "iDEA.methods.interacting.solve: solving eigenproblem...\n",
      "iDEA.methods.interacting.solve: solving eigenproblem...\n",
      "iDEA.methods.non_interacting.solve: convergence = 0.0, tolerance = 1e-10\n",
      "iDEA.methods.interacting.solve: solving eigenproblem...\n",
      "iDEA.methods.interacting.solve: solving eigenproblem...\n",
      "iDEA.methods.non_interacting.solve: convergence = 0.0, tolerance = 1e-10\n",
      "iDEA.methods.interacting.solve: solving eigenproblem...\n",
      "iDEA.methods.interacting.solve: solving eigenproblem...\n",
      "iDEA.methods.non_interacting.solve: convergence = 0.0, tolerance = 1e-10\n",
      "iDEA.methods.interacting.solve: solving eigenproblem...\n",
      "iDEA.methods.interacting.solve: solving eigenproblem...\n",
      "iDEA.methods.non_interacting.solve: convergence = 0.0, tolerance = 1e-10\n",
      "iDEA.methods.interacting.solve: solving eigenproblem...\n",
      "iDEA.methods.interacting.solve: solving eigenproblem...\n",
      "iDEA.methods.non_interacting.solve: convergence = 0.0, tolerance = 1e-10\n",
      "Done\n"
     ]
    }
   ],
   "source": [
    "# initalise the arrays\n",
    "\n",
    "energies_int = []\n",
    "energies_single = []\n",
    "energies_errors = []\n",
    "occupied_levels = {}\n",
    "\n",
    "# solve for the state and extract the energy\n",
    "for i in range(num_of_states):\n",
    "    orbital_energy = []\n",
    "    # methods using pib_single\n",
    "    s = iDEA.methods.interacting.solve(pib_single, k=i)\n",
    "    energies_single.append(np.round((s.energy / (np.pi)**2), decimals=4))\n",
    "\n",
    "    # methods using pib_double\n",
    "    j = iDEA.methods.interacting.solve(pib_double, k=i)\n",
    "    energies_int.append(np.round((j.energy / (np.pi)**2), decimals=4))\n",
    "    \n",
    "    t = iDEA.methods.non_interacting.solve(pib_double, k=i)\n",
    "    energies_up = np.round((t.up.energies / ((np.pi)**2)), decimals=4) # energies of single body state\n",
    "    energies_down = np.round((t.down.energies / ((np.pi)**2)), decimals=4)\n",
    "    up_occ_index = t.up.occupied # index of occupied orbitals\n",
    "    down_occ_index = t.down.occupied\n",
    "    # up_occ = t.up.occupations # full array of occupations\n",
    "    # down_occ = t.down.occupations\n",
    "\n",
    "    for index in up_occ_index:\n",
    "        orbital_energy.append(energies_up[index])\n",
    "\n",
    "    for index in down_occ_index:\n",
    "        orbital_energy.append(energies_down[index])\n",
    "\n",
    "    energy_sum = np.sum(orbital_energy)\n",
    "    \n",
    "    occupied_levels[f\"State = {i}\"] = (f\"Orbitals occupied by up: {up_occ_index}\", f\"Orbitals occupied by down: {down_occ_index}\", \\\n",
    "                                       f\"Energy of occupied orbitals: {orbital_energy}\", f\"Total energy = {energy_sum}\")\n",
    "    \n",
    "    \n",
    "    energies_errors.append(abs( (((i+1)**2)/2) - np.round((s.energy / (np.pi)**2), decimals=4)))\n",
    "    # state = iDEA.methods.non_interacting.solve(pib, k=i)\n",
    "    # e = iDEA.methods.non_inte(np.round((j.energy / (np.pi)**2), decimals=4))racting.total_energy(pib, state)\n",
    "    # energies_non_int.append(e)\n",
    "print(\"Done\")\n"
   ]
  },
  {
   "cell_type": "markdown",
   "id": "5cb2eddf-81a0-44b4-8113-12356b5651d7",
   "metadata": {},
   "source": [
    "**All above are the initalisation and calculations etc**"
   ]
  },
  {
   "cell_type": "code",
   "execution_count": 20,
   "id": "d36c9198-0a42-4b44-90ab-0433bdb569e2",
   "metadata": {},
   "outputs": [
    {
     "name": "stdout",
     "output_type": "stream",
     "text": [
      "State = 0: ('Orbitals occupied by up: [0]', 'Orbitals occupied by down: [0]', 'Energy of occupied orbitals: [0.4929, 0.4929]', 'Total energy = 0.9858')\n",
      "---\n",
      "State = 1: ('Orbitals occupied by up: [0]', 'Orbitals occupied by down: [1]', 'Energy of occupied orbitals: [0.4929, 1.9717]', 'Total energy = 2.4646')\n",
      "---\n",
      "State = 2: ('Orbitals occupied by up: [1]', 'Orbitals occupied by down: [0]', 'Energy of occupied orbitals: [1.9717, 0.4929]', 'Total energy = 2.4646')\n",
      "---\n",
      "State = 3: ('Orbitals occupied by up: [1]', 'Orbitals occupied by down: [1]', 'Energy of occupied orbitals: [1.9717, 1.9717]', 'Total energy = 3.9434')\n",
      "---\n",
      "State = 4: ('Orbitals occupied by up: [2]', 'Orbitals occupied by down: [0]', 'Energy of occupied orbitals: [4.4363, 0.4929]', 'Total energy = 4.9292')\n",
      "---\n",
      "State = 5: ('Orbitals occupied by up: [0]', 'Orbitals occupied by down: [2]', 'Energy of occupied orbitals: [0.4929, 4.4363]', 'Total energy = 4.9292')\n",
      "---\n",
      "State = 6: ('Orbitals occupied by up: [2]', 'Orbitals occupied by down: [1]', 'Energy of occupied orbitals: [4.4363, 1.9717]', 'Total energy = 6.408')\n",
      "---\n",
      "State = 7: ('Orbitals occupied by up: [2]', 'Orbitals occupied by down: [1]', 'Energy of occupied orbitals: [4.4363, 1.9717]', 'Total energy = 6.408')\n",
      "---\n",
      "State = 8: ('Orbitals occupied by up: [0]', 'Orbitals occupied by down: [3]', 'Energy of occupied orbitals: [0.4929, 7.8867]', 'Total energy = 8.3796')\n",
      "---\n",
      "State = 9: ('Orbitals occupied by up: [0]', 'Orbitals occupied by down: [3]', 'Energy of occupied orbitals: [0.4929, 7.8867]', 'Total energy = 8.3796')\n",
      "---\n"
     ]
    }
   ],
   "source": [
    "for key, value in occupied_levels.items():\n",
    "    print(f'{key}: {value}')\n",
    "    print('---') "
   ]
  },
  {
   "cell_type": "markdown",
   "id": "c8c56139-9e27-4d15-9c2c-4308ea033e2a",
   "metadata": {},
   "source": [
    "**Main Results**\n",
    "\n",
    "As seen above, the reason why we are getting degenerate energies is because iDEA is placing the up and down electrons in either the same orbitals for the state (i.e. state 8 and 9), or a degenerate configuration (i.e. state 1 and 2).\n",
    "\n",
    "Calling `interacting.solve()` and `non-interacting.solve()` leads to the same $E_{k}$ as seen in the `Total energy` column of the dictionary"
   ]
  },
  {
   "cell_type": "code",
   "execution_count": 21,
   "id": "43717d7a-077f-4aad-bf6a-3aa51134c866",
   "metadata": {},
   "outputs": [
    {
     "name": "stdout",
     "output_type": "stream",
     "text": [
      "Energies of interacting method 'ud'\n",
      "State = 0, energy = 0.9858 per pi squared\n",
      "State = 1, energy = 2.4646 per pi squared\n",
      "State = 2, energy = 2.4646 per pi squared\n",
      "State = 3, energy = 3.9433 per pi squared\n",
      "State = 4, energy = 4.9292 per pi squared\n",
      "State = 5, energy = 4.9292 per pi squared\n",
      "State = 6, energy = 6.4079 per pi squared\n",
      "State = 7, energy = 6.4079 per pi squared\n",
      "State = 8, energy = 8.3796 per pi squared\n",
      "State = 9, energy = 8.3796 per pi squared\n",
      "\n",
      "Energies of interacting method 'u'\n",
      "State = 0, energy = 0.4929 per pi squared\n",
      "State = 1, energy = 1.9717 per pi squared\n",
      "State = 2, energy = 4.4363 per pi squared\n",
      "State = 3, energy = 7.8867 per pi squared\n",
      "State = 4, energy = 12.3229 per pi squared\n",
      "State = 5, energy = 17.745 per pi squared\n",
      "State = 6, energy = 24.153 per pi squared\n",
      "State = 7, energy = 31.5467 per pi squared\n",
      "State = 8, energy = 39.9263 per pi squared\n",
      "State = 9, energy = 49.2918 per pi squared\n",
      "\n",
      "Errors\n",
      "State = 0, error = 0.007099999999999995 per pi squared\n",
      "State = 1, error = 0.028299999999999992 per pi squared\n",
      "State = 2, error = 0.06369999999999987 per pi squared\n",
      "State = 3, error = 0.11329999999999973 per pi squared\n",
      "State = 4, error = 0.17709999999999937 per pi squared\n",
      "State = 5, error = 0.254999999999999 per pi squared\n",
      "State = 6, error = 0.3470000000000013 per pi squared\n",
      "State = 7, error = 0.4532999999999987 per pi squared\n",
      "State = 8, error = 0.5737000000000023 per pi squared\n",
      "State = 9, error = 0.7081999999999979 per pi squared\n"
     ]
    }
   ],
   "source": [
    "# print results\n",
    "\n",
    "print(\"Energies of interacting method 'ud'\")\n",
    "for i, value in enumerate(energies_int):\n",
    "    print(f\"State = {i}, energy = {value} per pi squared\")\n",
    "print(\"\")\n",
    "print(\"Energies of interacting method 'u'\")\n",
    "for i, value in enumerate(energies_single):\n",
    "    print(f\"State = {i}, energy = {value} per pi squared\")\n",
    "print(\"\")\n",
    "print(\"Errors\")\n",
    "for i, value in enumerate(energies_errors):\n",
    "    print(f\"State = {i}, error = {value} per pi squared\")\n",
    "    "
   ]
  },
  {
   "cell_type": "markdown",
   "id": "7bfeec32-e458-4f1e-b687-2667d4af1ef1",
   "metadata": {},
   "source": [
    "The errors seem to get larger as the state increases from the true value."
   ]
  },
  {
   "cell_type": "code",
   "execution_count": 22,
   "id": "0463100a-9f18-4631-a262-1f53849afb1a",
   "metadata": {},
   "outputs": [
    {
     "name": "stdout",
     "output_type": "stream",
     "text": [
      "State 1 and 2 have the same energy\n",
      "State 4 and 5 have the same energy\n",
      "State 6 and 7 have the same energy\n",
      "State 8 and 9 have the same energy\n"
     ]
    }
   ],
   "source": [
    "# print the degenerate states\n",
    "\n",
    "for i in range(len(energies_int)):\n",
    "    if energies_int[i] == energies_int[i-1]:\n",
    "        print(f\"State {i-1} and {i} have the same energy\")"
   ]
  },
  {
   "cell_type": "code",
   "execution_count": 23,
   "id": "2fe64556-3998-4fcd-9a6e-10b6a17bc038",
   "metadata": {},
   "outputs": [
    {
     "data": {
      "image/png": "[encoded data removed]",
      "text/plain": [
       "<Figure size 640x480 with 2 Axes>"
      ]
     },
     "metadata": {},
     "output_type": "display_data"
    }
   ],
   "source": [
    "# plot the energies\n",
    "\n",
    "fig, (ax1, ax2) = plt.subplots(1, 2)\n",
    "\n",
    "for i, value in enumerate(energies_int):\n",
    "    ax1.axhline(y=value, color='b', linestyle='-')\n",
    "    if energies_int[i] == energies_int[i-1]:\n",
    "        ax1.text(x=1.4, y=value, s=f'{value}', color='black', va='center', ha='right')\n",
    "    else:\n",
    "        ax1.text(x=1.4, y=value, s=f'{value}', color='red', va='center', ha='right')\n",
    "\n",
    "for i, value in enumerate(energies_single):\n",
    "    ax2.axhline(y=value, color='b', linestyle='-')\n",
    "    ax2.text(x=1.4, y=value, s=f'{value}', color='red', va='center', ha='right')\n",
    "\n",
    "\n",
    "ax1.set_title('Plot of energies from \\n interacting method \"ud\"')\n",
    "ax2.set_title('Plot of energies from \\n interacting method \"u\"')\n",
    "ax1.set_xlabel(\"Box\")\n",
    "ax1.set_ylabel(\"Energies\")\n",
    "ax2.set_xlabel(\"Box\")\n",
    "ax2.set_ylabel(\"Energies\")\n",
    "plt.tight_layout()\n",
    "plt.show()"
   ]
  },
  {
   "cell_type": "markdown",
   "id": "43272660-9a1c-443b-8e85-9394b7e49894",
   "metadata": {},
   "source": [
    "The plot on the left are the energies with the degenerate states being labelled in black, the plot on the right are the orbital energies "
   ]
  },
  {
   "cell_type": "markdown",
   "id": "7c9723e8-f9d5-4897-bb7c-9b3d3c93775a",
   "metadata": {},
   "source": [
    "**Conclusion**\n",
    "\n",
    "I may be fundamentally misunderstanding the theory here.\n",
    "\n",
    "But the errors are quite large as compared to the theory predicted results ($\\epsilon_{k} = \\frac{(k+1)^{2}}{2})$)\n",
    "\n",
    "And while there seems to be an ordering of $E_{k}$, there are seemingly random states that are degenerate because iDEA places the electrons in the same configuration per state. \n",
    "\n",
    "Further investigations will include seeing what states get occupied visually through plotting, and if things change drastically with different electron configurations i.e. \"uu\", \"uud\". \n",
    "\n",
    "This may be the multiplets that are the point of investigation."
   ]
  }
 ],
 "metadata": {
  "kernelspec": {
   "display_name": "Python 3 (ipykernel)",
   "language": "python",
   "name": "python3"
  },
  "language_info": {
   "codemirror_mode": {
    "name": "ipython",
    "version": 3
   },
   "file_extension": ".py",
   "mimetype": "text/x-python",
   "name": "python",
   "nbconvert_exporter": "python",
   "pygments_lexer": "ipython3",
   "version": "3.12.4"
  }
 },
 "nbformat": 4,
 "nbformat_minor": 5
}
