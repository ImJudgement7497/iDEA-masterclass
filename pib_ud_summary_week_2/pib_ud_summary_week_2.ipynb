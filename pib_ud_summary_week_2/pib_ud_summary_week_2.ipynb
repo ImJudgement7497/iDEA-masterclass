{
 "cells": [
  {
   "cell_type": "markdown",
   "metadata": {},
   "source": [
    "# Week 2\n"
   ]
  },
  {
   "cell_type": "markdown",
   "metadata": {},
   "source": [
    "This week I have continued to use iDEA to simulate a particle in a box system, while fixing the bug presented last week. I also used the \"fix\" to the energy eigenvalues to the probability densities."
   ]
  },
  {
   "cell_type": "markdown",
   "metadata": {},
   "source": [
    "## The bug fix \n"
   ]
  },
  {
   "attachments": {
    "image-2.png": {
     "image/png": "[encoded data removed]"
    },
    "image.png": {
     "image/png": "[encoded data removed]"
    }
   },
   "cell_type": "markdown",
   "metadata": {},
   "source": [
    "As described last week, the bug was that for degenrate states, iDEA was placing the electrons in the wrong orbitals.\n",
    "\n",
    "To attempt to fix this, I cloned my own version from iDEA and opened it up and to my surprise, the output was different. I ran some testing that involved uninstalling iDEA then reinstalling either my cloned version or from the `pip` manager, and these tests showed that the bug only persisted in the `pip` version, not my own.\n",
    "\n",
    "\n",
    "![image.png](attachment:image.png)\n",
    "*Figure 1 (Left): Results from `pip` version of iDEA*\n",
    "![image-2.png](attachment:image-2.png)\n",
    "*Figure 2 (Left): Results from my own version of iDEA*"
   ]
  },
  {
   "cell_type": "markdown",
   "metadata": {},
   "source": [
    "This left me incredibly puzzled, so I gutted iDEA and located the problem to one of the functions of `iDEA.methods.non_interacting`. I rebuilt the function so that it did not use iDEA, but keeping the same source code. The bug did not happen.\n",
    "\n",
    "After some further testing, I changed one argument of a `numpy` function and the bug occured. Overjoyed that I have found the issue, I check iDEA's GitHub page, only to find the same bug reported and fixed last year. The commit was not passed onto the `pip` version of iDEA. \n",
    "\n",
    "This ends the legacy of this bug.\n",
    "\n",
    "![gif](output1.gif)\n",
    "*A GIF that shows the occupation of the first 10 excited states.*"
   ]
  },
  {
   "cell_type": "markdown",
   "metadata": {},
   "source": [
    "## The probability densities"
   ]
  },
  {
   "cell_type": "markdown",
   "metadata": {},
   "source": [
    "As discussed last week, implementing a slight change to $L \\rightarrow L+ 2\\delta x$, the energy errors decreased by 88%. Implementing a similar fix to the probability densities, we get the following graphs:\n",
    "\n",
    "![gif](density_100.gif)\n",
    "*Probability densities for a run of 100 points*\n",
    "\n",
    "![gif](density_750.gif)\n",
    "*Probability densities for a run of 750 points*"
   ]
  },
  {
   "cell_type": "markdown",
   "metadata": {},
   "source": [
    "And as it can be seen by the blue and red lines, the $L + \\delta x$ fix decreases the error significantly for 100 points, however at 750 points $\\delta x$ is quite small, so the fix is not seen as much."
   ]
  }
 ],
 "metadata": {
  "language_info": {
   "name": "python"
  }
 },
 "nbformat": 4,
 "nbformat_minor": 2
}
