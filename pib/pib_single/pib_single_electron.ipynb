{
 "cells": [
  {
   "cell_type": "markdown",
   "id": "e2c53436-8db0-42f0-bfe2-2fb868b90f48",
   "metadata": {},
   "source": [
    "For a particle in a box, the energy eigenvalues of a single particle state are given by $\\epsilon_{k} = \\frac{\\pi^{2}}{2L^{2}} (k+1)^2$ in atomic units, and for $k = 0, 1, \\dots$  with $k = 0$ being the ground state of the system.\n",
    "\n",
    "This gives a simple $\\frac{(k+1)^2}{2L^{2}}$ relation if we write energy in terms of $\\pi^2$.\n",
    "\n",
    "Thus $\\epsilon_{0} = \\frac{0.5}{L^{2}}, \\epsilon_{1} = \\frac{2}{L^{2}}, \\epsilon_{2} = \\frac{4.5}{L^{2}}$ etc \n",
    "\n",
    "This energy eigenvalue solves equation $H_{s}\\psi_{k} = \\epsilon_{k}\\psi_{k}$. \n",
    "\n",
    "However when calling `iDEA.methods.interacting.solve`, the energy given out is the eigenvalue of $H_{MB} \\phi = E_{k} \\phi$, but for a system like a particle in a box, we know that analytically the ground state should be $E_{0} = 2\\epsilon_{0}= 1$ and can draw out other states."
   ]
  },
  {
   "cell_type": "markdown",
   "id": "668d843b-6415-428b-ba70-98fb7e5c91e2",
   "metadata": {},
   "source": [
    "# Initalisation"
   ]
  },
  {
   "cell_type": "code",
   "execution_count": 1,
   "id": "4e04a97c-3e73-4731-8909-9bdbe9bff358",
   "metadata": {},
   "outputs": [],
   "source": [
    "import numpy as np\n",
    "import matplotlib.pyplot as plt\n",
    "import ipywidgets as widgets\n",
    "from IPython.display import display\n",
    "import iDEA\n",
    "import pandas as pd\n",
    "import time"
   ]
  },
  {
   "cell_type": "code",
   "execution_count": 2,
   "id": "d4f19c03-0501-4d10-ab84-810440d44252",
   "metadata": {},
   "outputs": [],
   "source": [
    "summary = []\n",
    "\n",
    "def run(l, points, num_of_states):\n",
    "\n",
    "    start = time.perf_counter()\n",
    "    # initalise system\n",
    "    x = np.linspace(0, l, points)\n",
    "    dx = x[1] - x[0]\n",
    "    v_ext = np.zeros(len(x))\n",
    "    v_int = np.zeros([len(x), len(x)])\n",
    "    pib_single = iDEA.system.System(x, v_ext, v_int, electrons = \"u\")\n",
    "\n",
    "    orbital_space = []\n",
    "    orbital_energies = []\n",
    "    analytic_energies_1 = []\n",
    "    analytic_energies_2 = []\n",
    "    errors_1 = []\n",
    "    errors_2 = []\n",
    "    percentage_errors_1 = []\n",
    "    percentage_errors_2 = []\n",
    "    \n",
    "    for i in range(num_of_states):\n",
    "        s = iDEA.methods.interacting.solve(pib_single, k=i)\n",
    "                                          \n",
    "        orbital_space.append((abs(s.space)**2))\n",
    "        approx_energy = s.energy / (np.pi)**2\n",
    "        orbital_energies.append(approx_energy)\n",
    "\n",
    "        analytic_energy_1 = ((i + 1)**2) / (2 * (l**2))\n",
    "        error_1 = abs(analytic_energy_1 - approx_energy)\n",
    "        percent_error_1 = (error_1 / abs(analytic_energy_1) ) * 100\n",
    "        analytic_energies_1.append(analytic_energy_1)\n",
    "        errors_1.append(error_1)\n",
    "        percentage_errors_1.append(percent_error_1)\n",
    "\n",
    "        analytic_energy_2 = ((i + 1)**2) / (2 * ((l+2*dx)**2))\n",
    "        error_2 = abs(analytic_energy_2 - approx_energy)\n",
    "        percent_error_2 = (error_2 / abs(analytic_energy_2) ) * 100\n",
    "        analytic_energies_2.append(analytic_energy_2)\n",
    "        errors_2.append(error_2)\n",
    "        percentage_errors_2.append(percent_error_2)\n",
    "\n",
    "    data = [orbital_energies, analytic_energies_1, errors_1, percentage_errors_1]\n",
    "\n",
    "    df = pd.DataFrame({\n",
    "        \"Orbital Energies\": orbital_energies,\n",
    "        \"Analytic Energies 1\": analytic_energies_1,\n",
    "        \"Errors 1\": errors_1,\n",
    "        \"Percentage Errors 1\": percentage_errors_1,\n",
    "        \"Analytic Energies 2\" : analytic_energies_2,\n",
    "        \"Errors 2\": errors_2,\n",
    "        \"Percentage Errors 2\": percentage_errors_2\n",
    "    })\n",
    "\n",
    "    # Display the DataFrame\n",
    "    print(df)\n",
    "    # Define the function to plot the array\n",
    "    def plot_array(k):\n",
    "        plt.figure(figsize=(10, 6))\n",
    "        plt.plot(x, orbital_space[k], \"black\")\n",
    "        plt.plot(x, (abs(np.sqrt(2/l)*np.sin(np.pi * x * (k+1)/ l))**2), \"b--\")\n",
    "        plt.title(f'State {k} ')\n",
    "        plt.xlabel('x')\n",
    "        plt.ylabel('y')\n",
    "        plt.grid(True)\n",
    "        plt.legend([\"Approximate prob. density\", \"Analytical prob. density\"])\n",
    "        plt.show()\n",
    "    \n",
    "    # Create a slider widget\n",
    "    slider = widgets.IntSlider(value=0, min=0, max=len(orbital_space)-1, step=1, description='k:')\n",
    "    interactive_plot = widgets.interactive(plot_array, k=slider)\n",
    "    \n",
    "    # Display the interactive plot\n",
    "    display(interactive_plot)\n",
    "\n",
    "    end = time.perf_counter()\n",
    "    \n",
    "    elapsed = end - start\n",
    "\n",
    "    max_error_1 = np.max(percentage_errors_1)\n",
    "    max_error_2 = np.max(percentage_errors_2)\n",
    "    \n",
    "    print(f\"Elapsed time: {elapsed} seconds\")\n",
    "\n",
    "    summ = [l, points, num_of_states, elapsed, max_error_1, max_error_2]\n",
    "    summary.append(summ)"
   ]
  },
  {
   "cell_type": "markdown",
   "id": "1d641632-33bf-4549-840d-69f8f11c79d2",
   "metadata": {},
   "source": [
    "# **Run for `l = 1`, `points = 100`, `num_of_states = 20`**"
   ]
  },
  {
   "cell_type": "code",
   "execution_count": 1,
   "id": "76f3b850-a4b2-4075-a025-774c6a4d4694",
   "metadata": {},
   "outputs": [
    {
     "ename": "NameError",
     "evalue": "name 'run' is not defined",
     "output_type": "error",
     "traceback": [
      "\u001b[0;31m---------------------------------------------------------------------------\u001b[0m",
      "\u001b[0;31mNameError\u001b[0m                                 Traceback (most recent call last)",
      "Cell \u001b[0;32mIn[1], line 2\u001b[0m\n\u001b[1;32m      1\u001b[0m \u001b[38;5;66;03m# run(l, points, num_of_states)\u001b[39;00m\n\u001b[0;32m----> 2\u001b[0m \u001b[43mrun\u001b[49m(\u001b[38;5;241m1\u001b[39m, \u001b[38;5;241m100\u001b[39m, \u001b[38;5;241m20\u001b[39m)\n",
      "\u001b[0;31mNameError\u001b[0m: name 'run' is not defined"
     ]
    }
   ],
   "source": [
    "# run(l, points, num_of_states)\n",
    "run(1, 100, 20)"
   ]
  },
  {
   "cell_type": "markdown",
   "id": "83c47016-a546-459c-8371-bc043624328a",
   "metadata": {},
   "source": [
    "# **Run for `l = 1`, `points = 500`, `num_of_states = 20`**"
   ]
  },
  {
   "cell_type": "code",
   "execution_count": 4,
   "id": "a93f27e1-ed75-44f6-a57f-21fd3ddbf2b4",
   "metadata": {
    "jupyter": {
     "source_hidden": true
    }
   },
   "outputs": [
    {
     "name": "stdout",
     "output_type": "stream",
     "text": [
      "iDEA.methods.interacting.solve: solving eigenproblem...\n",
      "iDEA.methods.interacting.solve: solving eigenproblem...\n",
      "iDEA.methods.interacting.solve: solving eigenproblem...\n",
      "iDEA.methods.interacting.solve: solving eigenproblem...\n",
      "iDEA.methods.interacting.solve: solving eigenproblem...\n",
      "iDEA.methods.interacting.solve: solving eigenproblem...\n",
      "iDEA.methods.interacting.solve: solving eigenproblem...\n",
      "iDEA.methods.interacting.solve: solving eigenproblem...\n",
      "iDEA.methods.interacting.solve: solving eigenproblem...\n",
      "iDEA.methods.interacting.solve: solving eigenproblem...\n",
      "iDEA.methods.interacting.solve: solving eigenproblem...\n",
      "iDEA.methods.interacting.solve: solving eigenproblem...\n",
      "iDEA.methods.interacting.solve: solving eigenproblem...\n",
      "iDEA.methods.interacting.solve: solving eigenproblem...\n",
      "iDEA.methods.interacting.solve: solving eigenproblem...\n",
      "iDEA.methods.interacting.solve: solving eigenproblem...\n",
      "iDEA.methods.interacting.solve: solving eigenproblem...\n",
      "iDEA.methods.interacting.solve: solving eigenproblem...\n",
      "iDEA.methods.interacting.solve: solving eigenproblem...\n",
      "iDEA.methods.interacting.solve: solving eigenproblem...\n",
      "    Orbital Energies  Analytic Energies 1  Errors 1  Percentage Errors 1  \\\n",
      "0           0.496447                  0.5  0.003553             0.710595   \n",
      "1           1.985788                  2.0  0.014212             0.710595   \n",
      "2           4.468023                  4.5  0.031977             0.710595   \n",
      "3           7.943152                  8.0  0.056848             0.710595   \n",
      "4          12.411175                 12.5  0.088825             0.710596   \n",
      "5          17.872093                 18.0  0.127907             0.710597   \n",
      "6          24.325904                 24.5  0.174096             0.710597   \n",
      "7          31.772609                 32.0  0.227391             0.710598   \n",
      "8          40.212207                 40.5  0.287793             0.710599   \n",
      "9          49.644700                 50.0  0.355300             0.710600   \n",
      "10         60.070086                 60.5  0.429914             0.710602   \n",
      "11         71.488366                 72.0  0.511634             0.710603   \n",
      "12         83.899539                 84.5  0.600461             0.710604   \n",
      "13         97.303606                 98.0  0.696394             0.710606   \n",
      "14        111.700566                112.5  0.799434             0.710608   \n",
      "15        127.090420                128.0  0.909580             0.710609   \n",
      "16        143.473167                144.5  1.026833             0.710611   \n",
      "17        160.848806                162.0  1.151194             0.710613   \n",
      "18        179.217339                180.5  1.282661             0.710616   \n",
      "19        198.578764                200.0  1.421236             0.710618   \n",
      "\n",
      "    Analytic Energies 2  Errors 2  Percentage Errors 2  \n",
      "0              0.496016  0.000431             0.086907  \n",
      "1              1.984064  0.001724             0.086907  \n",
      "2              4.464144  0.003880             0.086907  \n",
      "3              7.936255  0.006897             0.086907  \n",
      "4             12.400399  0.010777             0.086906  \n",
      "5             17.856574  0.015518             0.086905  \n",
      "6             24.304782  0.021122             0.086905  \n",
      "7             31.745021  0.027588             0.086904  \n",
      "8             40.177292  0.034915             0.086903  \n",
      "9             49.601595  0.043105             0.086902  \n",
      "10            60.017930  0.052156             0.086900  \n",
      "11            71.426297  0.062069             0.086899  \n",
      "12            83.826696  0.072843             0.086898  \n",
      "13            97.219127  0.084480             0.086896  \n",
      "14           111.603589  0.096977             0.086894  \n",
      "15           126.980084  0.110336             0.086893  \n",
      "16           143.348610  0.124556             0.086891  \n",
      "17           160.709168  0.139638             0.086889  \n",
      "18           179.061759  0.155580             0.086886  \n",
      "19           198.406381  0.172383             0.086884  \n"
     ]
    },
    {
     "data": {
      "application/vnd.jupyter.widget-view+json": {
       "model_id": "79704f09deb34185bde7e229d7ba036d",
       "version_major": 2,
       "version_minor": 0
      },
      "text/plain": [
       "interactive(children=(IntSlider(value=0, description='k:', max=19), Output()), _dom_classes=('widget-interact'…"
      ]
     },
     "metadata": {},
     "output_type": "display_data"
    },
    {
     "name": "stdout",
     "output_type": "stream",
     "text": [
      "Elapsed time: 3.782345351000913 seconds\n"
     ]
    }
   ],
   "source": [
    "run(1, 500, 20)"
   ]
  },
  {
   "cell_type": "markdown",
   "id": "939ce91c-aaba-42ea-b651-8394fc0ec570",
   "metadata": {},
   "source": [
    "# **Run for `l = 5`, `points = 500`, `num_of_states = 20`**"
   ]
  },
  {
   "cell_type": "code",
   "execution_count": 5,
   "id": "9f121684-62cc-4f57-9274-d52809380247",
   "metadata": {
    "jupyter": {
     "source_hidden": true
    },
    "scrolled": true
   },
   "outputs": [
    {
     "name": "stdout",
     "output_type": "stream",
     "text": [
      "iDEA.methods.interacting.solve: solving eigenproblem...\n",
      "iDEA.methods.interacting.solve: solving eigenproblem...\n",
      "iDEA.methods.interacting.solve: solving eigenproblem...\n",
      "iDEA.methods.interacting.solve: solving eigenproblem...\n",
      "iDEA.methods.interacting.solve: solving eigenproblem...\n",
      "iDEA.methods.interacting.solve: solving eigenproblem...\n",
      "iDEA.methods.interacting.solve: solving eigenproblem...\n",
      "iDEA.methods.interacting.solve: solving eigenproblem...\n",
      "iDEA.methods.interacting.solve: solving eigenproblem...\n",
      "iDEA.methods.interacting.solve: solving eigenproblem...\n",
      "iDEA.methods.interacting.solve: solving eigenproblem...\n",
      "iDEA.methods.interacting.solve: solving eigenproblem...\n",
      "iDEA.methods.interacting.solve: solving eigenproblem...\n",
      "iDEA.methods.interacting.solve: solving eigenproblem...\n",
      "iDEA.methods.interacting.solve: solving eigenproblem...\n",
      "iDEA.methods.interacting.solve: solving eigenproblem...\n",
      "iDEA.methods.interacting.solve: solving eigenproblem...\n",
      "iDEA.methods.interacting.solve: solving eigenproblem...\n",
      "iDEA.methods.interacting.solve: solving eigenproblem...\n",
      "iDEA.methods.interacting.solve: solving eigenproblem...\n",
      "    Orbital Energies  Analytic Energies 1  Errors 1  Percentage Errors 1  \\\n",
      "0           0.019858                 0.02  0.000142             0.710595   \n",
      "1           0.079432                 0.08  0.000568             0.710595   \n",
      "2           0.178721                 0.18  0.001279             0.710595   \n",
      "3           0.317726                 0.32  0.002274             0.710595   \n",
      "4           0.496447                 0.50  0.003553             0.710596   \n",
      "5           0.714884                 0.72  0.005116             0.710597   \n",
      "6           0.973036                 0.98  0.006964             0.710597   \n",
      "7           1.270904                 1.28  0.009096             0.710598   \n",
      "8           1.608488                 1.62  0.011512             0.710599   \n",
      "9           1.985788                 2.00  0.014212             0.710600   \n",
      "10          2.402803                 2.42  0.017197             0.710602   \n",
      "11          2.859535                 2.88  0.020465             0.710603   \n",
      "12          3.355982                 3.38  0.024018             0.710604   \n",
      "13          3.892144                 3.92  0.027856             0.710606   \n",
      "14          4.468023                 4.50  0.031977             0.710608   \n",
      "15          5.083617                 5.12  0.036383             0.710609   \n",
      "16          5.738927                 5.78  0.041073             0.710611   \n",
      "17          6.433952                 6.48  0.046048             0.710613   \n",
      "18          7.168694                 7.22  0.051306             0.710616   \n",
      "19          7.943151                 8.00  0.056849             0.710618   \n",
      "\n",
      "    Analytic Energies 2  Errors 2  Percentage Errors 2  \n",
      "0              0.019841  0.000017             0.086907  \n",
      "1              0.079363  0.000069             0.086907  \n",
      "2              0.178566  0.000155             0.086907  \n",
      "3              0.317450  0.000276             0.086907  \n",
      "4              0.496016  0.000431             0.086906  \n",
      "5              0.714263  0.000621             0.086905  \n",
      "6              0.972191  0.000845             0.086905  \n",
      "7              1.269801  0.001104             0.086904  \n",
      "8              1.607092  0.001397             0.086903  \n",
      "9              1.984064  0.001724             0.086902  \n",
      "10             2.400717  0.002086             0.086900  \n",
      "11             2.857052  0.002483             0.086899  \n",
      "12             3.353068  0.002914             0.086898  \n",
      "13             3.888765  0.003379             0.086896  \n",
      "14             4.464144  0.003879             0.086894  \n",
      "15             5.079203  0.004413             0.086893  \n",
      "16             5.733944  0.004982             0.086891  \n",
      "17             6.428367  0.005586             0.086889  \n",
      "18             7.162470  0.006223             0.086886  \n",
      "19             7.936255  0.006895             0.086884  \n"
     ]
    },
    {
     "data": {
      "application/vnd.jupyter.widget-view+json": {
       "model_id": "15dafccb6cf449ac8a7cd05219451bec",
       "version_major": 2,
       "version_minor": 0
      },
      "text/plain": [
       "interactive(children=(IntSlider(value=0, description='k:', max=19), Output()), _dom_classes=('widget-interact'…"
      ]
     },
     "metadata": {},
     "output_type": "display_data"
    },
    {
     "name": "stdout",
     "output_type": "stream",
     "text": [
      "Elapsed time: 3.7299025200009055 seconds\n"
     ]
    }
   ],
   "source": [
    "run(5, 500, 20)"
   ]
  },
  {
   "cell_type": "markdown",
   "id": "22075a9a-11ac-48b6-bc9c-52227a6f6043",
   "metadata": {
    "jp-MarkdownHeadingCollapsed": true
   },
   "source": [
    "# **Run for `l = 5`, `points = 1000`, `num_of_states = 20`**"
   ]
  },
  {
   "cell_type": "code",
   "execution_count": 6,
   "id": "f42b4200-70f7-46f5-83ae-62c9d2709cef",
   "metadata": {
    "jupyter": {
     "source_hidden": true
    }
   },
   "outputs": [
    {
     "name": "stdout",
     "output_type": "stream",
     "text": [
      "iDEA.methods.interacting.solve: solving eigenproblem...\n",
      "iDEA.methods.interacting.solve: solving eigenproblem...\n",
      "iDEA.methods.interacting.solve: solving eigenproblem...\n",
      "iDEA.methods.interacting.solve: solving eigenproblem...\n",
      "iDEA.methods.interacting.solve: solving eigenproblem...\n",
      "iDEA.methods.interacting.solve: solving eigenproblem...\n",
      "iDEA.methods.interacting.solve: solving eigenproblem...\n",
      "iDEA.methods.interacting.solve: solving eigenproblem...\n",
      "iDEA.methods.interacting.solve: solving eigenproblem...\n",
      "iDEA.methods.interacting.solve: solving eigenproblem...\n",
      "iDEA.methods.interacting.solve: solving eigenproblem...\n",
      "iDEA.methods.interacting.solve: solving eigenproblem...\n",
      "iDEA.methods.interacting.solve: solving eigenproblem...\n",
      "iDEA.methods.interacting.solve: solving eigenproblem...\n",
      "iDEA.methods.interacting.solve: solving eigenproblem...\n",
      "iDEA.methods.interacting.solve: solving eigenproblem...\n",
      "iDEA.methods.interacting.solve: solving eigenproblem...\n",
      "iDEA.methods.interacting.solve: solving eigenproblem...\n",
      "iDEA.methods.interacting.solve: solving eigenproblem...\n",
      "iDEA.methods.interacting.solve: solving eigenproblem...\n",
      "    Orbital Energies  Analytic Energies 1  Errors 1  Percentage Errors 1  \\\n",
      "0           0.019929                 0.02  0.000071             0.355892   \n",
      "1           0.079715                 0.08  0.000285             0.355892   \n",
      "2           0.179359                 0.18  0.000641             0.355892   \n",
      "3           0.318861                 0.32  0.001139             0.355892   \n",
      "4           0.498221                 0.50  0.001779             0.355892   \n",
      "5           0.717438                 0.72  0.002562             0.355892   \n",
      "6           0.976512                 0.98  0.003488             0.355892   \n",
      "7           1.275445                 1.28  0.004555             0.355892   \n",
      "8           1.614235                 1.62  0.005765             0.355892   \n",
      "9           1.992882                 2.00  0.007118             0.355893   \n",
      "10          2.411387                 2.42  0.008613             0.355893   \n",
      "11          2.869750                 2.88  0.010250             0.355893   \n",
      "12          3.367971                 3.38  0.012029             0.355893   \n",
      "13          3.906049                 3.92  0.013951             0.355893   \n",
      "14          4.483985                 4.50  0.016015             0.355893   \n",
      "15          5.101778                 5.12  0.018222             0.355894   \n",
      "16          5.759429                 5.78  0.020571             0.355894   \n",
      "17          6.456938                 6.48  0.023062             0.355894   \n",
      "18          7.194304                 7.22  0.025696             0.355894   \n",
      "19          7.971528                 8.00  0.028472             0.355895   \n",
      "\n",
      "    Analytic Energies 2  Errors 2  Percentage Errors 2  \n",
      "0              0.019920  0.000009             0.043483  \n",
      "1              0.079681  0.000035             0.043483  \n",
      "2              0.179281  0.000078             0.043483  \n",
      "3              0.318723  0.000139             0.043483  \n",
      "4              0.498004  0.000217             0.043483  \n",
      "5              0.717126  0.000312             0.043483  \n",
      "6              0.976088  0.000424             0.043483  \n",
      "7              1.274890  0.000554             0.043483  \n",
      "8              1.613533  0.000702             0.043482  \n",
      "9              1.992016  0.000866             0.043482  \n",
      "10             2.410339  0.001048             0.043482  \n",
      "11             2.868503  0.001247             0.043482  \n",
      "12             3.366507  0.001464             0.043482  \n",
      "13             3.904351  0.001698             0.043482  \n",
      "14             4.482036  0.001949             0.043481  \n",
      "15             5.099561  0.002217             0.043481  \n",
      "16             5.756926  0.002503             0.043481  \n",
      "17             6.454132  0.002806             0.043481  \n",
      "18             7.191178  0.003127             0.043480  \n",
      "19             7.968064  0.003465             0.043480  \n"
     ]
    },
    {
     "data": {
      "application/vnd.jupyter.widget-view+json": {
       "model_id": "fe67a08213354841a44cb04e91812d8f",
       "version_major": 2,
       "version_minor": 0
      },
      "text/plain": [
       "interactive(children=(IntSlider(value=0, description='k:', max=19), Output()), _dom_classes=('widget-interact'…"
      ]
     },
     "metadata": {},
     "output_type": "display_data"
    },
    {
     "name": "stdout",
     "output_type": "stream",
     "text": [
      "Elapsed time: 12.460486194000623 seconds\n"
     ]
    }
   ],
   "source": [
    "run(5, 1000, 20)"
   ]
  },
  {
   "cell_type": "markdown",
   "id": "5d03fc6a-4d85-42f4-a7fc-13a2fdc21ee7",
   "metadata": {
    "jp-MarkdownHeadingCollapsed": true
   },
   "source": [
    "# **Run for `l = 5`, `points = 2500`, `num_of_states = 20`**"
   ]
  },
  {
   "cell_type": "code",
   "execution_count": 7,
   "id": "f4babd51-78df-42e4-abfe-8498ea417ed0",
   "metadata": {
    "jupyter": {
     "source_hidden": true
    }
   },
   "outputs": [
    {
     "name": "stdout",
     "output_type": "stream",
     "text": [
      "iDEA.methods.interacting.solve: solving eigenproblem...\n",
      "iDEA.methods.interacting.solve: solving eigenproblem...\n",
      "iDEA.methods.interacting.solve: solving eigenproblem...\n",
      "iDEA.methods.interacting.solve: solving eigenproblem...\n",
      "iDEA.methods.interacting.solve: solving eigenproblem...\n",
      "iDEA.methods.interacting.solve: solving eigenproblem...\n",
      "iDEA.methods.interacting.solve: solving eigenproblem...\n",
      "iDEA.methods.interacting.solve: solving eigenproblem...\n",
      "iDEA.methods.interacting.solve: solving eigenproblem...\n",
      "iDEA.methods.interacting.solve: solving eigenproblem...\n",
      "iDEA.methods.interacting.solve: solving eigenproblem...\n",
      "iDEA.methods.interacting.solve: solving eigenproblem...\n",
      "iDEA.methods.interacting.solve: solving eigenproblem...\n",
      "iDEA.methods.interacting.solve: solving eigenproblem...\n",
      "iDEA.methods.interacting.solve: solving eigenproblem...\n",
      "iDEA.methods.interacting.solve: solving eigenproblem...\n",
      "iDEA.methods.interacting.solve: solving eigenproblem...\n",
      "iDEA.methods.interacting.solve: solving eigenproblem...\n",
      "iDEA.methods.interacting.solve: solving eigenproblem...\n",
      "iDEA.methods.interacting.solve: solving eigenproblem...\n",
      "    Orbital Energies  Analytic Energies 1  Errors 1  Percentage Errors 1  \\\n",
      "0           0.019972                 0.02  0.000028               0.1425   \n",
      "1           0.079886                 0.08  0.000114               0.1425   \n",
      "2           0.179744                 0.18  0.000256               0.1425   \n",
      "3           0.319544                 0.32  0.000456               0.1425   \n",
      "4           0.499288                 0.50  0.000712               0.1425   \n",
      "5           0.718974                 0.72  0.001026               0.1425   \n",
      "6           0.978604                 0.98  0.001396               0.1425   \n",
      "7           1.278176                 1.28  0.001824               0.1425   \n",
      "8           1.617692                 1.62  0.002308               0.1425   \n",
      "9           1.997150                 2.00  0.002850               0.1425   \n",
      "10          2.416552                 2.42  0.003448               0.1425   \n",
      "11          2.875896                 2.88  0.004104               0.1425   \n",
      "12          3.375184                 3.38  0.004816               0.1425   \n",
      "13          3.914414                 3.92  0.005586               0.1425   \n",
      "14          4.493588                 4.50  0.006412               0.1425   \n",
      "15          5.112704                 5.12  0.007296               0.1425   \n",
      "16          5.771764                 5.78  0.008236               0.1425   \n",
      "17          6.470766                 6.48  0.009234               0.1425   \n",
      "18          7.209712                 7.22  0.010288               0.1425   \n",
      "19          7.988600                 8.00  0.011400               0.1425   \n",
      "\n",
      "    Analytic Energies 2  Errors 2  Percentage Errors 2  \n",
      "0              0.019968  0.000003               0.0174  \n",
      "1              0.079872  0.000014               0.0174  \n",
      "2              0.179712  0.000031               0.0174  \n",
      "3              0.319488  0.000056               0.0174  \n",
      "4              0.499201  0.000087               0.0174  \n",
      "5              0.718849  0.000125               0.0174  \n",
      "6              0.978433  0.000170               0.0174  \n",
      "7              1.277954  0.000222               0.0174  \n",
      "8              1.617410  0.000281               0.0174  \n",
      "9              1.996803  0.000347               0.0174  \n",
      "10             2.416131  0.000420               0.0174  \n",
      "11             2.875396  0.000500               0.0174  \n",
      "12             3.374596  0.000587               0.0174  \n",
      "13             3.913733  0.000681               0.0174  \n",
      "14             4.492806  0.000782               0.0174  \n",
      "15             5.111815  0.000889               0.0174  \n",
      "16             5.770759  0.001004               0.0174  \n",
      "17             6.469640  0.001126               0.0174  \n",
      "18             7.208457  0.001254               0.0174  \n",
      "19             7.987210  0.001390               0.0174  \n"
     ]
    },
    {
     "data": {
      "application/vnd.jupyter.widget-view+json": {
       "model_id": "98ef254e9daa42eb8cfb4a3a58001dfe",
       "version_major": 2,
       "version_minor": 0
      },
      "text/plain": [
       "interactive(children=(IntSlider(value=0, description='k:', max=19), Output()), _dom_classes=('widget-interact'…"
      ]
     },
     "metadata": {},
     "output_type": "display_data"
    },
    {
     "name": "stdout",
     "output_type": "stream",
     "text": [
      "Elapsed time: 89.09833044900006 seconds\n"
     ]
    }
   ],
   "source": [
    "run(5, 2500, 20)"
   ]
  },
  {
   "cell_type": "markdown",
   "id": "c510b5fa-b63f-4eb8-b633-a0ffb5b3d79b",
   "metadata": {},
   "source": [
    "# **Run for `l = 10`, `points = 2500`, `num_of_states = 20`**"
   ]
  },
  {
   "cell_type": "code",
   "execution_count": 8,
   "id": "2c8d486a-e359-41a6-bc72-6fd340021a4c",
   "metadata": {
    "jupyter": {
     "source_hidden": true
    }
   },
   "outputs": [
    {
     "name": "stdout",
     "output_type": "stream",
     "text": [
      "iDEA.methods.interacting.solve: solving eigenproblem...\n",
      "iDEA.methods.interacting.solve: solving eigenproblem...\n",
      "iDEA.methods.interacting.solve: solving eigenproblem...\n",
      "iDEA.methods.interacting.solve: solving eigenproblem...\n",
      "iDEA.methods.interacting.solve: solving eigenproblem...\n",
      "iDEA.methods.interacting.solve: solving eigenproblem...\n",
      "iDEA.methods.interacting.solve: solving eigenproblem...\n",
      "iDEA.methods.interacting.solve: solving eigenproblem...\n",
      "iDEA.methods.interacting.solve: solving eigenproblem...\n",
      "iDEA.methods.interacting.solve: solving eigenproblem...\n",
      "iDEA.methods.interacting.solve: solving eigenproblem...\n",
      "iDEA.methods.interacting.solve: solving eigenproblem...\n",
      "iDEA.methods.interacting.solve: solving eigenproblem...\n",
      "iDEA.methods.interacting.solve: solving eigenproblem...\n",
      "iDEA.methods.interacting.solve: solving eigenproblem...\n",
      "iDEA.methods.interacting.solve: solving eigenproblem...\n",
      "iDEA.methods.interacting.solve: solving eigenproblem...\n",
      "iDEA.methods.interacting.solve: solving eigenproblem...\n",
      "iDEA.methods.interacting.solve: solving eigenproblem...\n",
      "iDEA.methods.interacting.solve: solving eigenproblem...\n",
      "    Orbital Energies  Analytic Energies 1  Errors 1  Percentage Errors 1  \\\n",
      "0           0.004993                0.005  0.000007               0.1425   \n",
      "1           0.019972                0.020  0.000028               0.1425   \n",
      "2           0.044936                0.045  0.000064               0.1425   \n",
      "3           0.079886                0.080  0.000114               0.1425   \n",
      "4           0.124822                0.125  0.000178               0.1425   \n",
      "5           0.179744                0.180  0.000256               0.1425   \n",
      "6           0.244651                0.245  0.000349               0.1425   \n",
      "7           0.319544                0.320  0.000456               0.1425   \n",
      "8           0.404423                0.405  0.000577               0.1425   \n",
      "9           0.499288                0.500  0.000712               0.1425   \n",
      "10          0.604138                0.605  0.000862               0.1425   \n",
      "11          0.718974                0.720  0.001026               0.1425   \n",
      "12          0.843796                0.845  0.001204               0.1425   \n",
      "13          0.978604                0.980  0.001396               0.1425   \n",
      "14          1.123397                1.125  0.001603               0.1425   \n",
      "15          1.278176                1.280  0.001824               0.1425   \n",
      "16          1.442941                1.445  0.002059               0.1425   \n",
      "17          1.617692                1.620  0.002308               0.1425   \n",
      "18          1.802428                1.805  0.002572               0.1425   \n",
      "19          1.997150                2.000  0.002850               0.1425   \n",
      "\n",
      "    Analytic Energies 2      Errors 2  Percentage Errors 2  \n",
      "0              0.004992  8.686205e-07               0.0174  \n",
      "1              0.019968  3.474482e-06               0.0174  \n",
      "2              0.044928  7.817582e-06               0.0174  \n",
      "3              0.079872  1.389792e-05               0.0174  \n",
      "4              0.124800  2.171550e-05               0.0174  \n",
      "5              0.179712  3.127031e-05               0.0174  \n",
      "6              0.244608  4.256235e-05               0.0174  \n",
      "7              0.319488  5.559162e-05               0.0174  \n",
      "8              0.404353  7.035811e-05               0.0174  \n",
      "9              0.499201  8.686182e-05               0.0174  \n",
      "10             0.604033  1.051027e-04               0.0174  \n",
      "11             0.718849  1.250809e-04               0.0174  \n",
      "12             0.843649  1.467962e-04               0.0174  \n",
      "13             0.978433  1.702487e-04               0.0174  \n",
      "14             1.123201  1.954384e-04               0.0174  \n",
      "15             1.277954  2.223653e-04               0.0174  \n",
      "16             1.442690  2.510294e-04               0.0174  \n",
      "17             1.617410  2.814306e-04               0.0174  \n",
      "18             1.802114  3.135690e-04               0.0174  \n",
      "19             1.996803  3.474445e-04               0.0174  \n"
     ]
    },
    {
     "data": {
      "application/vnd.jupyter.widget-view+json": {
       "model_id": "b0e6a91cdb054286a5359d6e98a317a2",
       "version_major": 2,
       "version_minor": 0
      },
      "text/plain": [
       "interactive(children=(IntSlider(value=0, description='k:', max=19), Output()), _dom_classes=('widget-interact'…"
      ]
     },
     "metadata": {},
     "output_type": "display_data"
    },
    {
     "name": "stdout",
     "output_type": "stream",
     "text": [
      "Elapsed time: 90.50747783099905 seconds\n"
     ]
    }
   ],
   "source": [
    "run(10, 2500, 20)"
   ]
  },
  {
   "cell_type": "markdown",
   "id": "47e64509-bb95-43e6-9e55-2c37c9551d69",
   "metadata": {
    "jp-MarkdownHeadingCollapsed": true
   },
   "source": [
    "# **Run for `l = 15`, `points = 2500`, `num_of_states = 20`**"
   ]
  },
  {
   "cell_type": "code",
   "execution_count": 9,
   "id": "10f285bf-2ac4-4a76-9f56-b4b150faa772",
   "metadata": {
    "jupyter": {
     "source_hidden": true
    }
   },
   "outputs": [
    {
     "name": "stdout",
     "output_type": "stream",
     "text": [
      "iDEA.methods.interacting.solve: solving eigenproblem...\n",
      "iDEA.methods.interacting.solve: solving eigenproblem...\n",
      "iDEA.methods.interacting.solve: solving eigenproblem...\n",
      "iDEA.methods.interacting.solve: solving eigenproblem...\n",
      "iDEA.methods.interacting.solve: solving eigenproblem...\n",
      "iDEA.methods.interacting.solve: solving eigenproblem...\n",
      "iDEA.methods.interacting.solve: solving eigenproblem...\n",
      "iDEA.methods.interacting.solve: solving eigenproblem...\n",
      "iDEA.methods.interacting.solve: solving eigenproblem...\n",
      "iDEA.methods.interacting.solve: solving eigenproblem...\n",
      "iDEA.methods.interacting.solve: solving eigenproblem...\n",
      "iDEA.methods.interacting.solve: solving eigenproblem...\n",
      "iDEA.methods.interacting.solve: solving eigenproblem...\n",
      "iDEA.methods.interacting.solve: solving eigenproblem...\n",
      "iDEA.methods.interacting.solve: solving eigenproblem...\n",
      "iDEA.methods.interacting.solve: solving eigenproblem...\n",
      "iDEA.methods.interacting.solve: solving eigenproblem...\n",
      "iDEA.methods.interacting.solve: solving eigenproblem...\n",
      "iDEA.methods.interacting.solve: solving eigenproblem...\n",
      "iDEA.methods.interacting.solve: solving eigenproblem...\n",
      "    Orbital Energies  Analytic Energies 1  Errors 1  Percentage Errors 1  \\\n",
      "0           0.002219             0.002222  0.000003               0.1425   \n",
      "1           0.008876             0.008889  0.000013               0.1425   \n",
      "2           0.019972             0.020000  0.000028               0.1425   \n",
      "3           0.035505             0.035556  0.000051               0.1425   \n",
      "4           0.055476             0.055556  0.000079               0.1425   \n",
      "5           0.079886             0.080000  0.000114               0.1425   \n",
      "6           0.108734             0.108889  0.000155               0.1425   \n",
      "7           0.142020             0.142222  0.000203               0.1425   \n",
      "8           0.179744             0.180000  0.000256               0.1425   \n",
      "9           0.221906             0.222222  0.000317               0.1425   \n",
      "10          0.268506             0.268889  0.000383               0.1425   \n",
      "11          0.319544             0.320000  0.000456               0.1425   \n",
      "12          0.375020             0.375556  0.000535               0.1425   \n",
      "13          0.434935             0.435556  0.000621               0.1425   \n",
      "14          0.499288             0.500000  0.000712               0.1425   \n",
      "15          0.568078             0.568889  0.000811               0.1425   \n",
      "16          0.641307             0.642222  0.000915               0.1425   \n",
      "17          0.718974             0.720000  0.001026               0.1425   \n",
      "18          0.801079             0.802222  0.001143               0.1425   \n",
      "19          0.887622             0.888889  0.001267               0.1425   \n",
      "\n",
      "    Analytic Energies 2      Errors 2  Percentage Errors 2  \n",
      "0              0.002219  3.860533e-07               0.0174  \n",
      "1              0.008875  1.544214e-06               0.0174  \n",
      "2              0.019968  3.474481e-06               0.0174  \n",
      "3              0.035499  6.176854e-06               0.0174  \n",
      "4              0.055467  9.651332e-06               0.0174  \n",
      "5              0.079872  1.389791e-05               0.0174  \n",
      "6              0.108715  1.891660e-05               0.0174  \n",
      "7              0.141995  2.470738e-05               0.0174  \n",
      "8              0.179712  3.127027e-05               0.0174  \n",
      "9              0.221867  3.860525e-05               0.0174  \n",
      "10             0.268459  4.671233e-05               0.0174  \n",
      "11             0.319488  5.559150e-05               0.0174  \n",
      "12             0.374955  6.524275e-05               0.0174  \n",
      "13             0.434859  7.566610e-05               0.0174  \n",
      "14             0.499201  8.686152e-05               0.0174  \n",
      "15             0.567979  9.882903e-05               0.0174  \n",
      "16             0.641195  1.115686e-04               0.0174  \n",
      "17             0.718849  1.250803e-04               0.0174  \n",
      "18             0.800940  1.393640e-04               0.0174  \n",
      "19             0.887468  1.544198e-04               0.0174  \n"
     ]
    },
    {
     "data": {
      "application/vnd.jupyter.widget-view+json": {
       "model_id": "ea3b44dbc210412ba89df2df1ce83850",
       "version_major": 2,
       "version_minor": 0
      },
      "text/plain": [
       "interactive(children=(IntSlider(value=0, description='k:', max=19), Output()), _dom_classes=('widget-interact'…"
      ]
     },
     "metadata": {},
     "output_type": "display_data"
    },
    {
     "name": "stdout",
     "output_type": "stream",
     "text": [
      "Elapsed time: 97.7609784920005 seconds\n"
     ]
    }
   ],
   "source": [
    "run(15, 2500, 20)"
   ]
  },
  {
   "cell_type": "markdown",
   "id": "6cc745a4-8394-4b2c-925f-34845309dce6",
   "metadata": {},
   "source": [
    "# **Run for `l = 1`, `points = 2500`, `num_of_states = 20`**"
   ]
  },
  {
   "cell_type": "code",
   "execution_count": 10,
   "id": "319f38da-2b7b-463b-ad54-2293fcead546",
   "metadata": {},
   "outputs": [
    {
     "name": "stdout",
     "output_type": "stream",
     "text": [
      "iDEA.methods.interacting.solve: solving eigenproblem...\n",
      "iDEA.methods.interacting.solve: solving eigenproblem...\n",
      "iDEA.methods.interacting.solve: solving eigenproblem...\n",
      "iDEA.methods.interacting.solve: solving eigenproblem...\n",
      "iDEA.methods.interacting.solve: solving eigenproblem...\n",
      "iDEA.methods.interacting.solve: solving eigenproblem...\n",
      "iDEA.methods.interacting.solve: solving eigenproblem...\n",
      "iDEA.methods.interacting.solve: solving eigenproblem...\n",
      "iDEA.methods.interacting.solve: solving eigenproblem...\n",
      "iDEA.methods.interacting.solve: solving eigenproblem...\n",
      "iDEA.methods.interacting.solve: solving eigenproblem...\n",
      "iDEA.methods.interacting.solve: solving eigenproblem...\n",
      "iDEA.methods.interacting.solve: solving eigenproblem...\n",
      "iDEA.methods.interacting.solve: solving eigenproblem...\n",
      "iDEA.methods.interacting.solve: solving eigenproblem...\n",
      "iDEA.methods.interacting.solve: solving eigenproblem...\n",
      "iDEA.methods.interacting.solve: solving eigenproblem...\n",
      "iDEA.methods.interacting.solve: solving eigenproblem...\n",
      "iDEA.methods.interacting.solve: solving eigenproblem...\n",
      "iDEA.methods.interacting.solve: solving eigenproblem...\n",
      "    Orbital Energies  Analytic Energies 1  Errors 1  Percentage Errors 1  \\\n",
      "0           0.499288                  0.5  0.000712               0.1425   \n",
      "1           1.997150                  2.0  0.002850               0.1425   \n",
      "2           4.493588                  4.5  0.006412               0.1425   \n",
      "3           7.988600                  8.0  0.011400               0.1425   \n",
      "4          12.482188                 12.5  0.017812               0.1425   \n",
      "5          17.974350                 18.0  0.025650               0.1425   \n",
      "6          24.465088                 24.5  0.034912               0.1425   \n",
      "7          31.954400                 32.0  0.045600               0.1425   \n",
      "8          40.442288                 40.5  0.057712               0.1425   \n",
      "9          49.928750                 50.0  0.071250               0.1425   \n",
      "10         60.413788                 60.5  0.086212               0.1425   \n",
      "11         71.897400                 72.0  0.102600               0.1425   \n",
      "12         84.379588                 84.5  0.120412               0.1425   \n",
      "13         97.860350                 98.0  0.139650               0.1425   \n",
      "14        112.339688                112.5  0.160312               0.1425   \n",
      "15        127.817600                128.0  0.182400               0.1425   \n",
      "16        144.294088                144.5  0.205912               0.1425   \n",
      "17        161.769150                162.0  0.230850               0.1425   \n",
      "18        180.242788                180.5  0.257212               0.1425   \n",
      "19        199.715000                200.0  0.285000               0.1425   \n",
      "\n",
      "    Analytic Energies 2  Errors 2  Percentage Errors 2  \n",
      "0              0.499201  0.000087               0.0174  \n",
      "1              1.996803  0.000347               0.0174  \n",
      "2              4.492806  0.000782               0.0174  \n",
      "3              7.987210  0.001390               0.0174  \n",
      "4             12.480016  0.002172               0.0174  \n",
      "5             17.971223  0.003127               0.0174  \n",
      "6             24.460831  0.004256               0.0174  \n",
      "7             31.948841  0.005559               0.0174  \n",
      "8             40.435252  0.007036               0.0174  \n",
      "9             49.920064  0.008686               0.0174  \n",
      "10            60.403277  0.010510               0.0174  \n",
      "11            71.884892  0.012508               0.0174  \n",
      "12            84.364908  0.014680               0.0174  \n",
      "13            97.843325  0.017025               0.0174  \n",
      "14           112.320144  0.019544               0.0174  \n",
      "15           127.795364  0.022237               0.0174  \n",
      "16           144.268985  0.025103               0.0174  \n",
      "17           161.741007  0.028143               0.0174  \n",
      "18           180.211431  0.031357               0.0174  \n",
      "19           199.680256  0.034744               0.0174  \n"
     ]
    },
    {
     "data": {
      "application/vnd.jupyter.widget-view+json": {
       "model_id": "b095809655664b2bb840800f0cefa29f",
       "version_major": 2,
       "version_minor": 0
      },
      "text/plain": [
       "interactive(children=(IntSlider(value=0, description='k:', max=19), Output()), _dom_classes=('widget-interact'…"
      ]
     },
     "metadata": {},
     "output_type": "display_data"
    },
    {
     "name": "stdout",
     "output_type": "stream",
     "text": [
      "Elapsed time: 116.22497638099958 seconds\n"
     ]
    }
   ],
   "source": [
    "run(1, 2500, 20)"
   ]
  },
  {
   "cell_type": "markdown",
   "id": "5392a877-a73e-4ede-85ac-16afd6a134e0",
   "metadata": {},
   "source": [
    "# **Run for `l = 5`, `points = 3000`, `num_of_states = 20`**"
   ]
  },
  {
   "cell_type": "code",
   "execution_count": 11,
   "id": "b8a8a061-c250-4437-9e76-7f8ef910b00d",
   "metadata": {},
   "outputs": [
    {
     "name": "stdout",
     "output_type": "stream",
     "text": [
      "iDEA.methods.interacting.solve: solving eigenproblem...\n",
      "iDEA.methods.interacting.solve: solving eigenproblem...\n",
      "iDEA.methods.interacting.solve: solving eigenproblem...\n",
      "iDEA.methods.interacting.solve: solving eigenproblem...\n",
      "iDEA.methods.interacting.solve: solving eigenproblem...\n",
      "iDEA.methods.interacting.solve: solving eigenproblem...\n",
      "iDEA.methods.interacting.solve: solving eigenproblem...\n",
      "iDEA.methods.interacting.solve: solving eigenproblem...\n",
      "iDEA.methods.interacting.solve: solving eigenproblem...\n",
      "iDEA.methods.interacting.solve: solving eigenproblem...\n",
      "iDEA.methods.interacting.solve: solving eigenproblem...\n",
      "iDEA.methods.interacting.solve: solving eigenproblem...\n",
      "iDEA.methods.interacting.solve: solving eigenproblem...\n",
      "iDEA.methods.interacting.solve: solving eigenproblem...\n",
      "iDEA.methods.interacting.solve: solving eigenproblem...\n",
      "iDEA.methods.interacting.solve: solving eigenproblem...\n",
      "iDEA.methods.interacting.solve: solving eigenproblem...\n",
      "iDEA.methods.interacting.solve: solving eigenproblem...\n",
      "iDEA.methods.interacting.solve: solving eigenproblem...\n",
      "iDEA.methods.interacting.solve: solving eigenproblem...\n",
      "    Orbital Energies  Analytic Energies 1  Errors 1  Percentage Errors 1  \\\n",
      "0           0.019976                 0.02  0.000024             0.118763   \n",
      "1           0.079905                 0.08  0.000095             0.118763   \n",
      "2           0.179786                 0.18  0.000214             0.118763   \n",
      "3           0.319620                 0.32  0.000380             0.118763   \n",
      "4           0.499406                 0.50  0.000594             0.118763   \n",
      "5           0.719145                 0.72  0.000855             0.118763   \n",
      "6           0.978836                 0.98  0.001164             0.118763   \n",
      "7           1.278480                 1.28  0.001520             0.118763   \n",
      "8           1.618076                 1.62  0.001924             0.118763   \n",
      "9           1.997625                 2.00  0.002375             0.118763   \n",
      "10          2.417126                 2.42  0.002874             0.118763   \n",
      "11          2.876580                 2.88  0.003420             0.118763   \n",
      "12          3.375986                 3.38  0.004014             0.118763   \n",
      "13          3.915344                 3.92  0.004656             0.118763   \n",
      "14          4.494656                 4.50  0.005344             0.118763   \n",
      "15          5.113919                 5.12  0.006081             0.118763   \n",
      "16          5.773135                 5.78  0.006865             0.118763   \n",
      "17          6.472304                 6.48  0.007696             0.118763   \n",
      "18          7.211425                 7.22  0.008575             0.118763   \n",
      "19          7.990499                 8.00  0.009501             0.118763   \n",
      "\n",
      "    Analytic Energies 2  Errors 2  Percentage Errors 2  \n",
      "0              0.019973  0.000003             0.014501  \n",
      "1              0.079893  0.000012             0.014501  \n",
      "2              0.179760  0.000026             0.014501  \n",
      "3              0.319574  0.000046             0.014501  \n",
      "4              0.499334  0.000072             0.014501  \n",
      "5              0.719041  0.000104             0.014501  \n",
      "6              0.978694  0.000142             0.014501  \n",
      "7              1.278294  0.000185             0.014501  \n",
      "8              1.617841  0.000235             0.014501  \n",
      "9              1.997335  0.000290             0.014501  \n",
      "10             2.416775  0.000350             0.014501  \n",
      "11             2.876163  0.000417             0.014501  \n",
      "12             3.375496  0.000489             0.014501  \n",
      "13             3.914777  0.000568             0.014501  \n",
      "14             4.494004  0.000652             0.014501  \n",
      "15             5.113178  0.000741             0.014501  \n",
      "16             5.772298  0.000837             0.014501  \n",
      "17             6.471366  0.000938             0.014501  \n",
      "18             7.210380  0.001046             0.014501  \n",
      "19             7.989340  0.001159             0.014501  \n"
     ]
    },
    {
     "data": {
      "application/vnd.jupyter.widget-view+json": {
       "model_id": "62776060c0b048aa94072d354591c4ca",
       "version_major": 2,
       "version_minor": 0
      },
      "text/plain": [
       "interactive(children=(IntSlider(value=0, description='k:', max=19), Output()), _dom_classes=('widget-interact'…"
      ]
     },
     "metadata": {},
     "output_type": "display_data"
    },
    {
     "name": "stdout",
     "output_type": "stream",
     "text": [
      "Elapsed time: 179.5701503070013 seconds\n"
     ]
    }
   ],
   "source": [
    "run(5, 3000, 20)"
   ]
  },
  {
   "cell_type": "code",
   "execution_count": 12,
   "id": "47a34e5b-e5f0-4496-b080-30bf08892266",
   "metadata": {},
   "outputs": [
    {
     "name": "stdout",
     "output_type": "stream",
     "text": [
      "iDEA.methods.interacting.solve: solving eigenproblem...\n",
      "iDEA.methods.interacting.solve: solving eigenproblem...\n",
      "iDEA.methods.interacting.solve: solving eigenproblem...\n",
      "iDEA.methods.interacting.solve: solving eigenproblem...\n",
      "iDEA.methods.interacting.solve: solving eigenproblem...\n",
      "iDEA.methods.interacting.solve: solving eigenproblem...\n",
      "iDEA.methods.interacting.solve: solving eigenproblem...\n",
      "iDEA.methods.interacting.solve: solving eigenproblem...\n",
      "iDEA.methods.interacting.solve: solving eigenproblem...\n",
      "iDEA.methods.interacting.solve: solving eigenproblem...\n",
      "   Orbital Energies  Analytic Energies 1  Errors 1  Percentage Errors 1  \\\n",
      "0          0.019929                 0.02  0.000071             0.355892   \n",
      "1          0.079715                 0.08  0.000285             0.355892   \n",
      "2          0.179359                 0.18  0.000641             0.355892   \n",
      "3          0.318861                 0.32  0.001139             0.355892   \n",
      "4          0.498221                 0.50  0.001779             0.355892   \n",
      "5          0.717438                 0.72  0.002562             0.355892   \n",
      "6          0.976512                 0.98  0.003488             0.355892   \n",
      "7          1.275445                 1.28  0.004555             0.355892   \n",
      "8          1.614235                 1.62  0.005765             0.355892   \n",
      "9          1.992882                 2.00  0.007118             0.355893   \n",
      "\n",
      "   Analytic Energies 2  Errors 2  Percentage Errors 2  \n",
      "0             0.019920  0.000009             0.043483  \n",
      "1             0.079681  0.000035             0.043483  \n",
      "2             0.179281  0.000078             0.043483  \n",
      "3             0.318723  0.000139             0.043483  \n",
      "4             0.498004  0.000217             0.043483  \n",
      "5             0.717126  0.000312             0.043483  \n",
      "6             0.976088  0.000424             0.043483  \n",
      "7             1.274890  0.000554             0.043483  \n",
      "8             1.613533  0.000702             0.043482  \n",
      "9             1.992016  0.000866             0.043482  \n"
     ]
    },
    {
     "data": {
      "application/vnd.jupyter.widget-view+json": {
       "model_id": "e253894211ed4a0daf1055f5817bec74",
       "version_major": 2,
       "version_minor": 0
      },
      "text/plain": [
       "interactive(children=(IntSlider(value=0, description='k:', max=9), Output()), _dom_classes=('widget-interact',…"
      ]
     },
     "metadata": {},
     "output_type": "display_data"
    },
    {
     "name": "stdout",
     "output_type": "stream",
     "text": [
      "Elapsed time: 9.258017530999496 seconds\n"
     ]
    }
   ],
   "source": [
    "run(5, 1000, 10)"
   ]
  },
  {
   "cell_type": "markdown",
   "id": "57f3e824-cd6f-4047-94d0-20ee831eed30",
   "metadata": {},
   "source": [
    "# **Summary**"
   ]
  },
  {
   "cell_type": "code",
   "execution_count": 13,
   "id": "f6e624fa-c0c1-4b36-9463-73f20c2f7a85",
   "metadata": {},
   "outputs": [
    {
     "name": "stdout",
     "output_type": "stream",
     "text": [
      "    l  points  num_of_states     elpased  max_error_1  max_error_2\n",
      "0   1     100             20    0.976367     3.509053     0.432204\n",
      "1   1     500             20    3.782345     0.710618     0.086907\n",
      "2   5     500             20    3.729903     0.710618     0.086907\n",
      "3   5    1000             20   12.460486     0.355895     0.043483\n",
      "4   5    2500             20   89.098330     0.142500     0.017400\n",
      "5  10    2500             20   90.507478     0.142500     0.017400\n",
      "6  15    2500             20   97.760978     0.142500     0.017400\n",
      "7   1    2500             20  116.224976     0.142500     0.017400\n",
      "8   5    3000             20  179.570150     0.118763     0.014501\n",
      "9   5    1000             10    9.258018     0.355893     0.043483\n"
     ]
    }
   ],
   "source": [
    "df = pd.DataFrame(summary, columns=[\"l\", \"points\", \"num_of_states\", \"elpased\", \"max_error_1\", \"max_error_2\"])\n",
    "\n",
    "    # Display the DataFrame\n",
    "print(df)"
   ]
  }
 ],
 "metadata": {
  "kernelspec": {
   "display_name": "Python 3 (ipykernel)",
   "language": "python",
   "name": "python3"
  },
  "language_info": {
   "codemirror_mode": {
    "name": "ipython",
    "version": 3
   },
   "file_extension": ".py",
   "mimetype": "text/x-python",
   "name": "python",
   "nbconvert_exporter": "python",
   "pygments_lexer": "ipython3",
   "version": "3.10.12"
  }
 },
 "nbformat": 4,
 "nbformat_minor": 5
}
