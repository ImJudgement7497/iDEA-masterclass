{
 "cells": [
  {
   "cell_type": "markdown",
   "id": "51933ce9-3640-495b-b03e-6bbc55491ae9",
   "metadata": {},
   "source": [
    "**System of 'uud'**"
   ]
  },
  {
   "cell_type": "code",
   "execution_count": 1,
   "id": "dd1cd4e1-ede9-4c4a-af61-761f614f2943",
   "metadata": {},
   "outputs": [],
   "source": [
    "import numpy as np\n",
    "import matplotlib.pyplot as plt\n",
    "import ipywidgets as widgets\n",
    "from IPython.display import display\n",
    "import iDEA\n",
    "\n",
    "# run variables\n",
    "\n",
    "points = 100\n",
    "num_of_states = 5\n",
    "# initalise the system\n",
    "\n",
    "l = 1\n",
    "x = np.linspace(0, l, points)\n",
    "v_ext = np.zeros(len(x))\n",
    "v_int = np.zeros([len(x), len(x)])\n",
    "pib_single = iDEA.system.System(x, v_ext, v_int, electrons = \"u\")\n",
    "pib_triple = iDEA.system.System(x, v_ext, v_int, electrons = \"uud\")"
   ]
  },
  {
   "cell_type": "code",
   "execution_count": null,
   "id": "19481118-dc62-418c-8cf6-94e2d494452f",
   "metadata": {},
   "outputs": [
    {
     "name": "stdout",
     "output_type": "stream",
     "text": [
      "iDEA.methods.interacting.solve: solving eigenproblem...\n",
      "iDEA.methods.interacting.solve: solving eigenproblem...\n",
      "iDEA.methods.non_interacting.solve: convergence = 1.532e-13, tolerance = 1e-10\n",
      "State 0 done\n",
      "iDEA.methods.interacting.solve: solving eigenproblem...\n",
      "iDEA.methods.interacting.solve: solving eigenproblem...\n"
     ]
    }
   ],
   "source": [
    "# initalise the arrays\n",
    "\n",
    "energies_int = []\n",
    "energies_single = []\n",
    "energies_errors = []\n",
    "occupied_levels = {}\n",
    "occupied_info = {}\n",
    "\n",
    "# solve for the state and extract the energy\n",
    "for i in range(num_of_states):\n",
    "    orbital_energy = []\n",
    "    # methods using pib_single\n",
    "    s = iDEA.methods.interacting.solve(pib_single, k=i)\n",
    "    energies_single.append(np.round((s.energy / (np.pi)**2), decimals=4))\n",
    "\n",
    "    # methods using pib_triple\n",
    "    j = iDEA.methods.interacting.solve(pib_triple, k=i)\n",
    "    energies_int.append(np.round((j.energy / (np.pi)**2), decimals=4))\n",
    "    \n",
    "    t = iDEA.methods.non_interacting.solve(pib_triple, k=i)\n",
    "    energies_up = np.round((t.up.energies / ((np.pi)**2)), decimals=4) # energies of single body state\n",
    "    energies_down = np.round((t.down.energies / ((np.pi)**2)), decimals=4)\n",
    "    up_occ_index = t.up.occupied # index of occupied orbitals\n",
    "    down_occ_index = t.down.occupied\n",
    "    # up_occ = t.up.occupations # full array of occupations\n",
    "    # down_occ = t.down.occupations\n",
    "\n",
    "    for index in up_occ_index:\n",
    "        orbital_energy.append(energies_up[index])\n",
    "\n",
    "    for index in down_occ_index:\n",
    "        orbital_energy.append(energies_down[index])\n",
    "\n",
    "    energy_sum = np.sum(orbital_energy)\n",
    "    \n",
    "    occupied_levels[f\"State = {i}\"] = (f\"Orbitals occupied by up: {up_occ_index}\", f\"Orbitals occupied by down: {down_occ_index}\", \\\n",
    "                                       f\"Energy of occupied orbitals: {orbital_energy}\", f\"Total energy = {energy_sum}\")\n",
    "    occupied_info[i] = [up_occ_index, down_occ_index, orbital_energy, energy_sum]\n",
    "    \n",
    "    \n",
    "    energies_errors.append(abs( (((i+1)**2)/2) - np.round((s.energy / (np.pi)**2), decimals=4)))\n",
    "    print(f\"State {i} done\")\n",
    "    # state = iDEA.methods.non_interacting.solve(pib, k=i)\n",
    "    # e = iDEA.methods.non_inte(np.round((j.energy / (np.pi)**2), decimals=4))racting.total_energy(pib, state)\n",
    "    # energies_non_int.append(e)\n",
    "print(\"Done\")\n"
   ]
  },
  {
   "cell_type": "code",
   "execution_count": null,
   "id": "d36c9198-0a42-4b44-90ab-0433bdb569e2",
   "metadata": {},
   "outputs": [],
   "source": [
    "for key, value in occupied_levels.items():\n",
    "    print(f'{key}: {value}')\n",
    "    print('---') "
   ]
  },
  {
   "cell_type": "code",
   "execution_count": null,
   "id": "43717d7a-077f-4aad-bf6a-3aa51134c866",
   "metadata": {},
   "outputs": [],
   "source": [
    "# print results\n",
    "\n",
    "print(\"Energies of interacting method 'uu'\")\n",
    "for i, value in enumerate(energies_int):\n",
    "    print(f\"State = {i}, energy = {value} per pi squared\")\n",
    "print(\"\")\n",
    "print(\"Energies of interacting method 'u'\")\n",
    "for i, value in enumerate(energies_single):\n",
    "    print(f\"State = {i}, energy = {value} per pi squared\")\n",
    "print(\"\")\n",
    "print(\"Errors\")\n",
    "for i, value in enumerate(energies_errors):\n",
    "    print(f\"State = {i}, error = {value} per pi squared\")\n",
    "    "
   ]
  },
  {
   "cell_type": "code",
   "execution_count": null,
   "id": "0463100a-9f18-4631-a262-1f53849afb1a",
   "metadata": {},
   "outputs": [],
   "source": [
    "# print the degenerate states\n",
    "\n",
    "for i in range(len(energies_int)):\n",
    "    if energies_int[i] == energies_int[i-1]:\n",
    "        print(f\"State {i-1} and {i} have the same energy\")"
   ]
  },
  {
   "cell_type": "code",
   "execution_count": null,
   "id": "2fe64556-3998-4fcd-9a6e-10b6a17bc038",
   "metadata": {},
   "outputs": [],
   "source": [
    "# plot the energies\n",
    "\n",
    "fig, (ax1, ax2) = plt.subplots(1, 2)\n",
    "\n",
    "for i, value in enumerate(energies_int):\n",
    "    ax1.axhline(y=value, color='b', linestyle='-')\n",
    "    if energies_int[i] == energies_int[i-1]:\n",
    "        ax1.text(x=1.4, y=value, s=f'{value}', color='black', va='center', ha='right')\n",
    "    else:\n",
    "        ax1.text(x=1.4, y=value, s=f'{value}', color='red', va='center', ha='right')\n",
    "\n",
    "for i, value in enumerate(energies_single):\n",
    "    ax2.axhline(y=value, color='b', linestyle='-')\n",
    "    ax2.text(x=1.4, y=value, s=f'{value}', color='red', va='center', ha='right')\n",
    "\n",
    "\n",
    "ax1.set_title('Plot of energies from \\n interacting method \"uu\"')\n",
    "ax2.set_title('Plot of energies from \\n interacting method \"u\"')\n",
    "ax1.set_xlabel(\"Box\")\n",
    "ax1.set_ylabel(\"Energies\")\n",
    "ax2.set_xlabel(\"Box\")\n",
    "ax2.set_ylabel(\"Energies\")\n",
    "plt.tight_layout()\n",
    "plt.show()"
   ]
  },
  {
   "cell_type": "code",
   "execution_count": null,
   "id": "5e929c74-d745-40cc-a1cc-0d6526ab8e9f",
   "metadata": {},
   "outputs": [],
   "source": [
    "\n",
    "# occupied-info[state][0: up_occ_index, 1: down_occ_index, 2: orbital_energy, 3: energy_sum]\n",
    "\n",
    "# Function to update the plot\n",
    "def update_plot(k):\n",
    "    plt.figure(figsize=(3, 4))\n",
    "    plt.clf()\n",
    "\n",
    "    # Plot horizontal lines and text for each value in energies_single\n",
    "    for i, value in enumerate(energies_single):\n",
    "        plt.axhline(y=value, color='b', linestyle='-')\n",
    "        plt.text(x=1.3, y=value, s=f'{value}', color='red', va='center', ha='right')\n",
    "    \n",
    "    if occupied_info[k][2][0] == occupied_info[k][2][1]:\n",
    "        plt.plot(0.25, occupied_info[k][2][0], \"ro\")\n",
    "        plt.plot(0.75, occupied_info[k][2][1], \"ro\")\n",
    "    else:\n",
    "        plt.plot(0.5, occupied_info[k][2][0], \"ro\")\n",
    "        plt.plot(0.5, occupied_info[k][2][1], \"ro\")\n",
    "\n",
    "    plt.xlim(0, 1)\n",
    "    plt.ylim(min(energies_single) - 1, max(energies_single) + 1)\n",
    "    plt.title(\"k-state occupation, up=red, down=green\")\n",
    "    \n",
    "    plt.show()\n",
    "\n",
    "# Create a slider widget\n",
    "k_slider = widgets.IntSlider(value=5, min=0, max=len(occupied_info) - 1, step=1, description='k:')\n",
    "\n",
    "# Update the plot when the slider value changes\n",
    "widgets.interact(update_plot, k=k_slider)\n",
    "\n",
    "# Display the slider\n",
    "display(k_slider)\n"
   ]
  },
  {
   "cell_type": "code",
   "execution_count": null,
   "id": "218bd76a-e336-4b89-bafc-ba112f7bb975",
   "metadata": {},
   "outputs": [],
   "source": []
  }
 ],
 "metadata": {
  "kernelspec": {
   "display_name": "Python 3 (ipykernel)",
   "language": "python",
   "name": "python3"
  },
  "language_info": {
   "codemirror_mode": {
    "name": "ipython",
    "version": 3
   },
   "file_extension": ".py",
   "mimetype": "text/x-python",
   "name": "python",
   "nbconvert_exporter": "python",
   "pygments_lexer": "ipython3",
   "version": "3.12.4"
  }
 },
 "nbformat": 4,
 "nbformat_minor": 5
}
