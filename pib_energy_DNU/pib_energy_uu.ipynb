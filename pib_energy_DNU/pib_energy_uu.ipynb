{
 "cells": [
  {
   "cell_type": "markdown",
   "id": "51933ce9-3640-495b-b03e-6bbc55491ae9",
   "metadata": {},
   "source": [
    "**System of 'uu'**"
   ]
  },
  {
   "cell_type": "code",
   "execution_count": 1,
   "id": "dd1cd4e1-ede9-4c4a-af61-761f614f2943",
   "metadata": {},
   "outputs": [],
   "source": [
    "import numpy as np\n",
    "import matplotlib.pyplot as plt\n",
    "import ipywidgets as widgets\n",
    "from IPython.display import display\n",
    "import iDEA\n",
    "\n",
    "# run variables\n",
    "\n",
    "points = 100\n",
    "num_of_states = 10\n",
    "# initalise the system\n",
    "\n",
    "l = 1\n",
    "x = np.linspace(0, l, points)\n",
    "v_ext = np.zeros(len(x))\n",
    "v_int = np.zeros([len(x), len(x)])\n",
    "pib_single = iDEA.system.System(x, v_ext, v_int, electrons = \"u\")\n",
    "pib_double = iDEA.system.System(x, v_ext, v_int, electrons = \"uu\")"
   ]
  },
  {
   "cell_type": "code",
   "execution_count": 2,
   "id": "19481118-dc62-418c-8cf6-94e2d494452f",
   "metadata": {},
   "outputs": [
    {
     "name": "stdout",
     "output_type": "stream",
     "text": [
      "iDEA.methods.interacting.solve: solving eigenproblem...\n",
      "iDEA.methods.interacting.solve: solving eigenproblem...\n",
      "iDEA.methods.non_interacting.solve: convergence = 4.4649e-14, tolerance = 1e-10\n",
      "State 0 done\n",
      "iDEA.methods.interacting.solve: solving eigenproblem...\n",
      "iDEA.methods.interacting.solve: solving eigenproblem...\n",
      "iDEA.methods.non_interacting.solve: convergence = 4.4649e-14, tolerance = 1e-10\n",
      "State 1 done\n",
      "iDEA.methods.interacting.solve: solving eigenproblem...\n",
      "iDEA.methods.interacting.solve: solving eigenproblem...\n",
      "iDEA.methods.non_interacting.solve: convergence = 4.4649e-14, tolerance = 1e-10\n",
      "State 2 done\n",
      "iDEA.methods.interacting.solve: solving eigenproblem...\n",
      "iDEA.methods.interacting.solve: solving eigenproblem...\n",
      "iDEA.methods.non_interacting.solve: convergence = 4.4649e-14, tolerance = 1e-10\n",
      "State 3 done\n",
      "iDEA.methods.interacting.solve: solving eigenproblem...\n",
      "iDEA.methods.interacting.solve: solving eigenproblem...\n",
      "iDEA.methods.non_interacting.solve: convergence = 4.4649e-14, tolerance = 1e-10\n",
      "State 4 done\n",
      "iDEA.methods.interacting.solve: solving eigenproblem...\n",
      "iDEA.methods.interacting.solve: solving eigenproblem...\n",
      "iDEA.methods.non_interacting.solve: convergence = 4.4649e-14, tolerance = 1e-10\n",
      "State 5 done\n",
      "iDEA.methods.interacting.solve: solving eigenproblem...\n",
      "iDEA.methods.interacting.solve: solving eigenproblem...\n",
      "iDEA.methods.non_interacting.solve: convergence = 4.4649e-14, tolerance = 1e-10\n",
      "State 6 done\n",
      "iDEA.methods.interacting.solve: solving eigenproblem...\n",
      "iDEA.methods.interacting.solve: solving eigenproblem...\n",
      "iDEA.methods.non_interacting.solve: convergence = 4.4649e-14, tolerance = 1e-10\n",
      "State 7 done\n",
      "iDEA.methods.interacting.solve: solving eigenproblem...\n",
      "iDEA.methods.interacting.solve: solving eigenproblem...\n",
      "iDEA.methods.non_interacting.solve: convergence = 4.4649e-14, tolerance = 1e-10\n",
      "State 8 done\n",
      "iDEA.methods.interacting.solve: solving eigenproblem...\n",
      "iDEA.methods.interacting.solve: solving eigenproblem...\n",
      "iDEA.methods.non_interacting.solve: convergence = 4.4649e-14, tolerance = 1e-10\n",
      "State 9 done\n",
      "Done\n"
     ]
    }
   ],
   "source": [
    "# initalise the arrays\n",
    "\n",
    "energies_int = []\n",
    "energies_single = []\n",
    "energies_errors = []\n",
    "occupied_levels = {}\n",
    "occupied_info = {}\n",
    "\n",
    "# solve for the state and extract the energy\n",
    "for i in range(num_of_states):\n",
    "    orbital_energy = []\n",
    "    # methods using pib_single\n",
    "    s = iDEA.methods.interacting.solve(pib_single, k=i)\n",
    "    energies_single.append(np.round((s.energy / (np.pi)**2), decimals=4))\n",
    "\n",
    "    # methods using pib_double\n",
    "    j = iDEA.methods.interacting.solve(pib_double, k=i)\n",
    "    energies_int.append(np.round((j.energy / (np.pi)**2), decimals=4))\n",
    "    \n",
    "    t = iDEA.methods.non_interacting.solve(pib_double, k=i)\n",
    "    energies_up = np.round((t.up.energies / ((np.pi)**2)), decimals=4) # energies of single body state\n",
    "    energies_down = np.round((t.down.energies / ((np.pi)**2)), decimals=4)\n",
    "    up_occ_index = t.up.occupied # index of occupied orbitals\n",
    "    down_occ_index = t.down.occupied\n",
    "    # up_occ = t.up.occupations # full array of occupations\n",
    "    # down_occ = t.down.occupations\n",
    "\n",
    "    for index in up_occ_index:\n",
    "        orbital_energy.append(energies_up[index])\n",
    "\n",
    "    for index in down_occ_index:\n",
    "        orbital_energy.append(energies_down[index])\n",
    "\n",
    "    energy_sum = np.sum(orbital_energy)\n",
    "    \n",
    "    occupied_levels[f\"State = {i}\"] = (f\"Orbitals occupied by up: {up_occ_index}\", f\"Orbitals occupied by down: {down_occ_index}\", \\\n",
    "                                       f\"Energy of occupied orbitals: {orbital_energy}\", f\"Total energy = {energy_sum}\")\n",
    "    occupied_info[i] = [up_occ_index, down_occ_index, orbital_energy, energy_sum]\n",
    "    \n",
    "    \n",
    "    energies_errors.append(abs( (((i+1)**2)/2) - np.round((s.energy / (np.pi)**2), decimals=4)))\n",
    "    print(f\"State {i} done\")\n",
    "    # state = iDEA.methods.non_interacting.solve(pib, k=i)\n",
    "    # e = iDEA.methods.non_inte(np.round((j.energy / (np.pi)**2), decimals=4))racting.total_energy(pib, state)\n",
    "    # energies_non_int.append(e)\n",
    "print(\"Done\")\n"
   ]
  },
  {
   "cell_type": "code",
   "execution_count": 3,
   "id": "d36c9198-0a42-4b44-90ab-0433bdb569e2",
   "metadata": {},
   "outputs": [
    {
     "name": "stdout",
     "output_type": "stream",
     "text": [
      "State = 0: ('Orbitals occupied by up: [0 1]', 'Orbitals occupied by down: []', 'Energy of occupied orbitals: [0.4825, 1.9299]', 'Total energy = 2.4124')\n",
      "---\n",
      "State = 1: ('Orbitals occupied by up: [0 2]', 'Orbitals occupied by down: []', 'Energy of occupied orbitals: [0.4825, 4.3422]', 'Total energy = 4.8247')\n",
      "---\n",
      "State = 2: ('Orbitals occupied by up: [1 2]', 'Orbitals occupied by down: []', 'Energy of occupied orbitals: [1.9299, 4.3422]', 'Total energy = 6.2721')\n",
      "---\n",
      "State = 3: ('Orbitals occupied by up: [0 3]', 'Orbitals occupied by down: []', 'Energy of occupied orbitals: [0.4825, 7.7195]', 'Total energy = 8.202')\n",
      "---\n",
      "State = 4: ('Orbitals occupied by up: [1 3]', 'Orbitals occupied by down: []', 'Energy of occupied orbitals: [1.9299, 7.7195]', 'Total energy = 9.6494')\n",
      "---\n",
      "State = 5: ('Orbitals occupied by up: [2 3]', 'Orbitals occupied by down: []', 'Energy of occupied orbitals: [4.3422, 7.7195]', 'Total energy = 12.0617')\n",
      "---\n",
      "State = 6: ('Orbitals occupied by up: [0 4]', 'Orbitals occupied by down: []', 'Energy of occupied orbitals: [0.4825, 12.0617]', 'Total energy = 12.5442')\n",
      "---\n",
      "State = 7: ('Orbitals occupied by up: [1 4]', 'Orbitals occupied by down: []', 'Energy of occupied orbitals: [1.9299, 12.0617]', 'Total energy = 13.9916')\n",
      "---\n",
      "State = 8: ('Orbitals occupied by up: [2 4]', 'Orbitals occupied by down: []', 'Energy of occupied orbitals: [4.3422, 12.0617]', 'Total energy = 16.4039')\n",
      "---\n",
      "State = 9: ('Orbitals occupied by up: [0 5]', 'Orbitals occupied by down: []', 'Energy of occupied orbitals: [0.4825, 17.3689]', 'Total energy = 17.8514')\n",
      "---\n"
     ]
    }
   ],
   "source": [
    "for key, value in occupied_levels.items():\n",
    "    print(f'{key}: {value}')\n",
    "    print('---') "
   ]
  },
  {
   "cell_type": "code",
   "execution_count": 4,
   "id": "43717d7a-077f-4aad-bf6a-3aa51134c866",
   "metadata": {},
   "outputs": [
    {
     "name": "stdout",
     "output_type": "stream",
     "text": [
      "Energies of interacting method 'uu'\n",
      "State = 0, energy = 2.4124 per pi squared\n",
      "State = 1, energy = 4.8247 per pi squared\n",
      "State = 2, energy = 6.2721 per pi squared\n",
      "State = 3, energy = 8.202 per pi squared\n",
      "State = 4, energy = 9.6494 per pi squared\n",
      "State = 5, energy = 12.0617 per pi squared\n",
      "State = 6, energy = 12.5442 per pi squared\n",
      "State = 7, energy = 13.9916 per pi squared\n",
      "State = 8, energy = 16.404 per pi squared\n",
      "State = 9, energy = 17.8514 per pi squared\n",
      "\n",
      "Energies of interacting method 'u'\n",
      "State = 0, energy = 0.4825 per pi squared\n",
      "State = 1, energy = 1.9299 per pi squared\n",
      "State = 2, energy = 4.3422 per pi squared\n",
      "State = 3, energy = 7.7195 per pi squared\n",
      "State = 4, energy = 12.0617 per pi squared\n",
      "State = 5, energy = 17.3689 per pi squared\n",
      "State = 6, energy = 23.641 per pi squared\n",
      "State = 7, energy = 30.878 per pi squared\n",
      "State = 8, energy = 39.0799 per pi squared\n",
      "State = 9, energy = 48.2467 per pi squared\n",
      "\n",
      "Errors\n",
      "State = 0, error = 0.017500000000000016 per pi squared\n",
      "State = 1, error = 0.07010000000000005 per pi squared\n",
      "State = 2, error = 0.15779999999999994 per pi squared\n",
      "State = 3, error = 0.28049999999999997 per pi squared\n",
      "State = 4, error = 0.4382999999999999 per pi squared\n",
      "State = 5, error = 0.6311 per pi squared\n",
      "State = 6, error = 0.8590000000000018 per pi squared\n",
      "State = 7, error = 1.1219999999999999 per pi squared\n",
      "State = 8, error = 1.420099999999998 per pi squared\n",
      "State = 9, error = 1.753300000000003 per pi squared\n"
     ]
    }
   ],
   "source": [
    "# print results\n",
    "\n",
    "print(\"Energies of interacting method 'uu'\")\n",
    "for i, value in enumerate(energies_int):\n",
    "    print(f\"State = {i}, energy = {value} per pi squared\")\n",
    "print(\"\")\n",
    "print(\"Energies of interacting method 'u'\")\n",
    "for i, value in enumerate(energies_single):\n",
    "    print(f\"State = {i}, energy = {value} per pi squared\")\n",
    "print(\"\")\n",
    "print(\"Errors\")\n",
    "for i, value in enumerate(energies_errors):\n",
    "    print(f\"State = {i}, error = {value} per pi squared\")\n",
    "    "
   ]
  },
  {
   "cell_type": "code",
   "execution_count": 5,
   "id": "0463100a-9f18-4631-a262-1f53849afb1a",
   "metadata": {},
   "outputs": [],
   "source": [
    "# print the degenerate states\n",
    "\n",
    "for i in range(len(energies_int)):\n",
    "    if energies_int[i] == energies_int[i-1]:\n",
    "        print(f\"State {i-1} and {i} have the same energy\")"
   ]
  },
  {
   "cell_type": "code",
   "execution_count": 6,
   "id": "2fe64556-3998-4fcd-9a6e-10b6a17bc038",
   "metadata": {},
   "outputs": [
    {
     "data": {
      "image/png": "[encoded data removed]",
      "text/plain": [
       "<Figure size 640x480 with 2 Axes>"
      ]
     },
     "metadata": {},
     "output_type": "display_data"
    }
   ],
   "source": [
    "# plot the energies\n",
    "\n",
    "fig, (ax1, ax2) = plt.subplots(1, 2)\n",
    "\n",
    "for i, value in enumerate(energies_int):\n",
    "    ax1.axhline(y=value, color='b', linestyle='-')\n",
    "    if energies_int[i] == energies_int[i-1]:\n",
    "        ax1.text(x=1.4, y=value, s=f'{value}', color='black', va='center', ha='right')\n",
    "    else:\n",
    "        ax1.text(x=1.4, y=value, s=f'{value}', color='red', va='center', ha='right')\n",
    "\n",
    "for i, value in enumerate(energies_single):\n",
    "    ax2.axhline(y=value, color='b', linestyle='-')\n",
    "    ax2.text(x=1.4, y=value, s=f'{value}', color='red', va='center', ha='right')\n",
    "\n",
    "\n",
    "ax1.set_title('Plot of energies from \\n interacting method \"uu\"')\n",
    "ax2.set_title('Plot of energies from \\n interacting method \"u\"')\n",
    "ax1.set_xlabel(\"Box\")\n",
    "ax1.set_ylabel(\"Energies\")\n",
    "ax2.set_xlabel(\"Box\")\n",
    "ax2.set_ylabel(\"Energies\")\n",
    "plt.tight_layout()\n",
    "plt.show()"
   ]
  },
  {
   "cell_type": "code",
   "execution_count": 7,
   "id": "5e929c74-d745-40cc-a1cc-0d6526ab8e9f",
   "metadata": {},
   "outputs": [
    {
     "data": {
      "application/vnd.jupyter.widget-view+json": {
       "model_id": "e69592c25b744559b517f77d539721ba",
       "version_major": 2,
       "version_minor": 0
      },
      "text/plain": [
       "interactive(children=(IntSlider(value=5, description='k:', max=9), Output()), _dom_classes=('widget-interact',…"
      ]
     },
     "metadata": {},
     "output_type": "display_data"
    },
    {
     "data": {
      "application/vnd.jupyter.widget-view+json": {
       "model_id": "6c57dd3f176c48e49d4311deb858f4e1",
       "version_major": 2,
       "version_minor": 0
      },
      "text/plain": [
       "IntSlider(value=5, description='k:', max=9)"
      ]
     },
     "metadata": {},
     "output_type": "display_data"
    }
   ],
   "source": [
    "\n",
    "# occupied-info[state][0: up_occ_index, 1: down_occ_index, 2: orbital_energy, 3: energy_sum]\n",
    "\n",
    "# Function to update the plot\n",
    "def update_plot(k):\n",
    "    plt.figure(figsize=(3, 4))\n",
    "    plt.clf()\n",
    "\n",
    "    # Plot horizontal lines and text for each value in energies_single\n",
    "    for i, value in enumerate(energies_single):\n",
    "        plt.axhline(y=value, color='b', linestyle='-')\n",
    "        plt.text(x=1.3, y=value, s=f'{value}', color='red', va='center', ha='right')\n",
    "    \n",
    "    if occupied_info[k][2][0] == occupied_info[k][2][1]:\n",
    "        plt.plot(0.25, occupied_info[k][2][0], \"ro\")\n",
    "        plt.plot(0.75, occupied_info[k][2][1], \"ro\")\n",
    "    else:\n",
    "        plt.plot(0.5, occupied_info[k][2][0], \"ro\")\n",
    "        plt.plot(0.5, occupied_info[k][2][1], \"ro\")\n",
    "\n",
    "    plt.xlim(0, 1)\n",
    "    plt.ylim(min(energies_single) - 1, max(energies_single) + 1)\n",
    "    plt.title(\"k-state occupation, up=red, down=green\")\n",
    "    \n",
    "    plt.show()\n",
    "\n",
    "# Create a slider widget\n",
    "k_slider = widgets.IntSlider(value=5, min=0, max=len(occupied_info) - 1, step=1, description='k:')\n",
    "\n",
    "# Update the plot when the slider value changes\n",
    "widgets.interact(update_plot, k=k_slider)\n",
    "\n",
    "# Display the slider\n",
    "display(k_slider)\n"
   ]
  },
  {
   "cell_type": "code",
   "execution_count": null,
   "id": "218bd76a-e336-4b89-bafc-ba112f7bb975",
   "metadata": {},
   "outputs": [],
   "source": []
  }
 ],
 "metadata": {
  "kernelspec": {
   "display_name": "Python 3 (ipykernel)",
   "language": "python",
   "name": "python3"
  },
  "language_info": {
   "codemirror_mode": {
    "name": "ipython",
    "version": 3
   },
   "file_extension": ".py",
   "mimetype": "text/x-python",
   "name": "python",
   "nbconvert_exporter": "python",
   "pygments_lexer": "ipython3",
   "version": "3.12.4"
  }
 },
 "nbformat": 4,
 "nbformat_minor": 5
}
