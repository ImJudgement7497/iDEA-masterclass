{
 "cells": [
  {
   "cell_type": "code",
   "execution_count": 7,
   "metadata": {},
   "outputs": [],
   "source": [
    "import numpy as np\n",
    "import matplotlib.pyplot as plt\n",
    "import ipywidgets as widgets\n",
    "from IPython.display import display\n",
    "import iDEA\n",
    "import pickle\n",
    "from scipy.integrate import simpson\n",
    "\n",
    "l = 5\n",
    "points = 750\n",
    "x = np.linspace(0, l, points)\n",
    "dx = x[1] - x[0]\n",
    "v_ext = np.zeros(len(x))\n",
    "v_int = np.zeros([len(x), len(x)])\n",
    "pib_double = iDEA.system.System(x, v_ext, v_int, electrons = \"ud\")\n",
    "states = {}\n",
    "\n",
    "for i in range(10):\n",
    "    try:\n",
    "        with open(f\"state750_{i}.pkl\", \"rb\") as file:\n",
    "            states[i] = pickle.load(file)\n",
    "    except FileNotFoundError:\n",
    "        print(f\"File state_{i}.pkl not found.\")\n",
    "    except Exception as e:\n",
    "        print(f\"An error occurred while loading state_{i}.pkl: {e}\")"
   ]
  },
  {
   "cell_type": "code",
   "execution_count": 9,
   "metadata": {},
   "outputs": [],
   "source": [
    "# ground_state = states[0]\n",
    "# n = iDEA.observables.density(pib_double, ground_state)\n",
    "\n",
    "# ground_analytic = (2/np.sqrt(2))*wave_function(l, 0, x_1) * wave_function(l, 0, x_2)\n",
    "# n_analytic = (np.abs(ground_analytic))**2\n",
    "# plt.plot(x, n, x, n_analytic)"
   ]
  },
  {
   "cell_type": "code",
   "execution_count": 10,
   "metadata": {},
   "outputs": [],
   "source": [
    "# def state_analysis(states: dict, l, n1: int, n2: int, k: int):\n",
    "#     x = np.linspace(0, l, 750)\n",
    "#     dx = x[1] - x[0]\n",
    "#     x_1 = np.linspace(0, l, 750)\n",
    "#     x_2 = np.linspace(0, l, 750)\n",
    "#     x_1[0] = x_1[1] - dx\n",
    "#     x_1[-1] = x_1[-2] + dx\n",
    "#     x_2[0] = x_2[1] - dx\n",
    "#     x_2[-1] = x_2[-2] + dx\n",
    "#     X_1, X_2 = np.meshgrid(x_1, x_2)\n",
    "\n",
    "#     state = states[k]\n",
    "#     pd_approx = (np.abs(state.space.real))**2\n",
    "\n",
    "#     state_analytic = wave_function((l+2*dx), n1, X_1) * wave_function((l+2*dx), n2, X_2)\n",
    "#     pd_analytic = (np.abs(state_analytic))**2\n",
    "\n",
    "#     fig, (ax1, ax2) = plt.subplots(1, 2)\n",
    "\n",
    "#     ax1.imshow(pd_analytic, cmap=\"seismic\", vmax=np.max(pd_analytic), vmin=-np.max(pd_analytic))\n",
    "#     ax1.set_title(\"Probability density (analytic)\")\n",
    "\n",
    "#     ax2.imshow(pd_approx, cmap=\"seismic\", vmax=np.max(pd_approx), vmin=-np.max(pd_approx))\n",
    "#     ax2.set_title(\"Probability density (approx)\")\n",
    "#     plt.tight_layout()\n",
    "#     plt.show()\n",
    "\n",
    "#     print(np.allclose(pd_approx, pd_analytic))\n",
    "\n",
    "    "
   ]
  },
  {
   "cell_type": "code",
   "execution_count": 55,
   "metadata": {},
   "outputs": [],
   "source": [
    "def wave_function(l, n, X):\n",
    "    return np.sqrt(2/l) * np.sin((np.pi) * X * (n+1) / l)\n",
    "\n",
    "def states_density_comparison(states: dict, s: iDEA.system.System, l, points):\n",
    "    # Initialize system\n",
    "    x = s.x\n",
    "    x_prime = x\n",
    "    dx = s.dx\n",
    "    y = np.linspace(-dx, l+dx, points+2)\n",
    "\n",
    "    orbital_space = []\n",
    "    analytic_space_1 = []\n",
    "    analytic_space_2 = []\n",
    "    state_index_list = [[0, 0], [0, 1], [1, 0], [1, 1], [0, 2], [2, 0], [1, 2], [2, 1], [0, 3], [3, 0]]\n",
    "    for key, value in states.items():\n",
    "        n = iDEA.observables.density(s, value)\n",
    "\n",
    "        index_k = state_index_list[key][0]\n",
    "        index_j = state_index_list[key][1]\n",
    "        # integrand_1 = (np.abs(wave_function(l, index_j, x_prime))) ** 2\n",
    "        # integral = simpson(integrand_1, x=x_prime)\n",
    "\n",
    "        # many_body = np.sqrt(1/2) * (wave_function(l, index_k, x)*wave_function(l, index_j, x) + wave_function(l, index_k, x_prime)*wave_function(l, index_j, x_prime))\n",
    "        # integrand_2 = np.abs(many_body)**2\n",
    "        # integral = simpson(integrand_2, x=x_prime)\n",
    "        # pd_analytic_1 = abs(wave_function(l, state_index_list[key][0], x) * wave_function(l, state_index_list[key][1], x)) ** 2\n",
    "\n",
    "        # print(integral)\n",
    "\n",
    "        pd_analytic_1 = (np.abs(wave_function(l, index_k, x)))**2 + (np.abs(wave_function(l, index_j, x)))**2\n",
    "        pd_analytic_2 = abs(wave_function((l+2*dx), state_index_list[key][0], y) * wave_function((l+2*dx), index_j, y)) ** 2\n",
    "        pd_analytic_2 = pd_analytic_2[1:-1]\n",
    "        \n",
    "        orbital_space.append(n)\n",
    "        analytic_space_1.append(pd_analytic_1)\n",
    "        analytic_space_2.append(pd_analytic_2)\n",
    "\n",
    "    # Ensure the directory for saving images exists\n",
    "    # output_dir = 'frames'\n",
    "    # if not os.path.exists(output_dir):\n",
    "    #     os.makedirs(output_dir)\n",
    "    # Define the function to plot the array\n",
    "    def plot_array(k):\n",
    "        plt.figure(figsize=(10, 6))\n",
    "        plt.plot(x, orbital_space[k], \"black\")\n",
    "        plt.plot(x, analytic_space_1[k], \"b--\")\n",
    "        plt.plot(y[1:-1], analytic_space_2[k], \"r--\")\n",
    "        plt.title(f'State {k}')\n",
    "        plt.xlabel('x')\n",
    "        plt.ylabel('y')\n",
    "        plt.grid(True)\n",
    "        plt.legend([\"Approximate prob. density\", \"Analytical prob. density (l)\", \"Analytical prob. density (l+2*dx)\"])\n",
    "       \n",
    "        # Check if the arrays are approximately equal\n",
    "        approx_close_1 = np.allclose(orbital_space[k], analytic_space_1[k], rtol=1e-05, atol=1e-08)\n",
    "        approx_close_2 = np.allclose(orbital_space[k], analytic_space_2[k], rtol=1e-05, atol=1e-08)\n",
    "        \n",
    "        print(f\"Is approximate close to analytic 1 for state {k}?: {approx_close_1}\")\n",
    "        print(f\"Is approximate close to analytic 2 for state {k}?: {approx_close_2}\")\n",
    "\n",
    "        # plt.savefig(os.path.join(output_dir, f'frame_{k:03d}.png'))\n",
    "        plt.show()\n",
    "    \n",
    "    # for k in range(len(orbital_space)):\n",
    "    #     plot_array(k)\n",
    "\n",
    "    # Create a slider widget\n",
    "    slider = widgets.IntSlider(value=0, min=0, max=len(orbital_space) - 1, step=1, description='k:')\n",
    "    interactive_plot = widgets.interactive(plot_array, k=slider)\n",
    "    \n",
    "    # Display the interactive plot\n",
    "    display(interactive_plot)\n",
    "    # plt.plot(x, (analytic_space_2[0] - orbital_space[0]))\n",
    "    # plt.show()"
   ]
  },
  {
   "cell_type": "code",
   "execution_count": 56,
   "metadata": {},
   "outputs": [
    {
     "data": {
      "application/vnd.jupyter.widget-view+json": {
       "model_id": "e2ed7ca45c754838b33ae8e2f83b250c",
       "version_major": 2,
       "version_minor": 0
      },
      "text/plain": [
       "interactive(children=(IntSlider(value=0, description='k:', max=9), Output()), _dom_classes=('widget-interact',…"
      ]
     },
     "metadata": {},
     "output_type": "display_data"
    }
   ],
   "source": [
    "states_density_comparison(states, pib_double, l, points)"
   ]
  }
 ],
 "metadata": {
  "kernelspec": {
   "display_name": "Python 3",
   "language": "python",
   "name": "python3"
  },
  "language_info": {
   "codemirror_mode": {
    "name": "ipython",
    "version": 3
   },
   "file_extension": ".py",
   "mimetype": "text/x-python",
   "name": "python",
   "nbconvert_exporter": "python",
   "pygments_lexer": "ipython3",
   "version": "3.10.12"
  }
 },
 "nbformat": 4,
 "nbformat_minor": 2
}
