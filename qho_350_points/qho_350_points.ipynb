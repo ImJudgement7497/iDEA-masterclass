{
 "cells": [
  {
   "cell_type": "code",
   "execution_count": null,
   "metadata": {},
   "outputs": [],
   "source": [
    "# import numpy as np\n",
    "# import matplotlib.pyplot as plt\n",
    "# import iDEA\n",
    "# import pickle\n",
    "# import time\n",
    "# from pathlib import Path\n",
    "\n",
    "# # Initialize the system\n",
    "# points = 231\n",
    "# l = 10\n",
    "# x = np.linspace(-l, l, points)\n",
    "# dx = x[1] - x[0]\n",
    "# omega = 0.3275\n",
    "# v_ext = 0.5 * omega**2 * (x**2)\n",
    "# v_int = np.zeros([len(x), len(x)])\n",
    "# qho_single = iDEA.system.System(x, v_ext, v_int, electrons=\"u\")\n",
    "# qho_double = iDEA.system.System(x, v_ext, v_int, electrons=\"ud\")\n"
   ]
  },
  {
   "cell_type": "code",
   "execution_count": 2,
   "metadata": {},
   "outputs": [
    {
     "name": "stdout",
     "output_type": "stream",
     "text": [
      "['/usr/lib/python310.zip', '/usr/lib/python3.10', '/usr/lib/python3.10/lib-dynload', '', '/home/imjudgement7497/.local/lib/python3.10/site-packages', '/usr/local/lib/python3.10/dist-packages', '/usr/local/lib/python3.10/dist-packages/iDEA_latest-1.0.2-py3.10.egg', '/home/imjudgement7497/collections_iDEA_package', '/usr/lib/python3/dist-packages']\n"
     ]
    }
   ],
   "source": [
    "import numpy as np\n",
    "import matplotlib.pyplot as plt\n",
    "import iDEA\n",
    "import pickle\n",
    "import time\n",
    "from pathlib import Path\n",
    "import collections_iDEA\n",
    "import collections_iDEA.multiplets as mm\n",
    "import sys\n",
    "\n",
    "states_small_int = {}\n",
    "states_zero_int = {}\n",
    "occupied_info = []\n",
    "\n",
    "directory = Path(\"states\")\n",
    "\n",
    "# for i in range(0, 51):\n",
    "#     file_path = directory / f\"qho_small_int_state_{i}_1e-11.pkl\"\n",
    "#     try:\n",
    "#         with file_path.open(\"rb\") as file:\n",
    "#             states_small_int[i] = pickle.load(file)\n",
    "#     except FileNotFoundError:\n",
    "#         print(f\"File state_{i}.pkl not found.\")\n",
    "#     except Exception as e:\n",
    "#         print(f\"An error occurred while loading state_{i}.pkl: {e}\")\n",
    "\n",
    "# for i in range(0, 51):\n",
    "#     file_path = directory / f\"qho_zero_int_state_{i}.pkl\"\n",
    "#     try:\n",
    "#         with file_path.open(\"rb\") as file:\n",
    "#             states_zero_int[i] = pickle.load(file)\n",
    "#     except FileNotFoundError:\n",
    "#         print(f\"File state_{i}.pkl not found.\")\n",
    "#     except Exception as e:\n",
    "#         print(f\"An error occurred while loading state_{i}.pkl: {e}\")\n",
    "\n",
    "# file_path = \"occupied_info_231.pkl\"\n",
    "# with open(file_path, \"rb\") as file:\n",
    "#     occupied_info = pickle.load(file)\n",
    "\n",
    "\n",
    "\n",
    "print(sys.path)"
   ]
  },
  {
   "cell_type": "code",
   "execution_count": null,
   "metadata": {},
   "outputs": [],
   "source": [
    "# energies_single = []\n",
    "# for key, value in states_single.items():\n",
    "#     energies_single.append(value.energy)\n",
    "\n",
    "# energies_double = []\n",
    "# for key, value in states_double.items():\n",
    "#     energies_double.append(value.energy)\n",
    "\n",
    "# analytic_energies = []\n",
    "# for i in range(len(energies_single)):\n",
    "#     energy = omega*(i + 0.5)\n",
    "#     analytic_energies.append(energy)\n"
   ]
  },
  {
   "cell_type": "code",
   "execution_count": 4,
   "metadata": {},
   "outputs": [
    {
     "name": "stdout",
     "output_type": "stream",
     "text": [
      "62 62\n"
     ]
    }
   ],
   "source": [
    "with open(\"qho_energies_small_int_0_199.pkl\", \"rb\") as file:\n",
    "    energies_small_int = pickle.load(file)\n",
    "    energies_small_int = energies_small_int[:-1]\n",
    "\n",
    "with open(\"qho_energies_zero_int_0_199.pkl\", \"rb\") as file:\n",
    "    energies_zero_int= pickle.load(file)\n",
    "\n",
    "\n",
    "print(len(energies_zero_int), len(energies_small_int))"
   ]
  },
  {
   "cell_type": "code",
   "execution_count": 5,
   "metadata": {},
   "outputs": [
    {
     "name": "stdout",
     "output_type": "stream",
     "text": [
      "The file indices_up_to_20.pkl does not exist. Creating it now\n",
      "Elapsed Time = 0.04615534899858176\n"
     ]
    }
   ],
   "source": [
    "\n",
    "# Initialize the system\n",
    "points = 350\n",
    "l = 10\n",
    "x = np.linspace(-l, l, points)\n",
    "dx = x[1] - x[0]\n",
    "omega = 0.3275\n",
    "v_ext = 0.5 * omega**2 * (x**2)\n",
    "v_int = np.zeros([len(x), len(x)])\n",
    "qho_double = iDEA.system.System(x, v_ext, v_int, electrons=\"ud\")\n",
    "\n",
    "def qho_energy(index):\n",
    "    return omega * (index + 0.5)\n",
    "\n",
    "analytic = mm.apply_energy_method(qho_energy, qho_double, 200)\n",
    "analytic.calculate_multiplets()\n",
    "\n"
   ]
  },
  {
   "cell_type": "code",
   "execution_count": 6,
   "metadata": {},
   "outputs": [
    {
     "name": "stdout",
     "output_type": "stream",
     "text": [
      "[1, 2]\n",
      "[3, 4, 5]\n",
      "[6, 7, 8, 9]\n",
      "[10, 11, 12, 13, 14]\n",
      "[15, 16, 17, 18, 19, 20]\n",
      "[21, 22, 23, 24, 25, 26, 27]\n",
      "[28, 29, 30, 31, 32, 33, 34, 35]\n",
      "[36, 37, 38, 39, 40, 41, 42, 43, 44]\n",
      "[45, 46, 47, 48, 49, 50, 51, 52, 53, 54]\n",
      "[55, 56, 57, 58, 59, 60, 61, 62, 63, 64, 65]\n",
      "[66, 67, 68, 69, 70, 71, 72, 73, 74, 75, 76, 77]\n",
      "[78, 79, 80, 81, 82, 83, 84, 85, 86, 87, 88, 89, 90]\n",
      "[91, 92, 93, 94, 95, 96, 97, 98, 99, 100, 101, 102, 103, 104]\n",
      "[105, 106, 107, 108, 109, 110, 111, 112, 113, 114, 115, 116, 117, 118, 119]\n",
      "[120, 121, 122, 123, 124, 125, 126, 127, 128, 129, 130, 131, 132, 133, 134, 135]\n",
      "[136, 137, 138, 139, 140, 141, 142, 143, 144, 145, 146, 147, 148, 149, 150, 151, 152]\n",
      "[153, 154, 155, 156, 157, 158, 159, 160, 161, 162, 163, 164, 165, 166, 167, 168, 169, 170]\n",
      "[171, 172, 173, 174, 175, 176, 177, 178, 179, 180, 181, 182, 183, 184, 185, 186, 187, 188, 189]\n",
      "18\n",
      "[2, 3, 4, 5, 6, 7, 8, 9, 10, 11, 12, 13, 14, 15, 16, 17, 18, 19]\n"
     ]
    }
   ],
   "source": [
    "for elm in analytic.multiplets:\n",
    "    print(elm)\n",
    "\n",
    "print(analytic.get_num_of_multiplets())\n",
    "print(analytic.get_deg_of_multiplets())"
   ]
  },
  {
   "cell_type": "code",
   "execution_count": 8,
   "metadata": {},
   "outputs": [
    {
     "name": "stdout",
     "output_type": "stream",
     "text": [
      "Do list 1 and list 2 energies match up: True\n",
      "From List 1: Multiplet: [1, 2], Energy: 0.6550000000056871\n",
      "From List 2: Multiplet: [1, 2], Energy: 0.655000000000578\n",
      "--\n",
      "From List 1: Multiplet: [3, 4, 5], Energy: 0.9825000000206758\n",
      "From List 2: Multiplet: [3, 4, 5], Energy: 0.9825000000177622\n",
      "--\n",
      "From List 1: Multiplet: [6, 7, 8, 9], Energy: 1.310000000022849\n",
      "From List 2: Multiplet: [6, 7, 8, 9], Energy: 1.3100000000185632\n",
      "--\n",
      "From List 1: Multiplet: [10, 11, 12, 13, 14], Energy: 1.6375000003580806\n",
      "From List 2: Multiplet: [10, 11, 12, 13, 14], Energy: 1.637500000354927\n",
      "--\n",
      "From List 1: Multiplet: [15, 16, 17, 18, 19, 20], Energy: 1.9650000003770396\n",
      "From List 2: Multiplet: [15, 16, 17, 18, 19, 20], Energy: 1.9650000003728\n",
      "--\n",
      "From List 1: Multiplet: [21, 22, 23, 24, 25, 26, 27], Energy: 2.2925000051466027\n",
      "From List 2: Multiplet: [21, 22, 23, 24, 25, 26, 27], Energy: 2.2925000051443596\n",
      "--\n",
      "From List 1: Multiplet: [28, 29, 30, 31, 32, 33, 34, 35], Energy: 2.620000005485554\n",
      "From List 2: Multiplet: [28, 29, 30, 31, 32, 33, 34, 35], Energy: 2.6200000054817423\n",
      "--\n",
      "From List 1: Multiplet: [36, 37, 38, 39, 40, 41, 42, 43, 44], Energy: 2.9475000573252776\n",
      "From List 2: Multiplet: [36, 37, 38, 39, 40, 41, 42, 43, 44], Energy: 2.947500057322882\n",
      "--\n",
      "From List 1: Multiplet: [45, 46, 47, 48, 49, 50, 51, 52, 53, 54], Energy: 3.2750000620983157\n",
      "From List 2: Multiplet: [45, 46, 47, 48, 49, 50, 51, 52, 53, 54], Energy: 3.2750000620946986\n",
      "--\n",
      "List 1 Multiplet comparison: {}\n",
      "List 2 Multiplet compatison: {}\n"
     ]
    },
    {
     "data": {
      "image/png": "[encoded data removed]",
      "text/plain": [
       "<Figure size 640x480 with 1 Axes>"
      ]
     },
     "metadata": {},
     "output_type": "display_data"
    }
   ],
   "source": [
    "legend = [\"Energies int = 1e-11 (List 1)\", \"Energies from int = 0 (List 2)\"]\n",
    "collections_iDEA.analysis.run_energy_comparison(analytic, energies_small_int, energies_zero_int, legend, tol=1e-2)"
   ]
  },
  {
   "cell_type": "code",
   "execution_count": 9,
   "metadata": {},
   "outputs": [
    {
     "name": "stdout",
     "output_type": "stream",
     "text": [
      "State 0, energy = 0.32750000000490836\n",
      "State 1, energy = 0.6550000000035429\n",
      "State 2, energy = 0.6550000000056871\n",
      "State 3, energy = 0.9825000000050949\n",
      "State 4, energy = 0.9825000000206758\n",
      "State 5, energy = 0.9825000000218941\n",
      "State 6, energy = 1.3100000000210112\n",
      "State 7, energy = 1.310000000022849\n",
      "State 8, energy = 1.3100000003577001\n",
      "State 9, energy = 1.310000000358433\n",
      "State 10, energy = 1.6375000000389857\n",
      "State 11, energy = 1.6375000003580806\n",
      "State 12, energy = 1.6375000003591904\n",
      "State 13, energy = 1.6375000051294364\n",
      "State 14, energy = 1.6375000051296176\n",
      "State 15, energy = 1.9650000003751749\n",
      "State 16, energy = 1.9650000003770396\n",
      "State 17, energy = 1.9650000051295733\n",
      "State 18, energy = 1.9650000051305763\n",
      "State 19, energy = 1.965000056970626\n",
      "State 20, energy = 1.9650000569709105\n",
      "State 21, energy = 2.2925000007132126\n",
      "State 22, energy = 2.2925000051466027\n",
      "State 23, energy = 2.292500005147911\n",
      "State 24, energy = 2.292500056971209\n",
      "State 25, energy = 2.292500056971677\n",
      "State 26, energy = 2.2925005060829164\n",
      "State 27, energy = 2.2925005060831944\n",
      "State 28, energy = 2.6200000054837704\n",
      "State 29, energy = 2.620000005485554\n",
      "State 30, energy = 2.6200000569881183\n",
      "State 31, energy = 2.6200000569890687\n",
      "State 32, energy = 2.6200005060838643\n",
      "State 33, energy = 2.6200005060840685\n",
      "State 34, energy = 2.6200036849010178\n",
      "State 35, energy = 2.620003684901265\n",
      "State 36, energy = 2.947500010256279\n",
      "State 37, energy = 2.9475000573252776\n",
      "State 38, energy = 2.947500057326352\n",
      "State 39, energy = 2.947500506100778\n",
      "State 40, energy = 2.9475005061009867\n",
      "State 41, energy = 2.9475036849013065\n",
      "State 42, energy = 2.947503684901931\n",
      "State 43, energy = 2.9475223605323615\n",
      "State 44, energy = 2.94752236053233\n",
      "State 45, energy = 3.275000062096521\n",
      "State 46, energy = 3.2750000620983157\n",
      "State 47, energy = 3.275000506437923\n",
      "State 48, energy = 3.2750005064388223\n",
      "State 49, energy = 3.275003684918708\n",
      "State 50, energy = 3.275003684919076\n",
      "State 51, energy = 3.2750223605328106\n",
      "State 52, energy = 3.2750223605331303\n",
      "State 53, energy = 3.275114308318617\n",
      "State 54, energy = 3.2751143083187335\n",
      "State 55, energy = 3.60250011393893\n",
      "State 56, energy = 3.6025005112093647\n",
      "State 57, energy = 3.6025005112105095\n",
      "State 58, energy = 3.60250368525614\n",
      "State 59, energy = 3.602503685256541\n",
      "State 60, energy = 3.6025223605501298\n",
      "State 61, energy = 3.602522360550377\n"
     ]
    }
   ],
   "source": [
    "for i, elm in enumerate(energies_small_int):\n",
    "    print(f\"State {i}, energy = {elm}\")"
   ]
  }
 ],
 "metadata": {
  "kernelspec": {
   "display_name": "Python 3",
   "language": "python",
   "name": "python3"
  },
  "language_info": {
   "codemirror_mode": {
    "name": "ipython",
    "version": 3
   },
   "file_extension": ".py",
   "mimetype": "text/x-python",
   "name": "python",
   "nbconvert_exporter": "python",
   "pygments_lexer": "ipython3",
   "version": "3.10.12"
  }
 },
 "nbformat": 4,
 "nbformat_minor": 2
}
