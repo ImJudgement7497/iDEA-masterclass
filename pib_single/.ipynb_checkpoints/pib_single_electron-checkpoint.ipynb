{
 "cells": [
  {
   "cell_type": "markdown",
   "id": "e2c53436-8db0-42f0-bfe2-2fb868b90f48",
   "metadata": {},
   "source": [
    "For a particle in a box, the energy eigenvalues of a single particle state are given by $\\epsilon_{k} = \\frac{\\pi^{2}}{2L^{2}} (k+1)^2$ in atomic units, and for $k = 0, 1, \\dots$  with $k = 0$ being the ground state of the system.\n",
    "\n",
    "This gives a simple $\\frac{(k+1)^2}{2L^{2}}$ relation if we write energy in terms of $\\pi^2$.\n",
    "\n",
    "Thus $\\epsilon_{0} = \\frac{0.5}{L^{2}}, \\epsilon_{1} = \\frac{2}{L^{2}}, \\epsilon_{2} = \\frac{4.5}{L^{2}}$ etc \n",
    "\n",
    "This energy eigenvalue solves equation $H_{s}\\psi_{k} = \\epsilon_{k}\\psi_{k}$. \n",
    "\n",
    "However when calling `iDEA.methods.interacting.solve`, the energy given out is the eigenvalue of $H_{MB} \\phi = E_{k} \\phi$, but for a system like a particle in a box, we know that analytically the ground state should be $E_{0} = 2\\epsilon_{0}= 1$ and can draw out other states."
   ]
  },
  {
   "cell_type": "markdown",
   "id": "668d843b-6415-428b-ba70-98fb7e5c91e2",
   "metadata": {},
   "source": [
    "# Initalisation"
   ]
  },
  {
   "cell_type": "code",
   "execution_count": 3,
   "id": "4e04a97c-3e73-4731-8909-9bdbe9bff358",
   "metadata": {},
   "outputs": [],
   "source": [
    "import numpy as np\n",
    "import matplotlib.pyplot as plt\n",
    "import ipywidgets as widgets\n",
    "from IPython.display import display\n",
    "import iDEA\n",
    "import pandas as pd\n",
    "import time"
   ]
  },
  {
   "cell_type": "code",
   "execution_count": 4,
   "id": "d4f19c03-0501-4d10-ab84-810440d44252",
   "metadata": {},
   "outputs": [],
   "source": [
    "summary = []\n",
    "\n",
    "def run(l, points, num_of_states):\n",
    "\n",
    "    start = time.perf_counter()\n",
    "    # initalise system\n",
    "    x = np.linspace(0, l, points)\n",
    "    v_ext = np.zeros(len(x))\n",
    "    v_int = np.zeros([len(x), len(x)])\n",
    "    pib_single = iDEA.system.System(x, v_ext, v_int, electrons = \"u\")\n",
    "\n",
    "    orbital_space = []\n",
    "    orbital_energies = []\n",
    "    analytic_energies = []\n",
    "    errors = []\n",
    "    percentage_errors = []\n",
    "    \n",
    "    for i in range(num_of_states):\n",
    "        s = iDEA.methods.interacting.solve(pib_single, k=i)\n",
    "                                          \n",
    "        orbital_space.append((abs(s.space)**2))\n",
    "                                           \n",
    "        approx_energy = s.energy / (np.pi)**2\n",
    "        analytic_energy = ((i + 1)**2) / (2 * (l**2))\n",
    "        error = abs(analytic_energy - approx_energy)\n",
    "        percent_error = (error / abs(analytic_energy) ) * 100\n",
    "        \n",
    "        orbital_energies.append(approx_energy)\n",
    "        analytic_energies.append(analytic_energy)\n",
    "        errors.append(error)\n",
    "        percentage_errors.append(percent_error)\n",
    "\n",
    "    data = [orbital_energies, analytic_energies, errors, percentage_errors]\n",
    "\n",
    "    df = pd.DataFrame({\n",
    "        \"Orbital Energies\": orbital_energies,\n",
    "        \"Analytic Energies\": analytic_energies,\n",
    "        \"Errors\": errors,\n",
    "        \"Percentage Errors\": percentage_errors\n",
    "    })\n",
    "\n",
    "    # Display the DataFrame\n",
    "    print(df)\n",
    "    # Define the function to plot the array\n",
    "    def plot_array(k):\n",
    "        plt.figure(figsize=(10, 6))\n",
    "        plt.plot(x, orbital_space[k], \"black\")\n",
    "        plt.plot(x, (abs(np.sqrt(2/l)*np.sin(np.pi * x * (k+1)/ l))**2), \"b--\")\n",
    "        plt.title(f'State {k} ')\n",
    "        plt.xlabel('x')\n",
    "        plt.ylabel('y')\n",
    "        plt.grid(True)\n",
    "        plt.legend([\"Approximate prob. density\", \"Analytical prob. density\"])\n",
    "        plt.show()\n",
    "    \n",
    "    # Create a slider widget\n",
    "    slider = widgets.IntSlider(value=0, min=0, max=len(orbital_space)-1, step=1, description='k:')\n",
    "    interactive_plot = widgets.interactive(plot_array, k=slider)\n",
    "    \n",
    "    # Display the interactive plot\n",
    "    display(interactive_plot)\n",
    "\n",
    "    end = time.perf_counter()\n",
    "    \n",
    "    elapsed = end - start\n",
    "\n",
    "    max_error = np.max(percentage_errors)\n",
    "    \n",
    "    print(f\"Elapsed time: {elapsed} seconds\")\n",
    "\n",
    "    summ = [l, points, num_of_states, elapsed, max_error]\n",
    "    summary.append(summ)"
   ]
  },
  {
   "cell_type": "markdown",
   "id": "1d641632-33bf-4549-840d-69f8f11c79d2",
   "metadata": {},
   "source": [
    "# **Run for `l = 1`, `points = 100`, `num_of_states = 20`**"
   ]
  },
  {
   "cell_type": "code",
   "execution_count": 5,
   "id": "76f3b850-a4b2-4075-a025-774c6a4d4694",
   "metadata": {},
   "outputs": [
    {
     "name": "stdout",
     "output_type": "stream",
     "text": [
      "iDEA.methods.interacting.solve: solving eigenproblem...\n",
      "iDEA.methods.interacting.solve: solving eigenproblem...\n",
      "iDEA.methods.interacting.solve: solving eigenproblem...\n",
      "iDEA.methods.interacting.solve: solving eigenproblem...\n",
      "iDEA.methods.interacting.solve: solving eigenproblem...\n",
      "iDEA.methods.interacting.solve: solving eigenproblem...\n",
      "iDEA.methods.interacting.solve: solving eigenproblem...\n",
      "iDEA.methods.interacting.solve: solving eigenproblem...\n",
      "iDEA.methods.interacting.solve: solving eigenproblem...\n",
      "iDEA.methods.interacting.solve: solving eigenproblem...\n",
      "iDEA.methods.interacting.solve: solving eigenproblem...\n",
      "iDEA.methods.interacting.solve: solving eigenproblem...\n",
      "iDEA.methods.interacting.solve: solving eigenproblem...\n",
      "iDEA.methods.interacting.solve: solving eigenproblem...\n",
      "iDEA.methods.interacting.solve: solving eigenproblem...\n",
      "iDEA.methods.interacting.solve: solving eigenproblem...\n",
      "iDEA.methods.interacting.solve: solving eigenproblem...\n",
      "iDEA.methods.interacting.solve: solving eigenproblem...\n",
      "iDEA.methods.interacting.solve: solving eigenproblem...\n",
      "iDEA.methods.interacting.solve: solving eigenproblem...\n",
      "    Orbital Energies  Analytic Energies    Errors  Percentage Errors\n",
      "0           0.482470                0.5  0.017530           3.505928\n",
      "1           1.929881                2.0  0.070119           3.505949\n",
      "2           4.342231                4.5  0.157769           3.505983\n",
      "3           7.719517                8.0  0.280483           3.506032\n",
      "4          12.061738               12.5  0.438262           3.506095\n",
      "5          17.368889               18.0  0.631111           3.506172\n",
      "6          23.640965               24.5  0.859035           3.506264\n",
      "7          30.877961               32.0  1.122039           3.506371\n",
      "8          39.079870               40.5  1.420130           3.506494\n",
      "9          48.246684               50.0  1.753316           3.506633\n",
      "10         58.378394               60.5  2.121606           3.506787\n",
      "11         69.474989               72.0  2.525011           3.506959\n",
      "12         81.536459               84.5  2.963541           3.507149\n",
      "13         94.562790               98.0  3.437210           3.507358\n",
      "14        108.553967              112.5  3.946033           3.507585\n",
      "15        123.509974              128.0  4.490026           3.507833\n",
      "16        139.430792              144.5  5.069208           3.508103\n",
      "17        156.316401              162.0  5.683599           3.508395\n",
      "18        174.166777              180.5  6.333223           3.508711\n",
      "19        192.981894              200.0  7.018106           3.509053\n"
     ]
    },
    {
     "data": {
      "application/vnd.jupyter.widget-view+json": {
       "model_id": "f5aba84d5ca04f98baeb5019e031920e",
       "version_major": 2,
       "version_minor": 0
      },
      "text/plain": [
       "interactive(children=(IntSlider(value=0, description='k:', max=19), Output()), _dom_classes=('widget-interact'…"
      ]
     },
     "metadata": {},
     "output_type": "display_data"
    },
    {
     "name": "stdout",
     "output_type": "stream",
     "text": [
      "Elapsed time: 1.1673803000012413 seconds\n"
     ]
    }
   ],
   "source": [
    "# run(l, points, num_of_states)\n",
    "run(1, 100, 20)"
   ]
  },
  {
   "cell_type": "markdown",
   "id": "83c47016-a546-459c-8371-bc043624328a",
   "metadata": {},
   "source": [
    "# **Run for `l = 1`, `points = 500`, `num_of_states = 20`**"
   ]
  },
  {
   "cell_type": "code",
   "execution_count": 103,
   "id": "a93f27e1-ed75-44f6-a57f-21fd3ddbf2b4",
   "metadata": {
    "jupyter": {
     "source_hidden": true
    }
   },
   "outputs": [
    {
     "name": "stdout",
     "output_type": "stream",
     "text": [
      "iDEA.methods.interacting.solve: solving eigenproblem...\n",
      "iDEA.methods.interacting.solve: solving eigenproblem...\n",
      "iDEA.methods.interacting.solve: solving eigenproblem...\n",
      "iDEA.methods.interacting.solve: solving eigenproblem...\n",
      "iDEA.methods.interacting.solve: solving eigenproblem...\n",
      "iDEA.methods.interacting.solve: solving eigenproblem...\n",
      "iDEA.methods.interacting.solve: solving eigenproblem...\n",
      "iDEA.methods.interacting.solve: solving eigenproblem...\n",
      "iDEA.methods.interacting.solve: solving eigenproblem...\n",
      "iDEA.methods.interacting.solve: solving eigenproblem...\n",
      "iDEA.methods.interacting.solve: solving eigenproblem...\n",
      "iDEA.methods.interacting.solve: solving eigenproblem...\n",
      "iDEA.methods.interacting.solve: solving eigenproblem...\n",
      "iDEA.methods.interacting.solve: solving eigenproblem...\n",
      "iDEA.methods.interacting.solve: solving eigenproblem...\n",
      "iDEA.methods.interacting.solve: solving eigenproblem...\n",
      "iDEA.methods.interacting.solve: solving eigenproblem...\n",
      "iDEA.methods.interacting.solve: solving eigenproblem...\n",
      "iDEA.methods.interacting.solve: solving eigenproblem...\n",
      "iDEA.methods.interacting.solve: solving eigenproblem...\n",
      "    Orbital Energies  Analytic Energies    Errors  Percentage Errors\n",
      "0           0.496447                0.5  0.003553           0.710595\n",
      "1           1.985788                2.0  0.014212           0.710595\n",
      "2           4.468023                4.5  0.031977           0.710595\n",
      "3           7.943152                8.0  0.056848           0.710595\n",
      "4          12.411175               12.5  0.088825           0.710596\n",
      "5          17.872093               18.0  0.127907           0.710597\n",
      "6          24.325904               24.5  0.174096           0.710597\n",
      "7          31.772609               32.0  0.227391           0.710598\n",
      "8          40.212207               40.5  0.287793           0.710599\n",
      "9          49.644700               50.0  0.355300           0.710600\n",
      "10         60.070086               60.5  0.429914           0.710602\n",
      "11         71.488366               72.0  0.511634           0.710603\n",
      "12         83.899539               84.5  0.600461           0.710604\n",
      "13         97.303606               98.0  0.696394           0.710606\n",
      "14        111.700566              112.5  0.799434           0.710608\n",
      "15        127.090420              128.0  0.909580           0.710609\n",
      "16        143.473167              144.5  1.026833           0.710611\n",
      "17        160.848806              162.0  1.151194           0.710613\n",
      "18        179.217339              180.5  1.282661           0.710616\n",
      "19        198.578764              200.0  1.421236           0.710618\n"
     ]
    },
    {
     "data": {
      "application/vnd.jupyter.widget-view+json": {
       "model_id": "1411feaf6343400480222ac40c7274eb",
       "version_major": 2,
       "version_minor": 0
      },
      "text/plain": [
       "interactive(children=(IntSlider(value=0, description='k:', max=19), Output()), _dom_classes=('widget-interact'…"
      ]
     },
     "metadata": {},
     "output_type": "display_data"
    },
    {
     "name": "stdout",
     "output_type": "stream",
     "text": [
      "Elapsed time: 3.8057062000007136 seconds\n"
     ]
    }
   ],
   "source": [
    "run(1, 500, 20)"
   ]
  },
  {
   "cell_type": "markdown",
   "id": "939ce91c-aaba-42ea-b651-8394fc0ec570",
   "metadata": {},
   "source": [
    "# **Run for `l = 5`, `points = 500`, `num_of_states = 20`**"
   ]
  },
  {
   "cell_type": "code",
   "execution_count": 104,
   "id": "9f121684-62cc-4f57-9274-d52809380247",
   "metadata": {
    "jupyter": {
     "source_hidden": true
    },
    "scrolled": true
   },
   "outputs": [
    {
     "name": "stdout",
     "output_type": "stream",
     "text": [
      "iDEA.methods.interacting.solve: solving eigenproblem...\n",
      "iDEA.methods.interacting.solve: solving eigenproblem...\n",
      "iDEA.methods.interacting.solve: solving eigenproblem...\n",
      "iDEA.methods.interacting.solve: solving eigenproblem...\n",
      "iDEA.methods.interacting.solve: solving eigenproblem...\n",
      "iDEA.methods.interacting.solve: solving eigenproblem...\n",
      "iDEA.methods.interacting.solve: solving eigenproblem...\n",
      "iDEA.methods.interacting.solve: solving eigenproblem...\n",
      "iDEA.methods.interacting.solve: solving eigenproblem...\n",
      "iDEA.methods.interacting.solve: solving eigenproblem...\n",
      "iDEA.methods.interacting.solve: solving eigenproblem...\n",
      "iDEA.methods.interacting.solve: solving eigenproblem...\n",
      "iDEA.methods.interacting.solve: solving eigenproblem...\n",
      "iDEA.methods.interacting.solve: solving eigenproblem...\n",
      "iDEA.methods.interacting.solve: solving eigenproblem...\n",
      "iDEA.methods.interacting.solve: solving eigenproblem...\n",
      "iDEA.methods.interacting.solve: solving eigenproblem...\n",
      "iDEA.methods.interacting.solve: solving eigenproblem...\n",
      "iDEA.methods.interacting.solve: solving eigenproblem...\n",
      "iDEA.methods.interacting.solve: solving eigenproblem...\n",
      "    Orbital Energies  Analytic Energies    Errors  Percentage Errors\n",
      "0           0.019858               0.02  0.000142           0.710595\n",
      "1           0.079432               0.08  0.000568           0.710595\n",
      "2           0.178721               0.18  0.001279           0.710595\n",
      "3           0.317726               0.32  0.002274           0.710595\n",
      "4           0.496447               0.50  0.003553           0.710596\n",
      "5           0.714884               0.72  0.005116           0.710597\n",
      "6           0.973036               0.98  0.006964           0.710597\n",
      "7           1.270904               1.28  0.009096           0.710598\n",
      "8           1.608488               1.62  0.011512           0.710599\n",
      "9           1.985788               2.00  0.014212           0.710600\n",
      "10          2.402803               2.42  0.017197           0.710602\n",
      "11          2.859535               2.88  0.020465           0.710603\n",
      "12          3.355982               3.38  0.024018           0.710604\n",
      "13          3.892144               3.92  0.027856           0.710606\n",
      "14          4.468023               4.50  0.031977           0.710608\n",
      "15          5.083617               5.12  0.036383           0.710609\n",
      "16          5.738927               5.78  0.041073           0.710611\n",
      "17          6.433952               6.48  0.046048           0.710613\n",
      "18          7.168694               7.22  0.051306           0.710616\n",
      "19          7.943151               8.00  0.056849           0.710618\n"
     ]
    },
    {
     "data": {
      "application/vnd.jupyter.widget-view+json": {
       "model_id": "8d269378d78a4b05862850df87a97e63",
       "version_major": 2,
       "version_minor": 0
      },
      "text/plain": [
       "interactive(children=(IntSlider(value=0, description='k:', max=19), Output()), _dom_classes=('widget-interact'…"
      ]
     },
     "metadata": {},
     "output_type": "display_data"
    },
    {
     "name": "stdout",
     "output_type": "stream",
     "text": [
      "Elapsed time: 3.3619801000004372 seconds\n"
     ]
    }
   ],
   "source": [
    "run(5, 500, 20)"
   ]
  },
  {
   "cell_type": "markdown",
   "id": "22075a9a-11ac-48b6-bc9c-52227a6f6043",
   "metadata": {
    "jp-MarkdownHeadingCollapsed": true
   },
   "source": [
    "# **Run for `l = 5`, `points = 1000`, `num_of_states = 20`**"
   ]
  },
  {
   "cell_type": "code",
   "execution_count": 105,
   "id": "f42b4200-70f7-46f5-83ae-62c9d2709cef",
   "metadata": {
    "jupyter": {
     "source_hidden": true
    }
   },
   "outputs": [
    {
     "name": "stdout",
     "output_type": "stream",
     "text": [
      "iDEA.methods.interacting.solve: solving eigenproblem...\n",
      "iDEA.methods.interacting.solve: solving eigenproblem...\n",
      "iDEA.methods.interacting.solve: solving eigenproblem...\n",
      "iDEA.methods.interacting.solve: solving eigenproblem...\n",
      "iDEA.methods.interacting.solve: solving eigenproblem...\n",
      "iDEA.methods.interacting.solve: solving eigenproblem...\n",
      "iDEA.methods.interacting.solve: solving eigenproblem...\n",
      "iDEA.methods.interacting.solve: solving eigenproblem...\n",
      "iDEA.methods.interacting.solve: solving eigenproblem...\n",
      "iDEA.methods.interacting.solve: solving eigenproblem...\n",
      "iDEA.methods.interacting.solve: solving eigenproblem...\n",
      "iDEA.methods.interacting.solve: solving eigenproblem...\n",
      "iDEA.methods.interacting.solve: solving eigenproblem...\n",
      "iDEA.methods.interacting.solve: solving eigenproblem...\n",
      "iDEA.methods.interacting.solve: solving eigenproblem...\n",
      "iDEA.methods.interacting.solve: solving eigenproblem...\n",
      "iDEA.methods.interacting.solve: solving eigenproblem...\n",
      "iDEA.methods.interacting.solve: solving eigenproblem...\n",
      "iDEA.methods.interacting.solve: solving eigenproblem...\n",
      "iDEA.methods.interacting.solve: solving eigenproblem...\n",
      "    Orbital Energies  Analytic Energies    Errors  Percentage Errors\n",
      "0           0.019929               0.02  0.000071           0.355892\n",
      "1           0.079715               0.08  0.000285           0.355892\n",
      "2           0.179359               0.18  0.000641           0.355892\n",
      "3           0.318861               0.32  0.001139           0.355892\n",
      "4           0.498221               0.50  0.001779           0.355892\n",
      "5           0.717438               0.72  0.002562           0.355892\n",
      "6           0.976512               0.98  0.003488           0.355892\n",
      "7           1.275445               1.28  0.004555           0.355892\n",
      "8           1.614235               1.62  0.005765           0.355892\n",
      "9           1.992882               2.00  0.007118           0.355893\n",
      "10          2.411387               2.42  0.008613           0.355893\n",
      "11          2.869750               2.88  0.010250           0.355893\n",
      "12          3.367971               3.38  0.012029           0.355893\n",
      "13          3.906049               3.92  0.013951           0.355893\n",
      "14          4.483985               4.50  0.016015           0.355893\n",
      "15          5.101778               5.12  0.018222           0.355894\n",
      "16          5.759429               5.78  0.020571           0.355894\n",
      "17          6.456938               6.48  0.023062           0.355894\n",
      "18          7.194304               7.22  0.025696           0.355894\n",
      "19          7.971528               8.00  0.028472           0.355895\n"
     ]
    },
    {
     "data": {
      "application/vnd.jupyter.widget-view+json": {
       "model_id": "88b6e0e2906a423ba0837a7e8ee75190",
       "version_major": 2,
       "version_minor": 0
      },
      "text/plain": [
       "interactive(children=(IntSlider(value=0, description='k:', max=19), Output()), _dom_classes=('widget-interact'…"
      ]
     },
     "metadata": {},
     "output_type": "display_data"
    },
    {
     "name": "stdout",
     "output_type": "stream",
     "text": [
      "Elapsed time: 13.659777700000632 seconds\n"
     ]
    }
   ],
   "source": [
    "run(5, 1000, 20)"
   ]
  },
  {
   "cell_type": "markdown",
   "id": "5d03fc6a-4d85-42f4-a7fc-13a2fdc21ee7",
   "metadata": {
    "jp-MarkdownHeadingCollapsed": true
   },
   "source": [
    "# **Run for `l = 5`, `points = 2500`, `num_of_states = 20`**"
   ]
  },
  {
   "cell_type": "code",
   "execution_count": 106,
   "id": "f4babd51-78df-42e4-abfe-8498ea417ed0",
   "metadata": {
    "jupyter": {
     "source_hidden": true
    }
   },
   "outputs": [
    {
     "name": "stdout",
     "output_type": "stream",
     "text": [
      "iDEA.methods.interacting.solve: solving eigenproblem...\n",
      "iDEA.methods.interacting.solve: solving eigenproblem...\n",
      "iDEA.methods.interacting.solve: solving eigenproblem...\n",
      "iDEA.methods.interacting.solve: solving eigenproblem...\n",
      "iDEA.methods.interacting.solve: solving eigenproblem...\n",
      "iDEA.methods.interacting.solve: solving eigenproblem...\n",
      "iDEA.methods.interacting.solve: solving eigenproblem...\n",
      "iDEA.methods.interacting.solve: solving eigenproblem...\n",
      "iDEA.methods.interacting.solve: solving eigenproblem...\n",
      "iDEA.methods.interacting.solve: solving eigenproblem...\n",
      "iDEA.methods.interacting.solve: solving eigenproblem...\n",
      "iDEA.methods.interacting.solve: solving eigenproblem...\n",
      "iDEA.methods.interacting.solve: solving eigenproblem...\n",
      "iDEA.methods.interacting.solve: solving eigenproblem...\n",
      "iDEA.methods.interacting.solve: solving eigenproblem...\n",
      "iDEA.methods.interacting.solve: solving eigenproblem...\n",
      "iDEA.methods.interacting.solve: solving eigenproblem...\n",
      "iDEA.methods.interacting.solve: solving eigenproblem...\n",
      "iDEA.methods.interacting.solve: solving eigenproblem...\n",
      "iDEA.methods.interacting.solve: solving eigenproblem...\n",
      "    Orbital Energies  Analytic Energies    Errors  Percentage Errors\n",
      "0           0.019972               0.02  0.000028             0.1425\n",
      "1           0.079886               0.08  0.000114             0.1425\n",
      "2           0.179744               0.18  0.000256             0.1425\n",
      "3           0.319544               0.32  0.000456             0.1425\n",
      "4           0.499288               0.50  0.000712             0.1425\n",
      "5           0.718974               0.72  0.001026             0.1425\n",
      "6           0.978604               0.98  0.001396             0.1425\n",
      "7           1.278176               1.28  0.001824             0.1425\n",
      "8           1.617692               1.62  0.002308             0.1425\n",
      "9           1.997150               2.00  0.002850             0.1425\n",
      "10          2.416552               2.42  0.003448             0.1425\n",
      "11          2.875896               2.88  0.004104             0.1425\n",
      "12          3.375184               3.38  0.004816             0.1425\n",
      "13          3.914414               3.92  0.005586             0.1425\n",
      "14          4.493588               4.50  0.006412             0.1425\n",
      "15          5.112704               5.12  0.007296             0.1425\n",
      "16          5.771764               5.78  0.008236             0.1425\n",
      "17          6.470766               6.48  0.009234             0.1425\n",
      "18          7.209712               7.22  0.010288             0.1425\n",
      "19          7.988600               8.00  0.011400             0.1425\n"
     ]
    },
    {
     "data": {
      "application/vnd.jupyter.widget-view+json": {
       "model_id": "a853151a7a9446748853225caf221b0c",
       "version_major": 2,
       "version_minor": 0
      },
      "text/plain": [
       "interactive(children=(IntSlider(value=0, description='k:', max=19), Output()), _dom_classes=('widget-interact'…"
      ]
     },
     "metadata": {},
     "output_type": "display_data"
    },
    {
     "name": "stdout",
     "output_type": "stream",
     "text": [
      "Elapsed time: 102.78148709999914 seconds\n"
     ]
    }
   ],
   "source": [
    "run(5, 2500, 20)"
   ]
  },
  {
   "cell_type": "markdown",
   "id": "c510b5fa-b63f-4eb8-b633-a0ffb5b3d79b",
   "metadata": {},
   "source": [
    "# **Run for `l = 10`, `points = 2500`, `num_of_states = 20`**"
   ]
  },
  {
   "cell_type": "code",
   "execution_count": 107,
   "id": "2c8d486a-e359-41a6-bc72-6fd340021a4c",
   "metadata": {
    "jupyter": {
     "source_hidden": true
    }
   },
   "outputs": [
    {
     "name": "stdout",
     "output_type": "stream",
     "text": [
      "iDEA.methods.interacting.solve: solving eigenproblem...\n",
      "iDEA.methods.interacting.solve: solving eigenproblem...\n",
      "iDEA.methods.interacting.solve: solving eigenproblem...\n",
      "iDEA.methods.interacting.solve: solving eigenproblem...\n",
      "iDEA.methods.interacting.solve: solving eigenproblem...\n",
      "iDEA.methods.interacting.solve: solving eigenproblem...\n",
      "iDEA.methods.interacting.solve: solving eigenproblem...\n",
      "iDEA.methods.interacting.solve: solving eigenproblem...\n",
      "iDEA.methods.interacting.solve: solving eigenproblem...\n",
      "iDEA.methods.interacting.solve: solving eigenproblem...\n",
      "iDEA.methods.interacting.solve: solving eigenproblem...\n",
      "iDEA.methods.interacting.solve: solving eigenproblem...\n",
      "iDEA.methods.interacting.solve: solving eigenproblem...\n",
      "iDEA.methods.interacting.solve: solving eigenproblem...\n",
      "iDEA.methods.interacting.solve: solving eigenproblem...\n",
      "iDEA.methods.interacting.solve: solving eigenproblem...\n",
      "iDEA.methods.interacting.solve: solving eigenproblem...\n",
      "iDEA.methods.interacting.solve: solving eigenproblem...\n",
      "iDEA.methods.interacting.solve: solving eigenproblem...\n",
      "iDEA.methods.interacting.solve: solving eigenproblem...\n",
      "    Orbital Energies  Analytic Energies    Errors  Percentage Errors\n",
      "0           0.004993              0.005  0.000007             0.1425\n",
      "1           0.019972              0.020  0.000028             0.1425\n",
      "2           0.044936              0.045  0.000064             0.1425\n",
      "3           0.079886              0.080  0.000114             0.1425\n",
      "4           0.124822              0.125  0.000178             0.1425\n",
      "5           0.179744              0.180  0.000256             0.1425\n",
      "6           0.244651              0.245  0.000349             0.1425\n",
      "7           0.319544              0.320  0.000456             0.1425\n",
      "8           0.404423              0.405  0.000577             0.1425\n",
      "9           0.499288              0.500  0.000712             0.1425\n",
      "10          0.604138              0.605  0.000862             0.1425\n",
      "11          0.718974              0.720  0.001026             0.1425\n",
      "12          0.843796              0.845  0.001204             0.1425\n",
      "13          0.978604              0.980  0.001396             0.1425\n",
      "14          1.123397              1.125  0.001603             0.1425\n",
      "15          1.278176              1.280  0.001824             0.1425\n",
      "16          1.442941              1.445  0.002059             0.1425\n",
      "17          1.617692              1.620  0.002308             0.1425\n",
      "18          1.802428              1.805  0.002572             0.1425\n",
      "19          1.997150              2.000  0.002850             0.1425\n"
     ]
    },
    {
     "data": {
      "application/vnd.jupyter.widget-view+json": {
       "model_id": "45c376c5ff744defbd9d034a8e91964a",
       "version_major": 2,
       "version_minor": 0
      },
      "text/plain": [
       "interactive(children=(IntSlider(value=0, description='k:', max=19), Output()), _dom_classes=('widget-interact'…"
      ]
     },
     "metadata": {},
     "output_type": "display_data"
    },
    {
     "name": "stdout",
     "output_type": "stream",
     "text": [
      "Elapsed time: 100.55339650000133 seconds\n"
     ]
    }
   ],
   "source": [
    "run(10, 2500, 20)"
   ]
  },
  {
   "cell_type": "markdown",
   "id": "47e64509-bb95-43e6-9e55-2c37c9551d69",
   "metadata": {
    "jp-MarkdownHeadingCollapsed": true
   },
   "source": [
    "# **Run for `l = 15`, `points = 2500`, `num_of_states = 20`**"
   ]
  },
  {
   "cell_type": "code",
   "execution_count": 108,
   "id": "10f285bf-2ac4-4a76-9f56-b4b150faa772",
   "metadata": {
    "jupyter": {
     "source_hidden": true
    }
   },
   "outputs": [
    {
     "name": "stdout",
     "output_type": "stream",
     "text": [
      "iDEA.methods.interacting.solve: solving eigenproblem...\n",
      "iDEA.methods.interacting.solve: solving eigenproblem...\n",
      "iDEA.methods.interacting.solve: solving eigenproblem...\n",
      "iDEA.methods.interacting.solve: solving eigenproblem...\n",
      "iDEA.methods.interacting.solve: solving eigenproblem...\n",
      "iDEA.methods.interacting.solve: solving eigenproblem...\n",
      "iDEA.methods.interacting.solve: solving eigenproblem...\n",
      "iDEA.methods.interacting.solve: solving eigenproblem...\n",
      "iDEA.methods.interacting.solve: solving eigenproblem...\n",
      "iDEA.methods.interacting.solve: solving eigenproblem...\n",
      "iDEA.methods.interacting.solve: solving eigenproblem...\n",
      "iDEA.methods.interacting.solve: solving eigenproblem...\n",
      "iDEA.methods.interacting.solve: solving eigenproblem...\n",
      "iDEA.methods.interacting.solve: solving eigenproblem...\n",
      "iDEA.methods.interacting.solve: solving eigenproblem...\n",
      "iDEA.methods.interacting.solve: solving eigenproblem...\n",
      "iDEA.methods.interacting.solve: solving eigenproblem...\n",
      "iDEA.methods.interacting.solve: solving eigenproblem...\n",
      "iDEA.methods.interacting.solve: solving eigenproblem...\n",
      "iDEA.methods.interacting.solve: solving eigenproblem...\n",
      "    Orbital Energies  Analytic Energies    Errors  Percentage Errors\n",
      "0           0.002219           0.002222  0.000003             0.1425\n",
      "1           0.008876           0.008889  0.000013             0.1425\n",
      "2           0.019972           0.020000  0.000028             0.1425\n",
      "3           0.035505           0.035556  0.000051             0.1425\n",
      "4           0.055476           0.055556  0.000079             0.1425\n",
      "5           0.079886           0.080000  0.000114             0.1425\n",
      "6           0.108734           0.108889  0.000155             0.1425\n",
      "7           0.142020           0.142222  0.000203             0.1425\n",
      "8           0.179744           0.180000  0.000256             0.1425\n",
      "9           0.221906           0.222222  0.000317             0.1425\n",
      "10          0.268506           0.268889  0.000383             0.1425\n",
      "11          0.319544           0.320000  0.000456             0.1425\n",
      "12          0.375020           0.375556  0.000535             0.1425\n",
      "13          0.434935           0.435556  0.000621             0.1425\n",
      "14          0.499288           0.500000  0.000712             0.1425\n",
      "15          0.568078           0.568889  0.000811             0.1425\n",
      "16          0.641307           0.642222  0.000915             0.1425\n",
      "17          0.718974           0.720000  0.001026             0.1425\n",
      "18          0.801079           0.802222  0.001143             0.1425\n",
      "19          0.887622           0.888889  0.001267             0.1425\n"
     ]
    },
    {
     "data": {
      "application/vnd.jupyter.widget-view+json": {
       "model_id": "62073cf7e5c244dcb9f79c42e77c036d",
       "version_major": 2,
       "version_minor": 0
      },
      "text/plain": [
       "interactive(children=(IntSlider(value=0, description='k:', max=19), Output()), _dom_classes=('widget-interact'…"
      ]
     },
     "metadata": {},
     "output_type": "display_data"
    },
    {
     "name": "stdout",
     "output_type": "stream",
     "text": [
      "Elapsed time: 105.48868749999929 seconds\n"
     ]
    }
   ],
   "source": [
    "run(15, 2500, 20)"
   ]
  },
  {
   "cell_type": "markdown",
   "id": "6cc745a4-8394-4b2c-925f-34845309dce6",
   "metadata": {},
   "source": [
    "# **Run for `l = 1`, `points = 2500`, `num_of_states = 20`**"
   ]
  },
  {
   "cell_type": "code",
   "execution_count": 109,
   "id": "319f38da-2b7b-463b-ad54-2293fcead546",
   "metadata": {},
   "outputs": [
    {
     "name": "stdout",
     "output_type": "stream",
     "text": [
      "iDEA.methods.interacting.solve: solving eigenproblem...\n",
      "iDEA.methods.interacting.solve: solving eigenproblem...\n",
      "iDEA.methods.interacting.solve: solving eigenproblem...\n",
      "iDEA.methods.interacting.solve: solving eigenproblem...\n",
      "iDEA.methods.interacting.solve: solving eigenproblem...\n",
      "iDEA.methods.interacting.solve: solving eigenproblem...\n",
      "iDEA.methods.interacting.solve: solving eigenproblem...\n",
      "iDEA.methods.interacting.solve: solving eigenproblem...\n",
      "iDEA.methods.interacting.solve: solving eigenproblem...\n",
      "iDEA.methods.interacting.solve: solving eigenproblem...\n",
      "iDEA.methods.interacting.solve: solving eigenproblem...\n",
      "iDEA.methods.interacting.solve: solving eigenproblem...\n",
      "iDEA.methods.interacting.solve: solving eigenproblem...\n",
      "iDEA.methods.interacting.solve: solving eigenproblem...\n",
      "iDEA.methods.interacting.solve: solving eigenproblem...\n",
      "iDEA.methods.interacting.solve: solving eigenproblem...\n",
      "iDEA.methods.interacting.solve: solving eigenproblem...\n",
      "iDEA.methods.interacting.solve: solving eigenproblem...\n",
      "iDEA.methods.interacting.solve: solving eigenproblem...\n",
      "iDEA.methods.interacting.solve: solving eigenproblem...\n",
      "    Orbital Energies  Analytic Energies    Errors  Percentage Errors\n",
      "0           0.499288                0.5  0.000712             0.1425\n",
      "1           1.997150                2.0  0.002850             0.1425\n",
      "2           4.493588                4.5  0.006412             0.1425\n",
      "3           7.988600                8.0  0.011400             0.1425\n",
      "4          12.482188               12.5  0.017812             0.1425\n",
      "5          17.974350               18.0  0.025650             0.1425\n",
      "6          24.465088               24.5  0.034912             0.1425\n",
      "7          31.954400               32.0  0.045600             0.1425\n",
      "8          40.442288               40.5  0.057712             0.1425\n",
      "9          49.928750               50.0  0.071250             0.1425\n",
      "10         60.413788               60.5  0.086212             0.1425\n",
      "11         71.897400               72.0  0.102600             0.1425\n",
      "12         84.379588               84.5  0.120412             0.1425\n",
      "13         97.860350               98.0  0.139650             0.1425\n",
      "14        112.339688              112.5  0.160312             0.1425\n",
      "15        127.817600              128.0  0.182400             0.1425\n",
      "16        144.294088              144.5  0.205912             0.1425\n",
      "17        161.769150              162.0  0.230850             0.1425\n",
      "18        180.242788              180.5  0.257212             0.1425\n",
      "19        199.715000              200.0  0.285000             0.1425\n"
     ]
    },
    {
     "data": {
      "application/vnd.jupyter.widget-view+json": {
       "model_id": "ff213532d3d94a6786311e3ad261371e",
       "version_major": 2,
       "version_minor": 0
      },
      "text/plain": [
       "interactive(children=(IntSlider(value=0, description='k:', max=19), Output()), _dom_classes=('widget-interact'…"
      ]
     },
     "metadata": {},
     "output_type": "display_data"
    },
    {
     "name": "stdout",
     "output_type": "stream",
     "text": [
      "Elapsed time: 106.79851319999943 seconds\n"
     ]
    }
   ],
   "source": [
    "run(1, 2500, 20)"
   ]
  },
  {
   "cell_type": "markdown",
   "id": "5392a877-a73e-4ede-85ac-16afd6a134e0",
   "metadata": {},
   "source": [
    "# **Run for `l = 5`, `points = 3000`, `num_of_states = 20`**"
   ]
  },
  {
   "cell_type": "code",
   "execution_count": 6,
   "id": "b8a8a061-c250-4437-9e76-7f8ef910b00d",
   "metadata": {},
   "outputs": [
    {
     "name": "stdout",
     "output_type": "stream",
     "text": [
      "iDEA.methods.interacting.solve: solving eigenproblem...\n",
      "iDEA.methods.interacting.solve: solving eigenproblem...\n",
      "iDEA.methods.interacting.solve: solving eigenproblem...\n",
      "iDEA.methods.interacting.solve: solving eigenproblem...\n",
      "iDEA.methods.interacting.solve: solving eigenproblem...\n",
      "iDEA.methods.interacting.solve: solving eigenproblem...\n",
      "iDEA.methods.interacting.solve: solving eigenproblem...\n",
      "iDEA.methods.interacting.solve: solving eigenproblem...\n",
      "iDEA.methods.interacting.solve: solving eigenproblem...\n",
      "iDEA.methods.interacting.solve: solving eigenproblem...\n",
      "iDEA.methods.interacting.solve: solving eigenproblem...\n",
      "iDEA.methods.interacting.solve: solving eigenproblem...\n",
      "iDEA.methods.interacting.solve: solving eigenproblem...\n",
      "iDEA.methods.interacting.solve: solving eigenproblem...\n",
      "iDEA.methods.interacting.solve: solving eigenproblem...\n",
      "iDEA.methods.interacting.solve: solving eigenproblem...\n",
      "iDEA.methods.interacting.solve: solving eigenproblem...\n",
      "iDEA.methods.interacting.solve: solving eigenproblem...\n",
      "iDEA.methods.interacting.solve: solving eigenproblem...\n",
      "iDEA.methods.interacting.solve: solving eigenproblem...\n",
      "    Orbital Energies  Analytic Energies    Errors  Percentage Errors\n",
      "0           0.019976               0.02  0.000024           0.118763\n",
      "1           0.079905               0.08  0.000095           0.118763\n",
      "2           0.179786               0.18  0.000214           0.118763\n",
      "3           0.319620               0.32  0.000380           0.118763\n",
      "4           0.499406               0.50  0.000594           0.118763\n",
      "5           0.719145               0.72  0.000855           0.118763\n",
      "6           0.978836               0.98  0.001164           0.118763\n",
      "7           1.278480               1.28  0.001520           0.118763\n",
      "8           1.618076               1.62  0.001924           0.118763\n",
      "9           1.997625               2.00  0.002375           0.118763\n",
      "10          2.417126               2.42  0.002874           0.118763\n",
      "11          2.876580               2.88  0.003420           0.118763\n",
      "12          3.375986               3.38  0.004014           0.118763\n",
      "13          3.915344               3.92  0.004656           0.118763\n",
      "14          4.494656               4.50  0.005344           0.118763\n",
      "15          5.113919               5.12  0.006081           0.118763\n",
      "16          5.773135               5.78  0.006865           0.118763\n",
      "17          6.472304               6.48  0.007696           0.118763\n",
      "18          7.211425               7.22  0.008575           0.118763\n",
      "19          7.990499               8.00  0.009501           0.118763\n"
     ]
    },
    {
     "data": {
      "application/vnd.jupyter.widget-view+json": {
       "model_id": "ebebe3ba44c34e77a809e49b3c66e27c",
       "version_major": 2,
       "version_minor": 0
      },
      "text/plain": [
       "interactive(children=(IntSlider(value=0, description='k:', max=19), Output()), _dom_classes=('widget-interact'…"
      ]
     },
     "metadata": {},
     "output_type": "display_data"
    },
    {
     "name": "stdout",
     "output_type": "stream",
     "text": [
      "Elapsed time: 217.94491040000867 seconds\n"
     ]
    }
   ],
   "source": [
    "run(5, 3000, 20)"
   ]
  },
  {
   "cell_type": "code",
   "execution_count": 6,
   "id": "47a34e5b-e5f0-4496-b080-30bf08892266",
   "metadata": {},
   "outputs": [
    {
     "name": "stdout",
     "output_type": "stream",
     "text": [
      "iDEA.methods.interacting.solve: solving eigenproblem...\n",
      "iDEA.methods.interacting.solve: solving eigenproblem...\n",
      "iDEA.methods.interacting.solve: solving eigenproblem...\n",
      "iDEA.methods.interacting.solve: solving eigenproblem...\n",
      "iDEA.methods.interacting.solve: solving eigenproblem...\n",
      "iDEA.methods.interacting.solve: solving eigenproblem...\n",
      "iDEA.methods.interacting.solve: solving eigenproblem...\n",
      "iDEA.methods.interacting.solve: solving eigenproblem...\n",
      "iDEA.methods.interacting.solve: solving eigenproblem...\n",
      "iDEA.methods.interacting.solve: solving eigenproblem...\n",
      "   Orbital Energies  Analytic Energies    Errors  Percentage Errors\n",
      "0          0.019929               0.02  0.000071           0.355892\n",
      "1          0.079715               0.08  0.000285           0.355892\n",
      "2          0.179359               0.18  0.000641           0.355892\n",
      "3          0.318861               0.32  0.001139           0.355892\n",
      "4          0.498221               0.50  0.001779           0.355892\n",
      "5          0.717438               0.72  0.002562           0.355892\n",
      "6          0.976512               0.98  0.003488           0.355892\n",
      "7          1.275445               1.28  0.004555           0.355892\n",
      "8          1.614235               1.62  0.005765           0.355892\n",
      "9          1.992882               2.00  0.007118           0.355893\n"
     ]
    },
    {
     "data": {
      "application/vnd.jupyter.widget-view+json": {
       "model_id": "c35181de636747f29b318b18364e3f17",
       "version_major": 2,
       "version_minor": 0
      },
      "text/plain": [
       "interactive(children=(IntSlider(value=0, description='k:', max=9), Output()), _dom_classes=('widget-interact',…"
      ]
     },
     "metadata": {},
     "output_type": "display_data"
    },
    {
     "name": "stdout",
     "output_type": "stream",
     "text": [
      "Elapsed time: 23.96300749999955 seconds\n"
     ]
    }
   ],
   "source": [
    "run(5, 1000, 10)"
   ]
  },
  {
   "cell_type": "markdown",
   "id": "57f3e824-cd6f-4047-94d0-20ee831eed30",
   "metadata": {},
   "source": [
    "# **Summary**"
   ]
  },
  {
   "cell_type": "code",
   "execution_count": 111,
   "id": "f6e624fa-c0c1-4b36-9463-73f20c2f7a85",
   "metadata": {
    "jupyter": {
     "source_hidden": true
    }
   },
   "outputs": [
    {
     "name": "stdout",
     "output_type": "stream",
     "text": [
      "    l  points  num_of_states     elpased  max_error\n",
      "0   1     100             20    1.401393   3.509053\n",
      "1   1     500             20    3.805706   0.710618\n",
      "2   5     500             20    3.361980   0.710618\n",
      "3   5    1000             20   13.659778   0.355895\n",
      "4   5    2500             20  102.781487   0.142500\n",
      "5  10    2500             20  100.553397   0.142500\n",
      "6  15    2500             20  105.488687   0.142500\n",
      "7   1    2500             20  106.798513   0.142500\n",
      "8   5    3000             20  159.867831   0.118763\n"
     ]
    }
   ],
   "source": [
    "df = pd.DataFrame(summary, columns=[\"l\", \"points\", \"num_of_states\", \"elpased\", \"max_error\"])\n",
    "\n",
    "    # Display the DataFrame\n",
    "print(df)"
   ]
  }
 ],
 "metadata": {
  "kernelspec": {
   "display_name": "Python 3 (ipykernel)",
   "language": "python",
   "name": "python3"
  },
  "language_info": {
   "codemirror_mode": {
    "name": "ipython",
    "version": 3
   },
   "file_extension": ".py",
   "mimetype": "text/x-python",
   "name": "python",
   "nbconvert_exporter": "python",
   "pygments_lexer": "ipython3",
   "version": "3.12.4"
  }
 },
 "nbformat": 4,
 "nbformat_minor": 5
}
